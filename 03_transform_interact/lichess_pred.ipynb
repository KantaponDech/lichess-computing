{
  "nbformat": 4,
  "nbformat_minor": 0,
  "metadata": {
    "colab": {
      "name": "lichess_pred.ipynb",
      "provenance": [],
      "collapsed_sections": []
    },
    "kernelspec": {
      "display_name": "Python 3",
      "name": "python3"
    },
    "language_info": {
      "name": "python"
    }
  },
  "cells": [
    {
      "cell_type": "markdown",
      "metadata": {
        "id": "oRcFO8ylNDRx"
      },
      "source": [
        "# **Prepare Data**"
      ]
    },
    {
      "cell_type": "code",
      "metadata": {
        "id": "yHet2s80Tt0V"
      },
      "source": [
        "import pandas as pd\n",
        "import numpy as np\n",
        "import matplotlib.pyplot as plt"
      ],
      "execution_count": 1,
      "outputs": []
    },
    {
      "cell_type": "code",
      "metadata": {
        "id": "UpD2TYHsZNqK"
      },
      "source": [
        "df = pd.read_csv(\"/content/drive/MyDrive/lichess.csv\", delimiter = \",\", encoding = \"utf-8\")"
      ],
      "execution_count": 2,
      "outputs": []
    },
    {
      "cell_type": "markdown",
      "metadata": {
        "id": "tYJhBn90Nrrw"
      },
      "source": [
        "Descriptive statistics"
      ]
    },
    {
      "cell_type": "code",
      "metadata": {
        "id": "cX6iChoGBeBb",
        "colab": {
          "base_uri": "https://localhost:8080/"
        },
        "outputId": "31131a6e-6714-4fcb-8ad2-362e9b828793"
      },
      "source": [
        "df.info()"
      ],
      "execution_count": 3,
      "outputs": [
        {
          "output_type": "stream",
          "text": [
            "<class 'pandas.core.frame.DataFrame'>\n",
            "RangeIndex: 3386423 entries, 0 to 3386422\n",
            "Data columns (total 19 columns):\n",
            " #   Column           Dtype  \n",
            "---  ------           -----  \n",
            " 0   event            object \n",
            " 1   white            object \n",
            " 2   black            object \n",
            " 3   result           object \n",
            " 4   UTCDate          object \n",
            " 5   day              int64  \n",
            " 6   month            int64  \n",
            " 7   year             int64  \n",
            " 8   UTCTime          object \n",
            " 9   whiteELO         float64\n",
            " 10  blackELO         float64\n",
            " 11  RatingDiff       float64\n",
            " 12  whiteRatingDiff  float64\n",
            " 13  blackRatingDiff  float64\n",
            " 14  ECO              object \n",
            " 15  opening          object \n",
            " 16  timeControl      object \n",
            " 17  termination      object \n",
            " 18  totalMove        int64  \n",
            "dtypes: float64(5), int64(4), object(10)\n",
            "memory usage: 490.9+ MB\n"
          ],
          "name": "stdout"
        }
      ]
    },
    {
      "cell_type": "code",
      "metadata": {
        "colab": {
          "base_uri": "https://localhost:8080/"
        },
        "id": "1OnlxqkgBjNk",
        "outputId": "7dc264a8-dbde-4ddb-f515-2251df0efa3a"
      },
      "source": [
        "df.nunique()"
      ],
      "execution_count": 4,
      "outputs": [
        {
          "output_type": "execute_result",
          "data": {
            "text/plain": [
              "event                  7\n",
              "white              60997\n",
              "black              62355\n",
              "result                 3\n",
              "UTCDate              366\n",
              "day                   31\n",
              "month                 12\n",
              "year                   2\n",
              "UTCTime            86400\n",
              "whiteELO            1749\n",
              "blackELO            1768\n",
              "RatingDiff          1141\n",
              "whiteRatingDiff     1140\n",
              "blackRatingDiff     1153\n",
              "ECO                  489\n",
              "opening             2771\n",
              "timeControl          978\n",
              "termination            3\n",
              "totalMove            168\n",
              "dtype: int64"
            ]
          },
          "metadata": {
            "tags": []
          },
          "execution_count": 4
        }
      ]
    },
    {
      "cell_type": "code",
      "metadata": {
        "colab": {
          "base_uri": "https://localhost:8080/",
          "height": 289
        },
        "id": "NUATHc_YZuNn",
        "outputId": "59b984e0-4d80-4c01-c80e-54f857b54104"
      },
      "source": [
        "df.head()"
      ],
      "execution_count": 5,
      "outputs": [
        {
          "output_type": "execute_result",
          "data": {
            "text/html": [
              "<div>\n",
              "<style scoped>\n",
              "    .dataframe tbody tr th:only-of-type {\n",
              "        vertical-align: middle;\n",
              "    }\n",
              "\n",
              "    .dataframe tbody tr th {\n",
              "        vertical-align: top;\n",
              "    }\n",
              "\n",
              "    .dataframe thead th {\n",
              "        text-align: right;\n",
              "    }\n",
              "</style>\n",
              "<table border=\"1\" class=\"dataframe\">\n",
              "  <thead>\n",
              "    <tr style=\"text-align: right;\">\n",
              "      <th></th>\n",
              "      <th>event</th>\n",
              "      <th>white</th>\n",
              "      <th>black</th>\n",
              "      <th>result</th>\n",
              "      <th>UTCDate</th>\n",
              "      <th>day</th>\n",
              "      <th>month</th>\n",
              "      <th>year</th>\n",
              "      <th>UTCTime</th>\n",
              "      <th>whiteELO</th>\n",
              "      <th>blackELO</th>\n",
              "      <th>RatingDiff</th>\n",
              "      <th>whiteRatingDiff</th>\n",
              "      <th>blackRatingDiff</th>\n",
              "      <th>ECO</th>\n",
              "      <th>opening</th>\n",
              "      <th>timeControl</th>\n",
              "      <th>termination</th>\n",
              "      <th>totalMove</th>\n",
              "    </tr>\n",
              "  </thead>\n",
              "  <tbody>\n",
              "    <tr>\n",
              "      <th>0</th>\n",
              "      <td>Rated Correspondence game</td>\n",
              "      <td>felixrbran</td>\n",
              "      <td>wiles</td>\n",
              "      <td>0-1</td>\n",
              "      <td>2013.07.02</td>\n",
              "      <td>2</td>\n",
              "      <td>7</td>\n",
              "      <td>2013</td>\n",
              "      <td>21:16:17</td>\n",
              "      <td>1398.0</td>\n",
              "      <td>1767.0</td>\n",
              "      <td>369.0</td>\n",
              "      <td>-3.0</td>\n",
              "      <td>3.0</td>\n",
              "      <td>A00</td>\n",
              "      <td>Polish Opening</td>\n",
              "      <td>NaN</td>\n",
              "      <td>Normal</td>\n",
              "      <td>25</td>\n",
              "    </tr>\n",
              "    <tr>\n",
              "      <th>1</th>\n",
              "      <td>Rated Correspondence game</td>\n",
              "      <td>singhk</td>\n",
              "      <td>bhangooj</td>\n",
              "      <td>0-1</td>\n",
              "      <td>2013.07.12</td>\n",
              "      <td>12</td>\n",
              "      <td>7</td>\n",
              "      <td>2013</td>\n",
              "      <td>04:25:22</td>\n",
              "      <td>1538.0</td>\n",
              "      <td>1461.0</td>\n",
              "      <td>77.0</td>\n",
              "      <td>-113.0</td>\n",
              "      <td>113.0</td>\n",
              "      <td>A00</td>\n",
              "      <td>Grob Opening</td>\n",
              "      <td>NaN</td>\n",
              "      <td>Normal</td>\n",
              "      <td>10</td>\n",
              "    </tr>\n",
              "    <tr>\n",
              "      <th>2</th>\n",
              "      <td>Rated Correspondence game</td>\n",
              "      <td>Mrkvak</td>\n",
              "      <td>?</td>\n",
              "      <td>1-0</td>\n",
              "      <td>2013.04.04</td>\n",
              "      <td>4</td>\n",
              "      <td>4</td>\n",
              "      <td>2013</td>\n",
              "      <td>19:44:52</td>\n",
              "      <td>NaN</td>\n",
              "      <td>NaN</td>\n",
              "      <td>NaN</td>\n",
              "      <td>NaN</td>\n",
              "      <td>NaN</td>\n",
              "      <td>A01</td>\n",
              "      <td>Nimzo-Larsen Attack: Modern Variation #4</td>\n",
              "      <td>NaN</td>\n",
              "      <td>Normal</td>\n",
              "      <td>38</td>\n",
              "    </tr>\n",
              "    <tr>\n",
              "      <th>3</th>\n",
              "      <td>Rated Correspondence game</td>\n",
              "      <td>Unknown Player</td>\n",
              "      <td>CaLiBRe</td>\n",
              "      <td>1-0</td>\n",
              "      <td>2013.04.09</td>\n",
              "      <td>9</td>\n",
              "      <td>4</td>\n",
              "      <td>2013</td>\n",
              "      <td>19:09:36</td>\n",
              "      <td>NaN</td>\n",
              "      <td>NaN</td>\n",
              "      <td>NaN</td>\n",
              "      <td>NaN</td>\n",
              "      <td>NaN</td>\n",
              "      <td>B01</td>\n",
              "      <td>Scandinavian Defense</td>\n",
              "      <td>NaN</td>\n",
              "      <td>Normal</td>\n",
              "      <td>20</td>\n",
              "    </tr>\n",
              "    <tr>\n",
              "      <th>4</th>\n",
              "      <td>Rated Correspondence game</td>\n",
              "      <td>dbalka</td>\n",
              "      <td>Polinusik</td>\n",
              "      <td>1-0</td>\n",
              "      <td>2013.04.11</td>\n",
              "      <td>11</td>\n",
              "      <td>4</td>\n",
              "      <td>2013</td>\n",
              "      <td>19:43:45</td>\n",
              "      <td>1682.0</td>\n",
              "      <td>1122.0</td>\n",
              "      <td>560.0</td>\n",
              "      <td>2.0</td>\n",
              "      <td>-5.0</td>\n",
              "      <td>B02</td>\n",
              "      <td>Alekhine Defense: Mokele Mbembe</td>\n",
              "      <td>NaN</td>\n",
              "      <td>Normal</td>\n",
              "      <td>23</td>\n",
              "    </tr>\n",
              "  </tbody>\n",
              "</table>\n",
              "</div>"
            ],
            "text/plain": [
              "                       event           white  ... termination totalMove\n",
              "0  Rated Correspondence game      felixrbran  ...      Normal        25\n",
              "1  Rated Correspondence game          singhk  ...      Normal        10\n",
              "2  Rated Correspondence game          Mrkvak  ...      Normal        38\n",
              "3  Rated Correspondence game  Unknown Player  ...      Normal        20\n",
              "4  Rated Correspondence game          dbalka  ...      Normal        23\n",
              "\n",
              "[5 rows x 19 columns]"
            ]
          },
          "metadata": {
            "tags": []
          },
          "execution_count": 5
        }
      ]
    },
    {
      "cell_type": "code",
      "metadata": {
        "colab": {
          "base_uri": "https://localhost:8080/",
          "height": 297
        },
        "id": "l9MdiBq-aoRo",
        "outputId": "57357f73-c1e0-4929-d5fb-ff45eec53c3f"
      },
      "source": [
        "round(df.describe(), 3)"
      ],
      "execution_count": 6,
      "outputs": [
        {
          "output_type": "execute_result",
          "data": {
            "text/html": [
              "<div>\n",
              "<style scoped>\n",
              "    .dataframe tbody tr th:only-of-type {\n",
              "        vertical-align: middle;\n",
              "    }\n",
              "\n",
              "    .dataframe tbody tr th {\n",
              "        vertical-align: top;\n",
              "    }\n",
              "\n",
              "    .dataframe thead th {\n",
              "        text-align: right;\n",
              "    }\n",
              "</style>\n",
              "<table border=\"1\" class=\"dataframe\">\n",
              "  <thead>\n",
              "    <tr style=\"text-align: right;\">\n",
              "      <th></th>\n",
              "      <th>day</th>\n",
              "      <th>month</th>\n",
              "      <th>year</th>\n",
              "      <th>whiteELO</th>\n",
              "      <th>blackELO</th>\n",
              "      <th>RatingDiff</th>\n",
              "      <th>whiteRatingDiff</th>\n",
              "      <th>blackRatingDiff</th>\n",
              "      <th>totalMove</th>\n",
              "    </tr>\n",
              "  </thead>\n",
              "  <tbody>\n",
              "    <tr>\n",
              "      <th>count</th>\n",
              "      <td>3386423.000</td>\n",
              "      <td>3386423.000</td>\n",
              "      <td>3386423.000</td>\n",
              "      <td>3380733.000</td>\n",
              "      <td>3380733.000</td>\n",
              "      <td>3380733.000</td>\n",
              "      <td>3380733.000</td>\n",
              "      <td>3380733.000</td>\n",
              "      <td>3386423.000</td>\n",
              "    </tr>\n",
              "    <tr>\n",
              "      <th>mean</th>\n",
              "      <td>16.167</td>\n",
              "      <td>8.182</td>\n",
              "      <td>2013.000</td>\n",
              "      <td>1613.270</td>\n",
              "      <td>1603.674</td>\n",
              "      <td>153.787</td>\n",
              "      <td>0.190</td>\n",
              "      <td>-1.751</td>\n",
              "      <td>33.761</td>\n",
              "    </tr>\n",
              "    <tr>\n",
              "      <th>std</th>\n",
              "      <td>8.836</td>\n",
              "      <td>3.224</td>\n",
              "      <td>0.006</td>\n",
              "      <td>213.715</td>\n",
              "      <td>219.879</td>\n",
              "      <td>132.403</td>\n",
              "      <td>34.322</td>\n",
              "      <td>39.031</td>\n",
              "      <td>16.016</td>\n",
              "    </tr>\n",
              "    <tr>\n",
              "      <th>min</th>\n",
              "      <td>1.000</td>\n",
              "      <td>1.000</td>\n",
              "      <td>2012.000</td>\n",
              "      <td>758.000</td>\n",
              "      <td>735.000</td>\n",
              "      <td>0.000</td>\n",
              "      <td>-620.000</td>\n",
              "      <td>-618.000</td>\n",
              "      <td>0.000</td>\n",
              "    </tr>\n",
              "    <tr>\n",
              "      <th>25%</th>\n",
              "      <td>9.000</td>\n",
              "      <td>6.000</td>\n",
              "      <td>2013.000</td>\n",
              "      <td>1473.000</td>\n",
              "      <td>1462.000</td>\n",
              "      <td>54.000</td>\n",
              "      <td>-10.000</td>\n",
              "      <td>-11.000</td>\n",
              "      <td>23.000</td>\n",
              "    </tr>\n",
              "    <tr>\n",
              "      <th>50%</th>\n",
              "      <td>16.000</td>\n",
              "      <td>9.000</td>\n",
              "      <td>2013.000</td>\n",
              "      <td>1611.000</td>\n",
              "      <td>1599.000</td>\n",
              "      <td>119.000</td>\n",
              "      <td>2.000</td>\n",
              "      <td>-3.000</td>\n",
              "      <td>32.000</td>\n",
              "    </tr>\n",
              "    <tr>\n",
              "      <th>75%</th>\n",
              "      <td>24.000</td>\n",
              "      <td>11.000</td>\n",
              "      <td>2013.000</td>\n",
              "      <td>1753.000</td>\n",
              "      <td>1747.000</td>\n",
              "      <td>216.000</td>\n",
              "      <td>10.000</td>\n",
              "      <td>10.000</td>\n",
              "      <td>43.000</td>\n",
              "    </tr>\n",
              "    <tr>\n",
              "      <th>max</th>\n",
              "      <td>31.000</td>\n",
              "      <td>12.000</td>\n",
              "      <td>2013.000</td>\n",
              "      <td>2581.000</td>\n",
              "      <td>2600.000</td>\n",
              "      <td>1376.000</td>\n",
              "      <td>638.000</td>\n",
              "      <td>649.000</td>\n",
              "      <td>191.000</td>\n",
              "    </tr>\n",
              "  </tbody>\n",
              "</table>\n",
              "</div>"
            ],
            "text/plain": [
              "               day        month  ...  blackRatingDiff    totalMove\n",
              "count  3386423.000  3386423.000  ...      3380733.000  3386423.000\n",
              "mean        16.167        8.182  ...           -1.751       33.761\n",
              "std          8.836        3.224  ...           39.031       16.016\n",
              "min          1.000        1.000  ...         -618.000        0.000\n",
              "25%          9.000        6.000  ...          -11.000       23.000\n",
              "50%         16.000        9.000  ...           -3.000       32.000\n",
              "75%         24.000       11.000  ...           10.000       43.000\n",
              "max         31.000       12.000  ...          649.000      191.000\n",
              "\n",
              "[8 rows x 9 columns]"
            ]
          },
          "metadata": {
            "tags": []
          },
          "execution_count": 6
        }
      ]
    },
    {
      "cell_type": "code",
      "metadata": {
        "colab": {
          "base_uri": "https://localhost:8080/",
          "height": 479
        },
        "id": "i_LBGsFwHPXz",
        "outputId": "26d06116-3d38-418f-ecfb-7a2ef966d681"
      },
      "source": [
        "plt.figure(dpi = 100)\n",
        "plt.hist(df[\"whiteELO\"])"
      ],
      "execution_count": 7,
      "outputs": [
        {
          "output_type": "execute_result",
          "data": {
            "text/plain": [
              "(array([3.305000e+03, 3.371700e+04, 2.019540e+05, 6.790650e+05,\n",
              "        1.139883e+06, 8.856240e+05, 3.402940e+05, 8.611800e+04,\n",
              "        1.051800e+04, 2.550000e+02]),\n",
              " array([ 758. ,  940.3, 1122.6, 1304.9, 1487.2, 1669.5, 1851.8, 2034.1,\n",
              "        2216.4, 2398.7, 2581. ]),\n",
              " <a list of 10 Patch objects>)"
            ]
          },
          "metadata": {
            "tags": []
          },
          "execution_count": 7
        },
        {
          "output_type": "display_data",
          "data": {
            "image/png": "[encoded data removed]",
            "text/plain": [
              "<Figure size 600x400 with 1 Axes>"
            ]
          },
          "metadata": {
            "tags": [],
            "needs_background": "light"
          }
        }
      ]
    },
    {
      "cell_type": "code",
      "metadata": {
        "colab": {
          "base_uri": "https://localhost:8080/",
          "height": 462
        },
        "id": "uh2QV5K3HPiZ",
        "outputId": "86a48db1-a5e9-4c55-962b-53e0ca4384af"
      },
      "source": [
        "plt.figure(dpi = 100)\n",
        "plt.hist(df[\"blackELO\"])"
      ],
      "execution_count": 8,
      "outputs": [
        {
          "output_type": "execute_result",
          "data": {
            "text/plain": [
              "(array([3.51600e+03, 3.77500e+04, 2.18497e+05, 6.74524e+05, 1.17493e+06,\n",
              "        8.45662e+05, 3.30081e+05, 8.55040e+04, 1.00240e+04, 2.45000e+02]),\n",
              " array([ 735. ,  921.5, 1108. , 1294.5, 1481. , 1667.5, 1854. , 2040.5,\n",
              "        2227. , 2413.5, 2600. ]),\n",
              " <a list of 10 Patch objects>)"
            ]
          },
          "metadata": {
            "tags": []
          },
          "execution_count": 8
        },
        {
          "output_type": "display_data",
          "data": {
            "image/png": "[encoded data removed]",
            "text/plain": [
              "<Figure size 600x400 with 1 Axes>"
            ]
          },
          "metadata": {
            "tags": [],
            "needs_background": "light"
          }
        }
      ]
    },
    {
      "cell_type": "code",
      "metadata": {
        "colab": {
          "base_uri": "https://localhost:8080/",
          "height": 379
        },
        "id": "gQD4vy_ha46I",
        "outputId": "ef24c221-5827-49cc-dbeb-2a89acbaa59b"
      },
      "source": [
        "plt.figure(dpi = 100)\n",
        "plt.scatter(df[\"whiteELO\"], df[\"blackELO\"], s = 1)"
      ],
      "execution_count": 9,
      "outputs": [
        {
          "output_type": "execute_result",
          "data": {
            "text/plain": [
              "<matplotlib.collections.PathCollection at 0x7f8e1ead0610>"
            ]
          },
          "metadata": {
            "tags": []
          },
          "execution_count": 9
        },
        {
          "output_type": "display_data",
          "data": {
            "image/png": "[encoded data removed]",
            "text/plain": [
              "<Figure size 600x400 with 1 Axes>"
            ]
          },
          "metadata": {
            "tags": [],
            "needs_background": "light"
          }
        }
      ]
    },
    {
      "cell_type": "code",
      "metadata": {
        "colab": {
          "base_uri": "https://localhost:8080/",
          "height": 479
        },
        "id": "eF-beYYEZ8H4",
        "outputId": "8d6b37b7-8a94-4aa0-8fcf-b96b4146701e"
      },
      "source": [
        "plt.figure(dpi = 100)\n",
        "plt.hist(df[\"RatingDiff\"])"
      ],
      "execution_count": 10,
      "outputs": [
        {
          "output_type": "execute_result",
          "data": {
            "text/plain": [
              "(array([1.888853e+06, 9.534930e+05, 3.618240e+05, 1.247050e+05,\n",
              "        3.821800e+04, 1.073100e+04, 2.290000e+03, 5.410000e+02,\n",
              "        6.800000e+01, 1.000000e+01]),\n",
              " array([   0. ,  137.6,  275.2,  412.8,  550.4,  688. ,  825.6,  963.2,\n",
              "        1100.8, 1238.4, 1376. ]),\n",
              " <a list of 10 Patch objects>)"
            ]
          },
          "metadata": {
            "tags": []
          },
          "execution_count": 10
        },
        {
          "output_type": "display_data",
          "data": {
            "image/png": "[encoded data removed]",
            "text/plain": [
              "<Figure size 600x400 with 1 Axes>"
            ]
          },
          "metadata": {
            "tags": [],
            "needs_background": "light"
          }
        }
      ]
    },
    {
      "cell_type": "code",
      "metadata": {
        "colab": {
          "base_uri": "https://localhost:8080/",
          "height": 479
        },
        "id": "vGPTkTVxHf86",
        "outputId": "0c4c296b-3b53-4597-8d8b-6942001db50c"
      },
      "source": [
        "plt.figure(dpi = 100)\n",
        "plt.hist(df[\"totalMove\"])"
      ],
      "execution_count": 11,
      "outputs": [
        {
          "output_type": "execute_result",
          "data": {
            "text/plain": [
              "(array([5.999770e+05, 1.651938e+06, 8.541940e+05, 2.383920e+05,\n",
              "        3.582300e+04, 5.001000e+03, 9.240000e+02, 1.510000e+02,\n",
              "        1.900000e+01, 4.000000e+00]),\n",
              " array([  0. ,  19.1,  38.2,  57.3,  76.4,  95.5, 114.6, 133.7, 152.8,\n",
              "        171.9, 191. ]),\n",
              " <a list of 10 Patch objects>)"
            ]
          },
          "metadata": {
            "tags": []
          },
          "execution_count": 11
        },
        {
          "output_type": "display_data",
          "data": {
            "image/png": "[encoded data removed]",
            "text/plain": [
              "<Figure size 600x400 with 1 Axes>"
            ]
          },
          "metadata": {
            "tags": [],
            "needs_background": "light"
          }
        }
      ]
    },
    {
      "cell_type": "markdown",
      "metadata": {
        "id": "O_FuNXf4KNJl"
      },
      "source": [
        "Handle Missing Value and Split Data"
      ]
    },
    {
      "cell_type": "code",
      "metadata": {
        "id": "wPaeg6wT3o9l",
        "colab": {
          "base_uri": "https://localhost:8080/"
        },
        "outputId": "72e82277-61e7-420c-8297-c5b8aa6e3477"
      },
      "source": [
        "from sklearn.preprocessing import LabelEncoder\n",
        "\n",
        "x = df.iloc[:,np.r_[9:15,16:19]]\n",
        "y = df.iloc[:,3]\n",
        "\n",
        "# Handle missing value\n",
        "x[\"whiteELO\"].fillna(round(x[\"whiteELO\"].mean(), 0), inplace = True)\n",
        "x[\"blackELO\"].fillna(round(x[\"blackELO\"].mean(), 0), inplace = True)\n",
        "x[\"RatingDiff\"].fillna(round(x[\"RatingDiff\"].median(), 0), inplace = True)\n",
        "x[\"whiteRatingDiff\"].fillna(round(x[\"whiteRatingDiff\"].mean(), 0), inplace = True)\n",
        "x[\"blackRatingDiff\"].fillna(round(x[\"blackRatingDiff\"].mean(), 0), inplace = True)\n",
        "x[\"timeControl\"].fillna(x[\"timeControl\"].mode().iloc[0], inplace = True)\n",
        "\n",
        "# Convert data to float\n",
        "le = LabelEncoder()\n",
        "x[\"ECO\"] = le.fit_transform(x[\"ECO\"])\n",
        "x[\"timeControl\"] = le.fit_transform(x[\"timeControl\"])\n",
        "x[\"termination\"] = le.fit_transform(x[\"termination\"])\n",
        "y = le.fit_transform(y)"
      ],
      "execution_count": 12,
      "outputs": [
        {
          "output_type": "stream",
          "text": [
            "/usr/local/lib/python3.7/dist-packages/pandas/core/series.py:4536: SettingWithCopyWarning: \n",
            "A value is trying to be set on a copy of a slice from a DataFrame\n",
            "\n",
            "See the caveats in the documentation: https://pandas.pydata.org/pandas-docs/stable/user_guide/indexing.html#returning-a-view-versus-a-copy\n",
            "  downcast=downcast,\n",
            "/usr/local/lib/python3.7/dist-packages/ipykernel_launcher.py:16: SettingWithCopyWarning: \n",
            "A value is trying to be set on a copy of a slice from a DataFrame.\n",
            "Try using .loc[row_indexer,col_indexer] = value instead\n",
            "\n",
            "See the caveats in the documentation: https://pandas.pydata.org/pandas-docs/stable/user_guide/indexing.html#returning-a-view-versus-a-copy\n",
            "  app.launch_new_instance()\n",
            "/usr/local/lib/python3.7/dist-packages/ipykernel_launcher.py:17: SettingWithCopyWarning: \n",
            "A value is trying to be set on a copy of a slice from a DataFrame.\n",
            "Try using .loc[row_indexer,col_indexer] = value instead\n",
            "\n",
            "See the caveats in the documentation: https://pandas.pydata.org/pandas-docs/stable/user_guide/indexing.html#returning-a-view-versus-a-copy\n",
            "/usr/local/lib/python3.7/dist-packages/ipykernel_launcher.py:18: SettingWithCopyWarning: \n",
            "A value is trying to be set on a copy of a slice from a DataFrame.\n",
            "Try using .loc[row_indexer,col_indexer] = value instead\n",
            "\n",
            "See the caveats in the documentation: https://pandas.pydata.org/pandas-docs/stable/user_guide/indexing.html#returning-a-view-versus-a-copy\n"
          ],
          "name": "stderr"
        }
      ]
    },
    {
      "cell_type": "code",
      "metadata": {
        "colab": {
          "base_uri": "https://localhost:8080/",
          "height": 419
        },
        "id": "qhTR8myRITUD",
        "outputId": "3052f877-a1d0-432c-8d7c-90244289aca2"
      },
      "source": [
        "x"
      ],
      "execution_count": 40,
      "outputs": [
        {
          "output_type": "execute_result",
          "data": {
            "text/html": [
              "<div>\n",
              "<style scoped>\n",
              "    .dataframe tbody tr th:only-of-type {\n",
              "        vertical-align: middle;\n",
              "    }\n",
              "\n",
              "    .dataframe tbody tr th {\n",
              "        vertical-align: top;\n",
              "    }\n",
              "\n",
              "    .dataframe thead th {\n",
              "        text-align: right;\n",
              "    }\n",
              "</style>\n",
              "<table border=\"1\" class=\"dataframe\">\n",
              "  <thead>\n",
              "    <tr style=\"text-align: right;\">\n",
              "      <th></th>\n",
              "      <th>whiteELO</th>\n",
              "      <th>blackELO</th>\n",
              "      <th>RatingDiff</th>\n",
              "      <th>whiteRatingDiff</th>\n",
              "      <th>blackRatingDiff</th>\n",
              "      <th>ECO</th>\n",
              "      <th>timeControl</th>\n",
              "      <th>termination</th>\n",
              "      <th>totalMove</th>\n",
              "    </tr>\n",
              "  </thead>\n",
              "  <tbody>\n",
              "    <tr>\n",
              "      <th>0</th>\n",
              "      <td>1398.0</td>\n",
              "      <td>1767.0</td>\n",
              "      <td>369.0</td>\n",
              "      <td>-3.0</td>\n",
              "      <td>3.0</td>\n",
              "      <td>1</td>\n",
              "      <td>708</td>\n",
              "      <td>0</td>\n",
              "      <td>25</td>\n",
              "    </tr>\n",
              "    <tr>\n",
              "      <th>1</th>\n",
              "      <td>1538.0</td>\n",
              "      <td>1461.0</td>\n",
              "      <td>77.0</td>\n",
              "      <td>-113.0</td>\n",
              "      <td>113.0</td>\n",
              "      <td>1</td>\n",
              "      <td>708</td>\n",
              "      <td>0</td>\n",
              "      <td>10</td>\n",
              "    </tr>\n",
              "    <tr>\n",
              "      <th>2</th>\n",
              "      <td>1613.0</td>\n",
              "      <td>1604.0</td>\n",
              "      <td>119.0</td>\n",
              "      <td>0.0</td>\n",
              "      <td>-2.0</td>\n",
              "      <td>2</td>\n",
              "      <td>708</td>\n",
              "      <td>0</td>\n",
              "      <td>38</td>\n",
              "    </tr>\n",
              "    <tr>\n",
              "      <th>3</th>\n",
              "      <td>1613.0</td>\n",
              "      <td>1604.0</td>\n",
              "      <td>119.0</td>\n",
              "      <td>0.0</td>\n",
              "      <td>-2.0</td>\n",
              "      <td>101</td>\n",
              "      <td>708</td>\n",
              "      <td>0</td>\n",
              "      <td>20</td>\n",
              "    </tr>\n",
              "    <tr>\n",
              "      <th>4</th>\n",
              "      <td>1682.0</td>\n",
              "      <td>1122.0</td>\n",
              "      <td>560.0</td>\n",
              "      <td>2.0</td>\n",
              "      <td>-5.0</td>\n",
              "      <td>102</td>\n",
              "      <td>708</td>\n",
              "      <td>0</td>\n",
              "      <td>23</td>\n",
              "    </tr>\n",
              "    <tr>\n",
              "      <th>...</th>\n",
              "      <td>...</td>\n",
              "      <td>...</td>\n",
              "      <td>...</td>\n",
              "      <td>...</td>\n",
              "      <td>...</td>\n",
              "      <td>...</td>\n",
              "      <td>...</td>\n",
              "      <td>...</td>\n",
              "      <td>...</td>\n",
              "    </tr>\n",
              "    <tr>\n",
              "      <th>3386418</th>\n",
              "      <td>1692.0</td>\n",
              "      <td>1382.0</td>\n",
              "      <td>310.0</td>\n",
              "      <td>3.0</td>\n",
              "      <td>-4.0</td>\n",
              "      <td>41</td>\n",
              "      <td>13</td>\n",
              "      <td>2</td>\n",
              "      <td>19</td>\n",
              "    </tr>\n",
              "    <tr>\n",
              "      <th>3386419</th>\n",
              "      <td>1613.0</td>\n",
              "      <td>1618.0</td>\n",
              "      <td>5.0</td>\n",
              "      <td>12.0</td>\n",
              "      <td>-12.0</td>\n",
              "      <td>306</td>\n",
              "      <td>708</td>\n",
              "      <td>2</td>\n",
              "      <td>27</td>\n",
              "    </tr>\n",
              "    <tr>\n",
              "      <th>3386420</th>\n",
              "      <td>1286.0</td>\n",
              "      <td>1293.0</td>\n",
              "      <td>7.0</td>\n",
              "      <td>12.0</td>\n",
              "      <td>-53.0</td>\n",
              "      <td>255</td>\n",
              "      <td>130</td>\n",
              "      <td>2</td>\n",
              "      <td>31</td>\n",
              "    </tr>\n",
              "    <tr>\n",
              "      <th>3386421</th>\n",
              "      <td>1646.0</td>\n",
              "      <td>1306.0</td>\n",
              "      <td>340.0</td>\n",
              "      <td>3.0</td>\n",
              "      <td>-13.0</td>\n",
              "      <td>244</td>\n",
              "      <td>708</td>\n",
              "      <td>2</td>\n",
              "      <td>22</td>\n",
              "    </tr>\n",
              "    <tr>\n",
              "      <th>3386422</th>\n",
              "      <td>1500.0</td>\n",
              "      <td>1319.0</td>\n",
              "      <td>181.0</td>\n",
              "      <td>-251.0</td>\n",
              "      <td>133.0</td>\n",
              "      <td>298</td>\n",
              "      <td>708</td>\n",
              "      <td>2</td>\n",
              "      <td>22</td>\n",
              "    </tr>\n",
              "  </tbody>\n",
              "</table>\n",
              "<p>3386423 rows × 9 columns</p>\n",
              "</div>"
            ],
            "text/plain": [
              "         whiteELO  blackELO  RatingDiff  ...  timeControl  termination  totalMove\n",
              "0          1398.0    1767.0       369.0  ...          708            0         25\n",
              "1          1538.0    1461.0        77.0  ...          708            0         10\n",
              "2          1613.0    1604.0       119.0  ...          708            0         38\n",
              "3          1613.0    1604.0       119.0  ...          708            0         20\n",
              "4          1682.0    1122.0       560.0  ...          708            0         23\n",
              "...           ...       ...         ...  ...          ...          ...        ...\n",
              "3386418    1692.0    1382.0       310.0  ...           13            2         19\n",
              "3386419    1613.0    1618.0         5.0  ...          708            2         27\n",
              "3386420    1286.0    1293.0         7.0  ...          130            2         31\n",
              "3386421    1646.0    1306.0       340.0  ...          708            2         22\n",
              "3386422    1500.0    1319.0       181.0  ...          708            2         22\n",
              "\n",
              "[3386423 rows x 9 columns]"
            ]
          },
          "metadata": {
            "tags": []
          },
          "execution_count": 40
        }
      ]
    },
    {
      "cell_type": "code",
      "metadata": {
        "colab": {
          "base_uri": "https://localhost:8080/"
        },
        "id": "YzoNzSlZIVpM",
        "outputId": "315b6bda-ddc1-45bd-b6c9-e4af62a8b401"
      },
      "source": [
        "y"
      ],
      "execution_count": 41,
      "outputs": [
        {
          "output_type": "execute_result",
          "data": {
            "text/plain": [
              "array([0, 0, 1, ..., 1, 1, 0])"
            ]
          },
          "metadata": {
            "tags": []
          },
          "execution_count": 41
        }
      ]
    },
    {
      "cell_type": "markdown",
      "metadata": {
        "id": "vwoDnj6XKRty"
      },
      "source": [
        "Descriptive statistics after handle missing value"
      ]
    },
    {
      "cell_type": "code",
      "metadata": {
        "colab": {
          "base_uri": "https://localhost:8080/",
          "height": 479
        },
        "id": "i5zYIe4VImmN",
        "outputId": "44178a75-7794-43d4-b9f5-4df4a512055b"
      },
      "source": [
        "plt.figure(dpi = 100)\n",
        "plt.hist(x[\"whiteELO\"])"
      ],
      "execution_count": 13,
      "outputs": [
        {
          "output_type": "execute_result",
          "data": {
            "text/plain": [
              "(array([3.305000e+03, 3.371700e+04, 2.019540e+05, 6.790650e+05,\n",
              "        1.145573e+06, 8.856240e+05, 3.402940e+05, 8.611800e+04,\n",
              "        1.051800e+04, 2.550000e+02]),\n",
              " array([ 758. ,  940.3, 1122.6, 1304.9, 1487.2, 1669.5, 1851.8, 2034.1,\n",
              "        2216.4, 2398.7, 2581. ]),\n",
              " <a list of 10 Patch objects>)"
            ]
          },
          "metadata": {
            "tags": []
          },
          "execution_count": 13
        },
        {
          "output_type": "display_data",
          "data": {
            "image/png": "[encoded data removed]",
            "text/plain": [
              "<Figure size 600x400 with 1 Axes>"
            ]
          },
          "metadata": {
            "tags": [],
            "needs_background": "light"
          }
        }
      ]
    },
    {
      "cell_type": "code",
      "metadata": {
        "colab": {
          "base_uri": "https://localhost:8080/",
          "height": 462
        },
        "id": "u6oHFU_tIvaO",
        "outputId": "71dfd49c-9cfa-4512-e7fd-f494c39457b1"
      },
      "source": [
        "plt.figure(dpi = 100)\n",
        "plt.hist(x[\"blackELO\"])"
      ],
      "execution_count": 14,
      "outputs": [
        {
          "output_type": "execute_result",
          "data": {
            "text/plain": [
              "(array([3.51600e+03, 3.77500e+04, 2.18497e+05, 6.74524e+05, 1.18062e+06,\n",
              "        8.45662e+05, 3.30081e+05, 8.55040e+04, 1.00240e+04, 2.45000e+02]),\n",
              " array([ 735. ,  921.5, 1108. , 1294.5, 1481. , 1667.5, 1854. , 2040.5,\n",
              "        2227. , 2413.5, 2600. ]),\n",
              " <a list of 10 Patch objects>)"
            ]
          },
          "metadata": {
            "tags": []
          },
          "execution_count": 14
        },
        {
          "output_type": "display_data",
          "data": {
            "image/png": "[encoded data removed]",
            "text/plain": [
              "<Figure size 600x400 with 1 Axes>"
            ]
          },
          "metadata": {
            "tags": [],
            "needs_background": "light"
          }
        }
      ]
    },
    {
      "cell_type": "code",
      "metadata": {
        "colab": {
          "base_uri": "https://localhost:8080/",
          "height": 413
        },
        "id": "8FpECwTNIws6",
        "outputId": "7a23450e-2367-4025-b515-bbaf84b63d62"
      },
      "source": [
        "from scipy.stats import pearsonr\n",
        "\n",
        "corr = pearsonr(x[\"whiteELO\"], x[\"blackELO\"])\n",
        "print(\"Correlation of ELO Rating of both side: \", corr[0], \"\\n\")\n",
        "\n",
        "plt.figure(dpi = 100)\n",
        "plt.scatter(x[\"whiteELO\"], x[\"blackELO\"], s = 1)"
      ],
      "execution_count": 15,
      "outputs": [
        {
          "output_type": "stream",
          "text": [
            "Correlation of ELO Rating of both side:  0.5632098504776208 \n",
            "\n"
          ],
          "name": "stdout"
        },
        {
          "output_type": "execute_result",
          "data": {
            "text/plain": [
              "<matplotlib.collections.PathCollection at 0x7f8e36ef8c50>"
            ]
          },
          "metadata": {
            "tags": []
          },
          "execution_count": 15
        },
        {
          "output_type": "display_data",
          "data": {
            "image/png": "[encoded data removed]",
            "text/plain": [
              "<Figure size 600x400 with 1 Axes>"
            ]
          },
          "metadata": {
            "tags": [],
            "needs_background": "light"
          }
        }
      ]
    },
    {
      "cell_type": "code",
      "metadata": {
        "colab": {
          "base_uri": "https://localhost:8080/",
          "height": 479
        },
        "id": "Zhu2zNREIywM",
        "outputId": "beb1c961-c14c-423f-bdde-e0564b93a16d"
      },
      "source": [
        "plt.figure(dpi = 100)\n",
        "plt.hist(x[\"RatingDiff\"])"
      ],
      "execution_count": 16,
      "outputs": [
        {
          "output_type": "execute_result",
          "data": {
            "text/plain": [
              "(array([1.894543e+06, 9.534930e+05, 3.618240e+05, 1.247050e+05,\n",
              "        3.821800e+04, 1.073100e+04, 2.290000e+03, 5.410000e+02,\n",
              "        6.800000e+01, 1.000000e+01]),\n",
              " array([   0. ,  137.6,  275.2,  412.8,  550.4,  688. ,  825.6,  963.2,\n",
              "        1100.8, 1238.4, 1376. ]),\n",
              " <a list of 10 Patch objects>)"
            ]
          },
          "metadata": {
            "tags": []
          },
          "execution_count": 16
        },
        {
          "output_type": "display_data",
          "data": {
            "image/png": "[encoded data removed]",
            "text/plain": [
              "<Figure size 600x400 with 1 Axes>"
            ]
          },
          "metadata": {
            "tags": [],
            "needs_background": "light"
          }
        }
      ]
    },
    {
      "cell_type": "code",
      "metadata": {
        "colab": {
          "base_uri": "https://localhost:8080/",
          "height": 479
        },
        "id": "UsKcnv2yI0PS",
        "outputId": "0e76a050-663e-469b-ffcc-a433acb37a10"
      },
      "source": [
        "plt.figure(dpi = 100)\n",
        "plt.hist(x[\"totalMove\"])"
      ],
      "execution_count": 17,
      "outputs": [
        {
          "output_type": "execute_result",
          "data": {
            "text/plain": [
              "(array([5.999770e+05, 1.651938e+06, 8.541940e+05, 2.383920e+05,\n",
              "        3.582300e+04, 5.001000e+03, 9.240000e+02, 1.510000e+02,\n",
              "        1.900000e+01, 4.000000e+00]),\n",
              " array([  0. ,  19.1,  38.2,  57.3,  76.4,  95.5, 114.6, 133.7, 152.8,\n",
              "        171.9, 191. ]),\n",
              " <a list of 10 Patch objects>)"
            ]
          },
          "metadata": {
            "tags": []
          },
          "execution_count": 17
        },
        {
          "output_type": "display_data",
          "data": {
            "image/png": "[encoded data removed]",
            "text/plain": [
              "<Figure size 600x400 with 1 Axes>"
            ]
          },
          "metadata": {
            "tags": [],
            "needs_background": "light"
          }
        }
      ]
    },
    {
      "cell_type": "markdown",
      "metadata": {
        "id": "h2caHzj7Jz7V"
      },
      "source": [
        "# **Data Modelling**"
      ]
    },
    {
      "cell_type": "markdown",
      "metadata": {
        "id": "1RVy_hncKoL7"
      },
      "source": [
        "Modelling"
      ]
    },
    {
      "cell_type": "code",
      "metadata": {
        "id": "HLr2jPVa0Kps"
      },
      "source": [
        "# pip install catBoost"
      ],
      "execution_count": 20,
      "outputs": []
    },
    {
      "cell_type": "code",
      "metadata": {
        "id": "muOLWCDUAF29"
      },
      "source": [
        "from sklearn.linear_model import LogisticRegression\n",
        "from sklearn.tree import DecisionTreeClassifier\n",
        "from sklearn.neural_network import MLPClassifier\n",
        "from catboost import CatBoostClassifier\n",
        "from sklearn.model_selection import cross_val_score\n",
        "from sklearn.model_selection import RepeatedStratifiedKFold\n",
        "from sklearn import metrics\n",
        "\n",
        "class_names = [\"0-1\",\"1-0\",\"1/2-1/2\"]\n",
        "scorer = metrics.make_scorer(metrics.f1_score, average = \"weighted\")\n",
        "k = RepeatedStratifiedKFold(n_splits = 10, n_repeats = 1, random_state = 7848654)"
      ],
      "execution_count": 23,
      "outputs": []
    },
    {
      "cell_type": "code",
      "metadata": {
        "id": "q8vEBDEY7amg"
      },
      "source": [
        "LR = LogisticRegression(random_state = 1234, solver = \"lbfgs\", multi_class = \"multinomial\", max_iter = 100)\n",
        "LR_score = cross_val_score(LR, x, y, cv = k, scoring = scorer)"
      ],
      "execution_count": null,
      "outputs": []
    },
    {
      "cell_type": "code",
      "metadata": {
        "id": "QjXj4ujm7dlP"
      },
      "source": [
        "DT = DecisionTreeClassifier()\n",
        "DT_score = cross_val_score(DT, x, y, cv = k, scoring = scorer)"
      ],
      "execution_count": 25,
      "outputs": []
    },
    {
      "cell_type": "code",
      "metadata": {
        "id": "SmnLTswp7e4n"
      },
      "source": [
        "NN = MLPClassifier(solver = \"lbfgs\", alpha = 1e-5, hidden_layer_sizes = (100, 30), random_state = 1234)\n",
        "NN_score = cross_val_score(DT, x, y, cv = k, scoring = scorer)"
      ],
      "execution_count": 26,
      "outputs": []
    },
    {
      "cell_type": "code",
      "metadata": {
        "id": "icyoS57z7gJn"
      },
      "source": [
        "catBoost = CatBoostClassifier(\n",
        "    iterations = 50,\n",
        "    learning_rate = 0.1,\n",
        "    random_strength = 0.1,\n",
        "    depth = 8,\n",
        "    loss_function = \"MultiClass\",\n",
        "    eval_metric = \"Accuracy\",\n",
        "    leaf_estimation_method = \"Newton\"\n",
        ")\n",
        "CB_score = cross_val_score(catBoost, x, y, cv = k, scoring = scorer)"
      ],
      "execution_count": null,
      "outputs": []
    },
    {
      "cell_type": "markdown",
      "metadata": {
        "id": "eFWAW_bLKqYU"
      },
      "source": [
        "Comparison of models score"
      ]
    },
    {
      "cell_type": "code",
      "metadata": {
        "id": "q1HSbAB3od09",
        "colab": {
          "base_uri": "https://localhost:8080/"
        },
        "outputId": "679bc557-6e98-4138-f057-5d824bedb058"
      },
      "source": [
        "print(\"Comparison of model efficiency base on F1 score\\n\")\n",
        "print(\"LR :\", np.around(LR_score, 4))\n",
        "print(\"DT :\", np.around(DT_score, 4))\n",
        "print(\"NN :\", np.around(NN_score, 4))\n",
        "print(\"CB :\", np.around(CB_score, 4))\n",
        "print(\"\\n\")\n",
        "print(\"Logistic Regression score  :\", round(np.mean(LR_score), 5) , \" (\", round(np.mean(LR_score) * 100, 5), \"% ) standard deviation: \", round(np.std(LR_score) * 100, 2), \"% )\")\n",
        "print(\"Decision Tree score        :\", round(np.mean(DT_score), 5) , \" (\", round(np.mean(DT_score) * 100, 5), \"% ) standard deviation: \", round(np.std(DT_score) * 100, 2), \"% )\")\n",
        "print(\"Neural Network score       :\", round(np.mean(NN_score), 5) , \" (\", round(np.mean(NN_score) * 100, 5), \"% ) standard deviation: \", round(np.std(NN_score) * 100, 2), \"% )\")\n",
        "print(\"CatBoost score             :\", round(np.mean(CB_score), 5) , \" (\", round(np.mean(CB_score) * 100, 5), \"% ) standard deviation: \", round(np.std(CB_score) * 100, 2), \"% )\")"
      ],
      "execution_count": 39,
      "outputs": [
        {
          "output_type": "stream",
          "text": [
            "Comparison of model efficiency base on F1 score\n",
            "\n",
            "LR : [0.9928 0.9928 0.9934 0.9929 0.9934 0.9929 0.9932 0.9929 0.9933 0.9929]\n",
            "DT : [0.998  0.9981 0.9981 0.998  0.9981 0.998  0.9982 0.9979 0.998  0.9981]\n",
            "NN : [0.9981 0.9981 0.9981 0.998  0.9981 0.998  0.9982 0.9979 0.998  0.9981]\n",
            "CB : [0.9958 0.9957 0.9959 0.9957 0.9959 0.9957 0.9959 0.9958 0.9955 0.9958]\n",
            "\n",
            "\n",
            "Logistic Regression score  : 0.99305  ( 99.30467 % ) standard deviation:  0.02 %\n",
            "Decision Tree score        : 0.99804  ( 99.804 % ) standard deviation:  0.01 %\n",
            "Neural Network score       : 0.99807  ( 99.80661 % ) standard deviation:  0.01 %\n",
            "CatBoost score             : 0.99576  ( 99.57578 % ) standard deviation:  0.01 %\n"
          ],
          "name": "stdout"
        }
      ]
    }
  ]
}
