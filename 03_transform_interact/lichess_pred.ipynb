{
  "nbformat": 4,
  "nbformat_minor": 0,
  "metadata": {
    "colab": {
      "name": "lichess_pred.ipynb",
      "provenance": [],
      "collapsed_sections": [
        "O_FuNXf4KNJl"
      ]
    },
    "kernelspec": {
      "display_name": "Python 3",
      "name": "python3"
    },
    "language_info": {
      "name": "python"
    }
  },
  "cells": [
    {
      "cell_type": "code",
      "metadata": {
        "id": "61J-YLmdrf7C"
      },
      "source": [
        "import time\n",
        "start_time = time.time()"
      ],
      "execution_count": null,
      "outputs": []
    },
    {
      "cell_type": "markdown",
      "metadata": {
        "id": "oRcFO8ylNDRx"
      },
      "source": [
        "# **Import data**"
      ]
    },
    {
      "cell_type": "code",
      "metadata": {
        "id": "yHet2s80Tt0V"
      },
      "source": [
        "import pandas as pd\n",
        "import numpy as np\n",
        "import matplotlib.pyplot as plt"
      ],
      "execution_count": null,
      "outputs": []
    },
    {
      "cell_type": "code",
      "metadata": {
        "id": "UpD2TYHsZNqK"
      },
      "source": [
        "df = pd.read_csv(\"/content/drive/MyDrive/lichess.csv\", delimiter = \",\", encoding = \"utf-8\")"
      ],
      "execution_count": null,
      "outputs": []
    },
    {
      "cell_type": "markdown",
      "metadata": {
        "id": "tYJhBn90Nrrw"
      },
      "source": [
        "Descriptive statistics"
      ]
    },
    {
      "cell_type": "code",
      "metadata": {
        "colab": {
          "base_uri": "https://localhost:8080/"
        },
        "id": "cX6iChoGBeBb",
        "outputId": "616cb7e3-09bd-4cc5-81bf-1a850ec80011"
      },
      "source": [
        "df.info()"
      ],
      "execution_count": null,
      "outputs": [
        {
          "output_type": "stream",
          "text": [
            "<class 'pandas.core.frame.DataFrame'>\n",
            "RangeIndex: 3386423 entries, 0 to 3386422\n",
            "Data columns (total 19 columns):\n",
            " #   Column           Dtype  \n",
            "---  ------           -----  \n",
            " 0   event            object \n",
            " 1   white            object \n",
            " 2   black            object \n",
            " 3   result           object \n",
            " 4   UTCDate          object \n",
            " 5   day              int64  \n",
            " 6   month            int64  \n",
            " 7   year             int64  \n",
            " 8   UTCTime          object \n",
            " 9   whiteELO         float64\n",
            " 10  blackELO         float64\n",
            " 11  RatingDiff       float64\n",
            " 12  whiteRatingDiff  float64\n",
            " 13  blackRatingDiff  float64\n",
            " 14  ECO              object \n",
            " 15  opening          object \n",
            " 16  timeControl      object \n",
            " 17  termination      object \n",
            " 18  totalMove        int64  \n",
            "dtypes: float64(5), int64(4), object(10)\n",
            "memory usage: 490.9+ MB\n"
          ],
          "name": "stdout"
        }
      ]
    },
    {
      "cell_type": "code",
      "metadata": {
        "colab": {
          "base_uri": "https://localhost:8080/"
        },
        "id": "1OnlxqkgBjNk",
        "outputId": "b44d390f-1e58-4335-bfbc-d96bbe83cb88"
      },
      "source": [
        "df.nunique()"
      ],
      "execution_count": null,
      "outputs": [
        {
          "output_type": "execute_result",
          "data": {
            "text/plain": [
              "event                  7\n",
              "white              60997\n",
              "black              62355\n",
              "result                 3\n",
              "UTCDate              366\n",
              "day                   31\n",
              "month                 12\n",
              "year                   2\n",
              "UTCTime            86400\n",
              "whiteELO            1749\n",
              "blackELO            1768\n",
              "RatingDiff          1141\n",
              "whiteRatingDiff     1140\n",
              "blackRatingDiff     1153\n",
              "ECO                  489\n",
              "opening             2771\n",
              "timeControl          978\n",
              "termination            3\n",
              "totalMove            168\n",
              "dtype: int64"
            ]
          },
          "metadata": {
            "tags": []
          },
          "execution_count": 5
        }
      ]
    },
    {
      "cell_type": "code",
      "metadata": {
        "colab": {
          "base_uri": "https://localhost:8080/",
          "height": 289
        },
        "id": "NUATHc_YZuNn",
        "outputId": "ccb40d97-e547-4e8e-c611-be81f4b912d6"
      },
      "source": [
        "df.head()"
      ],
      "execution_count": null,
      "outputs": [
        {
          "output_type": "execute_result",
          "data": {
            "text/html": [
              "<div>\n",
              "<style scoped>\n",
              "    .dataframe tbody tr th:only-of-type {\n",
              "        vertical-align: middle;\n",
              "    }\n",
              "\n",
              "    .dataframe tbody tr th {\n",
              "        vertical-align: top;\n",
              "    }\n",
              "\n",
              "    .dataframe thead th {\n",
              "        text-align: right;\n",
              "    }\n",
              "</style>\n",
              "<table border=\"1\" class=\"dataframe\">\n",
              "  <thead>\n",
              "    <tr style=\"text-align: right;\">\n",
              "      <th></th>\n",
              "      <th>event</th>\n",
              "      <th>white</th>\n",
              "      <th>black</th>\n",
              "      <th>result</th>\n",
              "      <th>UTCDate</th>\n",
              "      <th>day</th>\n",
              "      <th>month</th>\n",
              "      <th>year</th>\n",
              "      <th>UTCTime</th>\n",
              "      <th>whiteELO</th>\n",
              "      <th>blackELO</th>\n",
              "      <th>RatingDiff</th>\n",
              "      <th>whiteRatingDiff</th>\n",
              "      <th>blackRatingDiff</th>\n",
              "      <th>ECO</th>\n",
              "      <th>opening</th>\n",
              "      <th>timeControl</th>\n",
              "      <th>termination</th>\n",
              "      <th>totalMove</th>\n",
              "    </tr>\n",
              "  </thead>\n",
              "  <tbody>\n",
              "    <tr>\n",
              "      <th>0</th>\n",
              "      <td>Rated Correspondence game</td>\n",
              "      <td>felixrbran</td>\n",
              "      <td>wiles</td>\n",
              "      <td>0-1</td>\n",
              "      <td>2013.07.02</td>\n",
              "      <td>2</td>\n",
              "      <td>7</td>\n",
              "      <td>2013</td>\n",
              "      <td>21:16:17</td>\n",
              "      <td>1398.0</td>\n",
              "      <td>1767.0</td>\n",
              "      <td>369.0</td>\n",
              "      <td>-3.0</td>\n",
              "      <td>3.0</td>\n",
              "      <td>A00</td>\n",
              "      <td>Polish Opening</td>\n",
              "      <td>NaN</td>\n",
              "      <td>Normal</td>\n",
              "      <td>25</td>\n",
              "    </tr>\n",
              "    <tr>\n",
              "      <th>1</th>\n",
              "      <td>Rated Correspondence game</td>\n",
              "      <td>singhk</td>\n",
              "      <td>bhangooj</td>\n",
              "      <td>0-1</td>\n",
              "      <td>2013.07.12</td>\n",
              "      <td>12</td>\n",
              "      <td>7</td>\n",
              "      <td>2013</td>\n",
              "      <td>04:25:22</td>\n",
              "      <td>1538.0</td>\n",
              "      <td>1461.0</td>\n",
              "      <td>77.0</td>\n",
              "      <td>-113.0</td>\n",
              "      <td>113.0</td>\n",
              "      <td>A00</td>\n",
              "      <td>Grob Opening</td>\n",
              "      <td>NaN</td>\n",
              "      <td>Normal</td>\n",
              "      <td>10</td>\n",
              "    </tr>\n",
              "    <tr>\n",
              "      <th>2</th>\n",
              "      <td>Rated Correspondence game</td>\n",
              "      <td>Mrkvak</td>\n",
              "      <td>?</td>\n",
              "      <td>1-0</td>\n",
              "      <td>2013.04.04</td>\n",
              "      <td>4</td>\n",
              "      <td>4</td>\n",
              "      <td>2013</td>\n",
              "      <td>19:44:52</td>\n",
              "      <td>NaN</td>\n",
              "      <td>NaN</td>\n",
              "      <td>NaN</td>\n",
              "      <td>NaN</td>\n",
              "      <td>NaN</td>\n",
              "      <td>A01</td>\n",
              "      <td>Nimzo-Larsen Attack: Modern Variation #4</td>\n",
              "      <td>NaN</td>\n",
              "      <td>Normal</td>\n",
              "      <td>38</td>\n",
              "    </tr>\n",
              "    <tr>\n",
              "      <th>3</th>\n",
              "      <td>Rated Correspondence game</td>\n",
              "      <td>Unknown Player</td>\n",
              "      <td>CaLiBRe</td>\n",
              "      <td>1-0</td>\n",
              "      <td>2013.04.09</td>\n",
              "      <td>9</td>\n",
              "      <td>4</td>\n",
              "      <td>2013</td>\n",
              "      <td>19:09:36</td>\n",
              "      <td>NaN</td>\n",
              "      <td>NaN</td>\n",
              "      <td>NaN</td>\n",
              "      <td>NaN</td>\n",
              "      <td>NaN</td>\n",
              "      <td>B01</td>\n",
              "      <td>Scandinavian Defense</td>\n",
              "      <td>NaN</td>\n",
              "      <td>Normal</td>\n",
              "      <td>20</td>\n",
              "    </tr>\n",
              "    <tr>\n",
              "      <th>4</th>\n",
              "      <td>Rated Correspondence game</td>\n",
              "      <td>dbalka</td>\n",
              "      <td>Polinusik</td>\n",
              "      <td>1-0</td>\n",
              "      <td>2013.04.11</td>\n",
              "      <td>11</td>\n",
              "      <td>4</td>\n",
              "      <td>2013</td>\n",
              "      <td>19:43:45</td>\n",
              "      <td>1682.0</td>\n",
              "      <td>1122.0</td>\n",
              "      <td>560.0</td>\n",
              "      <td>2.0</td>\n",
              "      <td>-5.0</td>\n",
              "      <td>B02</td>\n",
              "      <td>Alekhine Defense: Mokele Mbembe</td>\n",
              "      <td>NaN</td>\n",
              "      <td>Normal</td>\n",
              "      <td>23</td>\n",
              "    </tr>\n",
              "  </tbody>\n",
              "</table>\n",
              "</div>"
            ],
            "text/plain": [
              "                       event           white  ... termination totalMove\n",
              "0  Rated Correspondence game      felixrbran  ...      Normal        25\n",
              "1  Rated Correspondence game          singhk  ...      Normal        10\n",
              "2  Rated Correspondence game          Mrkvak  ...      Normal        38\n",
              "3  Rated Correspondence game  Unknown Player  ...      Normal        20\n",
              "4  Rated Correspondence game          dbalka  ...      Normal        23\n",
              "\n",
              "[5 rows x 19 columns]"
            ]
          },
          "metadata": {
            "tags": []
          },
          "execution_count": 6
        }
      ]
    },
    {
      "cell_type": "code",
      "metadata": {
        "colab": {
          "base_uri": "https://localhost:8080/",
          "height": 297
        },
        "id": "l9MdiBq-aoRo",
        "outputId": "03e6c747-d30a-42b0-b38b-5b3a63e3b652"
      },
      "source": [
        "round(df.describe(), 3)"
      ],
      "execution_count": null,
      "outputs": [
        {
          "output_type": "execute_result",
          "data": {
            "text/html": [
              "<div>\n",
              "<style scoped>\n",
              "    .dataframe tbody tr th:only-of-type {\n",
              "        vertical-align: middle;\n",
              "    }\n",
              "\n",
              "    .dataframe tbody tr th {\n",
              "        vertical-align: top;\n",
              "    }\n",
              "\n",
              "    .dataframe thead th {\n",
              "        text-align: right;\n",
              "    }\n",
              "</style>\n",
              "<table border=\"1\" class=\"dataframe\">\n",
              "  <thead>\n",
              "    <tr style=\"text-align: right;\">\n",
              "      <th></th>\n",
              "      <th>day</th>\n",
              "      <th>month</th>\n",
              "      <th>year</th>\n",
              "      <th>whiteELO</th>\n",
              "      <th>blackELO</th>\n",
              "      <th>RatingDiff</th>\n",
              "      <th>whiteRatingDiff</th>\n",
              "      <th>blackRatingDiff</th>\n",
              "      <th>totalMove</th>\n",
              "    </tr>\n",
              "  </thead>\n",
              "  <tbody>\n",
              "    <tr>\n",
              "      <th>count</th>\n",
              "      <td>3386423.000</td>\n",
              "      <td>3386423.000</td>\n",
              "      <td>3386423.000</td>\n",
              "      <td>3380733.000</td>\n",
              "      <td>3380733.000</td>\n",
              "      <td>3380733.000</td>\n",
              "      <td>3380733.000</td>\n",
              "      <td>3380733.000</td>\n",
              "      <td>3386423.000</td>\n",
              "    </tr>\n",
              "    <tr>\n",
              "      <th>mean</th>\n",
              "      <td>16.167</td>\n",
              "      <td>8.182</td>\n",
              "      <td>2013.000</td>\n",
              "      <td>1613.270</td>\n",
              "      <td>1603.674</td>\n",
              "      <td>153.787</td>\n",
              "      <td>0.190</td>\n",
              "      <td>-1.751</td>\n",
              "      <td>33.761</td>\n",
              "    </tr>\n",
              "    <tr>\n",
              "      <th>std</th>\n",
              "      <td>8.836</td>\n",
              "      <td>3.224</td>\n",
              "      <td>0.006</td>\n",
              "      <td>213.715</td>\n",
              "      <td>219.879</td>\n",
              "      <td>132.403</td>\n",
              "      <td>34.322</td>\n",
              "      <td>39.031</td>\n",
              "      <td>16.016</td>\n",
              "    </tr>\n",
              "    <tr>\n",
              "      <th>min</th>\n",
              "      <td>1.000</td>\n",
              "      <td>1.000</td>\n",
              "      <td>2012.000</td>\n",
              "      <td>758.000</td>\n",
              "      <td>735.000</td>\n",
              "      <td>0.000</td>\n",
              "      <td>-620.000</td>\n",
              "      <td>-618.000</td>\n",
              "      <td>0.000</td>\n",
              "    </tr>\n",
              "    <tr>\n",
              "      <th>25%</th>\n",
              "      <td>9.000</td>\n",
              "      <td>6.000</td>\n",
              "      <td>2013.000</td>\n",
              "      <td>1473.000</td>\n",
              "      <td>1462.000</td>\n",
              "      <td>54.000</td>\n",
              "      <td>-10.000</td>\n",
              "      <td>-11.000</td>\n",
              "      <td>23.000</td>\n",
              "    </tr>\n",
              "    <tr>\n",
              "      <th>50%</th>\n",
              "      <td>16.000</td>\n",
              "      <td>9.000</td>\n",
              "      <td>2013.000</td>\n",
              "      <td>1611.000</td>\n",
              "      <td>1599.000</td>\n",
              "      <td>119.000</td>\n",
              "      <td>2.000</td>\n",
              "      <td>-3.000</td>\n",
              "      <td>32.000</td>\n",
              "    </tr>\n",
              "    <tr>\n",
              "      <th>75%</th>\n",
              "      <td>24.000</td>\n",
              "      <td>11.000</td>\n",
              "      <td>2013.000</td>\n",
              "      <td>1753.000</td>\n",
              "      <td>1747.000</td>\n",
              "      <td>216.000</td>\n",
              "      <td>10.000</td>\n",
              "      <td>10.000</td>\n",
              "      <td>43.000</td>\n",
              "    </tr>\n",
              "    <tr>\n",
              "      <th>max</th>\n",
              "      <td>31.000</td>\n",
              "      <td>12.000</td>\n",
              "      <td>2013.000</td>\n",
              "      <td>2581.000</td>\n",
              "      <td>2600.000</td>\n",
              "      <td>1376.000</td>\n",
              "      <td>638.000</td>\n",
              "      <td>649.000</td>\n",
              "      <td>191.000</td>\n",
              "    </tr>\n",
              "  </tbody>\n",
              "</table>\n",
              "</div>"
            ],
            "text/plain": [
              "               day        month  ...  blackRatingDiff    totalMove\n",
              "count  3386423.000  3386423.000  ...      3380733.000  3386423.000\n",
              "mean        16.167        8.182  ...           -1.751       33.761\n",
              "std          8.836        3.224  ...           39.031       16.016\n",
              "min          1.000        1.000  ...         -618.000        0.000\n",
              "25%          9.000        6.000  ...          -11.000       23.000\n",
              "50%         16.000        9.000  ...           -3.000       32.000\n",
              "75%         24.000       11.000  ...           10.000       43.000\n",
              "max         31.000       12.000  ...          649.000      191.000\n",
              "\n",
              "[8 rows x 9 columns]"
            ]
          },
          "metadata": {
            "tags": []
          },
          "execution_count": 7
        }
      ]
    },
    {
      "cell_type": "code",
      "metadata": {
        "colab": {
          "base_uri": "https://localhost:8080/",
          "height": 479
        },
        "id": "i_LBGsFwHPXz",
        "outputId": "1efe87e1-969f-470d-f122-6816ce948122"
      },
      "source": [
        "plt.figure(dpi = 100)\n",
        "plt.hist(df[\"whiteELO\"])"
      ],
      "execution_count": null,
      "outputs": [
        {
          "output_type": "execute_result",
          "data": {
            "text/plain": [
              "(array([3.305000e+03, 3.371700e+04, 2.019540e+05, 6.790650e+05,\n",
              "        1.139883e+06, 8.856240e+05, 3.402940e+05, 8.611800e+04,\n",
              "        1.051800e+04, 2.550000e+02]),\n",
              " array([ 758. ,  940.3, 1122.6, 1304.9, 1487.2, 1669.5, 1851.8, 2034.1,\n",
              "        2216.4, 2398.7, 2581. ]),\n",
              " <a list of 10 Patch objects>)"
            ]
          },
          "metadata": {
            "tags": []
          },
          "execution_count": 8
        },
        {
          "output_type": "display_data",
          "data": {
            "image/png": "[encoded data removed]",
            "text/plain": [
              "<Figure size 600x400 with 1 Axes>"
            ]
          },
          "metadata": {
            "tags": [],
            "needs_background": "light"
          }
        }
      ]
    },
    {
      "cell_type": "code",
      "metadata": {
        "colab": {
          "base_uri": "https://localhost:8080/",
          "height": 462
        },
        "id": "uh2QV5K3HPiZ",
        "outputId": "93d1f02d-ed7e-4a1c-be4f-33b8852ef2e6"
      },
      "source": [
        "plt.figure(dpi = 100)\n",
        "plt.hist(df[\"blackELO\"])"
      ],
      "execution_count": null,
      "outputs": [
        {
          "output_type": "execute_result",
          "data": {
            "text/plain": [
              "(array([3.51600e+03, 3.77500e+04, 2.18497e+05, 6.74524e+05, 1.17493e+06,\n",
              "        8.45662e+05, 3.30081e+05, 8.55040e+04, 1.00240e+04, 2.45000e+02]),\n",
              " array([ 735. ,  921.5, 1108. , 1294.5, 1481. , 1667.5, 1854. , 2040.5,\n",
              "        2227. , 2413.5, 2600. ]),\n",
              " <a list of 10 Patch objects>)"
            ]
          },
          "metadata": {
            "tags": []
          },
          "execution_count": 9
        },
        {
          "output_type": "display_data",
          "data": {
            "image/png": "[encoded data removed]",
            "text/plain": [
              "<Figure size 600x400 with 1 Axes>"
            ]
          },
          "metadata": {
            "tags": [],
            "needs_background": "light"
          }
        }
      ]
    },
    {
      "cell_type": "code",
      "metadata": {
        "colab": {
          "base_uri": "https://localhost:8080/",
          "height": 379
        },
        "id": "gQD4vy_ha46I",
        "outputId": "4761e630-ee5f-4f33-bba3-f42e97483887"
      },
      "source": [
        "plt.figure(dpi = 100)\n",
        "plt.scatter(df[\"whiteELO\"], df[\"blackELO\"], s = 1)"
      ],
      "execution_count": null,
      "outputs": [
        {
          "output_type": "execute_result",
          "data": {
            "text/plain": [
              "<matplotlib.collections.PathCollection at 0x7fdd5d9508d0>"
            ]
          },
          "metadata": {
            "tags": []
          },
          "execution_count": 10
        },
        {
          "output_type": "display_data",
          "data": {
            "image/png": "[encoded data removed]",
            "text/plain": [
              "<Figure size 600x400 with 1 Axes>"
            ]
          },
          "metadata": {
            "tags": [],
            "needs_background": "light"
          }
        }
      ]
    },
    {
      "cell_type": "code",
      "metadata": {
        "colab": {
          "base_uri": "https://localhost:8080/",
          "height": 479
        },
        "id": "eF-beYYEZ8H4",
        "outputId": "f8260ff8-741c-44f6-961b-887e1fb09e6e"
      },
      "source": [
        "plt.figure(dpi = 100)\n",
        "plt.hist(df[\"RatingDiff\"])"
      ],
      "execution_count": null,
      "outputs": [
        {
          "output_type": "execute_result",
          "data": {
            "text/plain": [
              "(array([1.888853e+06, 9.534930e+05, 3.618240e+05, 1.247050e+05,\n",
              "        3.821800e+04, 1.073100e+04, 2.290000e+03, 5.410000e+02,\n",
              "        6.800000e+01, 1.000000e+01]),\n",
              " array([   0. ,  137.6,  275.2,  412.8,  550.4,  688. ,  825.6,  963.2,\n",
              "        1100.8, 1238.4, 1376. ]),\n",
              " <a list of 10 Patch objects>)"
            ]
          },
          "metadata": {
            "tags": []
          },
          "execution_count": 11
        },
        {
          "output_type": "display_data",
          "data": {
            "image/png": "[encoded data removed]",
            "text/plain": [
              "<Figure size 600x400 with 1 Axes>"
            ]
          },
          "metadata": {
            "tags": [],
            "needs_background": "light"
          }
        }
      ]
    },
    {
      "cell_type": "code",
      "metadata": {
        "colab": {
          "base_uri": "https://localhost:8080/",
          "height": 479
        },
        "id": "vGPTkTVxHf86",
        "outputId": "126174c5-aedf-44b0-947b-655d1326e26f"
      },
      "source": [
        "plt.figure(dpi = 100)\n",
        "plt.hist(df[\"totalMove\"])"
      ],
      "execution_count": null,
      "outputs": [
        {
          "output_type": "execute_result",
          "data": {
            "text/plain": [
              "(array([5.999770e+05, 1.651938e+06, 8.541940e+05, 2.383920e+05,\n",
              "        3.582300e+04, 5.001000e+03, 9.240000e+02, 1.510000e+02,\n",
              "        1.900000e+01, 4.000000e+00]),\n",
              " array([  0. ,  19.1,  38.2,  57.3,  76.4,  95.5, 114.6, 133.7, 152.8,\n",
              "        171.9, 191. ]),\n",
              " <a list of 10 Patch objects>)"
            ]
          },
          "metadata": {
            "tags": []
          },
          "execution_count": 12
        },
        {
          "output_type": "display_data",
          "data": {
            "image/png": "[encoded data removed]",
            "text/plain": [
              "<Figure size 600x400 with 1 Axes>"
            ]
          },
          "metadata": {
            "tags": [],
            "needs_background": "light"
          }
        }
      ]
    },
    {
      "cell_type": "markdown",
      "metadata": {
        "id": "O_FuNXf4KNJl"
      },
      "source": [
        "#**Data preparation**"
      ]
    },
    {
      "cell_type": "markdown",
      "metadata": {
        "id": "5ZFEqMv8b-fo"
      },
      "source": [
        "Handle missing value and transform data to float format"
      ]
    },
    {
      "cell_type": "code",
      "metadata": {
        "id": "wPaeg6wT3o9l",
        "colab": {
          "base_uri": "https://localhost:8080/"
        },
        "outputId": "70a1b21d-ebc9-468b-d946-655b22b0ae10"
      },
      "source": [
        "from sklearn.preprocessing import LabelEncoder\n",
        "\n",
        "x = df[[\"whiteELO\", \"blackELO\", \"ECO\", \"timeControl\", \"termination\", \"totalMove\"]]\n",
        "y = df[[\"result\"]]\n",
        "\n",
        "# Handle missing value\n",
        "x[\"whiteELO\"].fillna(round(x[\"whiteELO\"].mean(), 0), inplace = True)\n",
        "x[\"blackELO\"].fillna(round(x[\"blackELO\"].mean(), 0), inplace = True)\n",
        "#x[\"RatingDiff\"].fillna(round(x[\"RatingDiff\"].median(), 0), inplace = True)\n",
        "x[\"timeControl\"].fillna(x[\"timeControl\"].mode().iloc[0], inplace = True)\n",
        "\n",
        "# Convert data to float\n",
        "le = LabelEncoder()\n",
        "x[\"ECO\"] = le.fit_transform(x[\"ECO\"])\n",
        "x[\"timeControl\"] = le.fit_transform(x[\"timeControl\"])\n",
        "x[\"termination\"] = le.fit_transform(x[\"termination\"])\n",
        "y = le.fit_transform(y)"
      ],
      "execution_count": null,
      "outputs": [
        {
          "output_type": "stream",
          "text": [
            "/usr/local/lib/python3.7/dist-packages/pandas/core/series.py:4536: SettingWithCopyWarning: \n",
            "A value is trying to be set on a copy of a slice from a DataFrame\n",
            "\n",
            "See the caveats in the documentation: https://pandas.pydata.org/pandas-docs/stable/user_guide/indexing.html#returning-a-view-versus-a-copy\n",
            "  downcast=downcast,\n",
            "/usr/local/lib/python3.7/dist-packages/ipykernel_launcher.py:14: SettingWithCopyWarning: \n",
            "A value is trying to be set on a copy of a slice from a DataFrame.\n",
            "Try using .loc[row_indexer,col_indexer] = value instead\n",
            "\n",
            "See the caveats in the documentation: https://pandas.pydata.org/pandas-docs/stable/user_guide/indexing.html#returning-a-view-versus-a-copy\n",
            "  \n",
            "/usr/local/lib/python3.7/dist-packages/ipykernel_launcher.py:15: SettingWithCopyWarning: \n",
            "A value is trying to be set on a copy of a slice from a DataFrame.\n",
            "Try using .loc[row_indexer,col_indexer] = value instead\n",
            "\n",
            "See the caveats in the documentation: https://pandas.pydata.org/pandas-docs/stable/user_guide/indexing.html#returning-a-view-versus-a-copy\n",
            "  from ipykernel import kernelapp as app\n",
            "/usr/local/lib/python3.7/dist-packages/ipykernel_launcher.py:16: SettingWithCopyWarning: \n",
            "A value is trying to be set on a copy of a slice from a DataFrame.\n",
            "Try using .loc[row_indexer,col_indexer] = value instead\n",
            "\n",
            "See the caveats in the documentation: https://pandas.pydata.org/pandas-docs/stable/user_guide/indexing.html#returning-a-view-versus-a-copy\n",
            "  app.launch_new_instance()\n",
            "/usr/local/lib/python3.7/dist-packages/sklearn/preprocessing/_label.py:251: DataConversionWarning: A column-vector y was passed when a 1d array was expected. Please change the shape of y to (n_samples, ), for example using ravel().\n",
            "  y = column_or_1d(y, warn=True)\n"
          ],
          "name": "stderr"
        }
      ]
    },
    {
      "cell_type": "code",
      "metadata": {
        "colab": {
          "base_uri": "https://localhost:8080/",
          "height": 419
        },
        "id": "qhTR8myRITUD",
        "outputId": "9b65fd4a-bd13-4d39-a23f-c031817095ae"
      },
      "source": [
        "x"
      ],
      "execution_count": null,
      "outputs": [
        {
          "output_type": "execute_result",
          "data": {
            "text/html": [
              "<div>\n",
              "<style scoped>\n",
              "    .dataframe tbody tr th:only-of-type {\n",
              "        vertical-align: middle;\n",
              "    }\n",
              "\n",
              "    .dataframe tbody tr th {\n",
              "        vertical-align: top;\n",
              "    }\n",
              "\n",
              "    .dataframe thead th {\n",
              "        text-align: right;\n",
              "    }\n",
              "</style>\n",
              "<table border=\"1\" class=\"dataframe\">\n",
              "  <thead>\n",
              "    <tr style=\"text-align: right;\">\n",
              "      <th></th>\n",
              "      <th>whiteELO</th>\n",
              "      <th>blackELO</th>\n",
              "      <th>ECO</th>\n",
              "      <th>timeControl</th>\n",
              "      <th>termination</th>\n",
              "      <th>totalMove</th>\n",
              "    </tr>\n",
              "  </thead>\n",
              "  <tbody>\n",
              "    <tr>\n",
              "      <th>0</th>\n",
              "      <td>1398.0</td>\n",
              "      <td>1767.0</td>\n",
              "      <td>1</td>\n",
              "      <td>708</td>\n",
              "      <td>0</td>\n",
              "      <td>25</td>\n",
              "    </tr>\n",
              "    <tr>\n",
              "      <th>1</th>\n",
              "      <td>1538.0</td>\n",
              "      <td>1461.0</td>\n",
              "      <td>1</td>\n",
              "      <td>708</td>\n",
              "      <td>0</td>\n",
              "      <td>10</td>\n",
              "    </tr>\n",
              "    <tr>\n",
              "      <th>2</th>\n",
              "      <td>1613.0</td>\n",
              "      <td>1604.0</td>\n",
              "      <td>2</td>\n",
              "      <td>708</td>\n",
              "      <td>0</td>\n",
              "      <td>38</td>\n",
              "    </tr>\n",
              "    <tr>\n",
              "      <th>3</th>\n",
              "      <td>1613.0</td>\n",
              "      <td>1604.0</td>\n",
              "      <td>101</td>\n",
              "      <td>708</td>\n",
              "      <td>0</td>\n",
              "      <td>20</td>\n",
              "    </tr>\n",
              "    <tr>\n",
              "      <th>4</th>\n",
              "      <td>1682.0</td>\n",
              "      <td>1122.0</td>\n",
              "      <td>102</td>\n",
              "      <td>708</td>\n",
              "      <td>0</td>\n",
              "      <td>23</td>\n",
              "    </tr>\n",
              "    <tr>\n",
              "      <th>...</th>\n",
              "      <td>...</td>\n",
              "      <td>...</td>\n",
              "      <td>...</td>\n",
              "      <td>...</td>\n",
              "      <td>...</td>\n",
              "      <td>...</td>\n",
              "    </tr>\n",
              "    <tr>\n",
              "      <th>3386418</th>\n",
              "      <td>1692.0</td>\n",
              "      <td>1382.0</td>\n",
              "      <td>41</td>\n",
              "      <td>13</td>\n",
              "      <td>2</td>\n",
              "      <td>19</td>\n",
              "    </tr>\n",
              "    <tr>\n",
              "      <th>3386419</th>\n",
              "      <td>1613.0</td>\n",
              "      <td>1618.0</td>\n",
              "      <td>306</td>\n",
              "      <td>708</td>\n",
              "      <td>2</td>\n",
              "      <td>27</td>\n",
              "    </tr>\n",
              "    <tr>\n",
              "      <th>3386420</th>\n",
              "      <td>1286.0</td>\n",
              "      <td>1293.0</td>\n",
              "      <td>255</td>\n",
              "      <td>130</td>\n",
              "      <td>2</td>\n",
              "      <td>31</td>\n",
              "    </tr>\n",
              "    <tr>\n",
              "      <th>3386421</th>\n",
              "      <td>1646.0</td>\n",
              "      <td>1306.0</td>\n",
              "      <td>244</td>\n",
              "      <td>708</td>\n",
              "      <td>2</td>\n",
              "      <td>22</td>\n",
              "    </tr>\n",
              "    <tr>\n",
              "      <th>3386422</th>\n",
              "      <td>1500.0</td>\n",
              "      <td>1319.0</td>\n",
              "      <td>298</td>\n",
              "      <td>708</td>\n",
              "      <td>2</td>\n",
              "      <td>22</td>\n",
              "    </tr>\n",
              "  </tbody>\n",
              "</table>\n",
              "<p>3386423 rows × 6 columns</p>\n",
              "</div>"
            ],
            "text/plain": [
              "         whiteELO  blackELO  ECO  timeControl  termination  totalMove\n",
              "0          1398.0    1767.0    1          708            0         25\n",
              "1          1538.0    1461.0    1          708            0         10\n",
              "2          1613.0    1604.0    2          708            0         38\n",
              "3          1613.0    1604.0  101          708            0         20\n",
              "4          1682.0    1122.0  102          708            0         23\n",
              "...           ...       ...  ...          ...          ...        ...\n",
              "3386418    1692.0    1382.0   41           13            2         19\n",
              "3386419    1613.0    1618.0  306          708            2         27\n",
              "3386420    1286.0    1293.0  255          130            2         31\n",
              "3386421    1646.0    1306.0  244          708            2         22\n",
              "3386422    1500.0    1319.0  298          708            2         22\n",
              "\n",
              "[3386423 rows x 6 columns]"
            ]
          },
          "metadata": {
            "tags": []
          },
          "execution_count": 14
        }
      ]
    },
    {
      "cell_type": "code",
      "metadata": {
        "colab": {
          "base_uri": "https://localhost:8080/"
        },
        "id": "YzoNzSlZIVpM",
        "outputId": "70cfa123-e837-4890-b538-6b2259c4bd29"
      },
      "source": [
        "y"
      ],
      "execution_count": null,
      "outputs": [
        {
          "output_type": "execute_result",
          "data": {
            "text/plain": [
              "array([0, 0, 1, ..., 1, 1, 0])"
            ]
          },
          "metadata": {
            "tags": []
          },
          "execution_count": 15
        }
      ]
    },
    {
      "cell_type": "markdown",
      "metadata": {
        "id": "vwoDnj6XKRty"
      },
      "source": [
        "Descriptive statistics after handle missing value"
      ]
    },
    {
      "cell_type": "code",
      "metadata": {
        "colab": {
          "base_uri": "https://localhost:8080/",
          "height": 479
        },
        "id": "ajf977gMaead",
        "outputId": "7a8d50db-81ee-458b-db94-b24f5b9d446d"
      },
      "source": [
        "plt.figure(dpi = 100)\n",
        "plt.hist(x[\"whiteELO\"])"
      ],
      "execution_count": null,
      "outputs": [
        {
          "output_type": "execute_result",
          "data": {
            "text/plain": [
              "(array([3.305000e+03, 3.371700e+04, 2.019540e+05, 6.790650e+05,\n",
              "        1.145573e+06, 8.856240e+05, 3.402940e+05, 8.611800e+04,\n",
              "        1.051800e+04, 2.550000e+02]),\n",
              " array([ 758. ,  940.3, 1122.6, 1304.9, 1487.2, 1669.5, 1851.8, 2034.1,\n",
              "        2216.4, 2398.7, 2581. ]),\n",
              " <a list of 10 Patch objects>)"
            ]
          },
          "metadata": {
            "tags": []
          },
          "execution_count": 16
        },
        {
          "output_type": "display_data",
          "data": {
            "image/png": "[encoded data removed]",
            "text/plain": [
              "<Figure size 600x400 with 1 Axes>"
            ]
          },
          "metadata": {
            "tags": [],
            "needs_background": "light"
          }
        }
      ]
    },
    {
      "cell_type": "code",
      "metadata": {
        "colab": {
          "base_uri": "https://localhost:8080/",
          "height": 462
        },
        "id": "yI1Owlj1aeSG",
        "outputId": "606fe773-30d5-4dd9-eb68-d4672ee9f766"
      },
      "source": [
        "plt.figure(dpi = 100)\n",
        "plt.hist(x[\"blackELO\"])"
      ],
      "execution_count": null,
      "outputs": [
        {
          "output_type": "execute_result",
          "data": {
            "text/plain": [
              "(array([3.51600e+03, 3.77500e+04, 2.18497e+05, 6.74524e+05, 1.18062e+06,\n",
              "        8.45662e+05, 3.30081e+05, 8.55040e+04, 1.00240e+04, 2.45000e+02]),\n",
              " array([ 735. ,  921.5, 1108. , 1294.5, 1481. , 1667.5, 1854. , 2040.5,\n",
              "        2227. , 2413.5, 2600. ]),\n",
              " <a list of 10 Patch objects>)"
            ]
          },
          "metadata": {
            "tags": []
          },
          "execution_count": 17
        },
        {
          "output_type": "display_data",
          "data": {
            "image/png": "[encoded data removed]",
            "text/plain": [
              "<Figure size 600x400 with 1 Axes>"
            ]
          },
          "metadata": {
            "tags": [],
            "needs_background": "light"
          }
        }
      ]
    },
    {
      "cell_type": "code",
      "metadata": {
        "colab": {
          "base_uri": "https://localhost:8080/",
          "height": 413
        },
        "id": "iSO24jlraiNt",
        "outputId": "66ab71dd-c5b3-4a88-9f1f-3579a6a75a48"
      },
      "source": [
        "from scipy import stats\n",
        "print(\"Correlation of ELO of both side:\", round(stats.pearsonr(x[\"whiteELO\"], x[\"blackELO\"])[0], 5), \"\\n\")\n",
        "\n",
        "plt.figure(dpi = 100)\n",
        "plt.scatter(df[\"whiteELO\"], df[\"blackELO\"], s = 1)"
      ],
      "execution_count": null,
      "outputs": [
        {
          "output_type": "stream",
          "text": [
            "Correlation of ELO of both side: 0.56321 \n",
            "\n"
          ],
          "name": "stdout"
        },
        {
          "output_type": "execute_result",
          "data": {
            "text/plain": [
              "<matplotlib.collections.PathCollection at 0x7fdd36c5e210>"
            ]
          },
          "metadata": {
            "tags": []
          },
          "execution_count": 20
        },
        {
          "output_type": "display_data",
          "data": {
            "image/png": "[encoded data removed]",
            "text/plain": [
              "<Figure size 600x400 with 1 Axes>"
            ]
          },
          "metadata": {
            "tags": [],
            "needs_background": "light"
          }
        }
      ]
    },
    {
      "cell_type": "code",
      "metadata": {
        "id": "Zhu2zNREIywM"
      },
      "source": [
        "#plt.figure(dpi = 100)\n",
        "#plt.hist(x[\"RatingDiff\"])"
      ],
      "execution_count": null,
      "outputs": []
    },
    {
      "cell_type": "code",
      "metadata": {
        "colab": {
          "base_uri": "https://localhost:8080/",
          "height": 479
        },
        "id": "UsKcnv2yI0PS",
        "outputId": "83645f5f-dbaa-4841-e29e-97c59292cf08"
      },
      "source": [
        "plt.figure(dpi = 100)\n",
        "plt.hist(x[\"totalMove\"])"
      ],
      "execution_count": null,
      "outputs": [
        {
          "output_type": "execute_result",
          "data": {
            "text/plain": [
              "(array([5.999770e+05, 1.651938e+06, 8.541940e+05, 2.383920e+05,\n",
              "        3.582300e+04, 5.001000e+03, 9.240000e+02, 1.510000e+02,\n",
              "        1.900000e+01, 4.000000e+00]),\n",
              " array([  0. ,  19.1,  38.2,  57.3,  76.4,  95.5, 114.6, 133.7, 152.8,\n",
              "        171.9, 191. ]),\n",
              " <a list of 10 Patch objects>)"
            ]
          },
          "metadata": {
            "tags": []
          },
          "execution_count": 21
        },
        {
          "output_type": "display_data",
          "data": {
            "image/png": "[encoded data removed]",
            "text/plain": [
              "<Figure size 600x400 with 1 Axes>"
            ]
          },
          "metadata": {
            "tags": [],
            "needs_background": "light"
          }
        }
      ]
    },
    {
      "cell_type": "markdown",
      "metadata": {
        "id": "h2caHzj7Jz7V"
      },
      "source": [
        "# **Data Modelling**"
      ]
    },
    {
      "cell_type": "markdown",
      "metadata": {
        "id": "NbqHXcH4cFlP"
      },
      "source": [
        "Splitting data"
      ]
    },
    {
      "cell_type": "code",
      "metadata": {
        "id": "XjC8vsCAWPQz"
      },
      "source": [
        "from sklearn.model_selection import train_test_split\n",
        "x_train, x_test, y_train, y_test = train_test_split(x, y, train_size = 0.7, random_state = 48864)"
      ],
      "execution_count": null,
      "outputs": []
    },
    {
      "cell_type": "markdown",
      "metadata": {
        "id": "1RVy_hncKoL7"
      },
      "source": [
        "Modelling"
      ]
    },
    {
      "cell_type": "code",
      "metadata": {
        "id": "HLr2jPVa0Kps"
      },
      "source": [
        "%pip install catBoost"
      ],
      "execution_count": null,
      "outputs": []
    },
    {
      "cell_type": "code",
      "metadata": {
        "id": "muOLWCDUAF29"
      },
      "source": [
        "from sklearn.linear_model import LogisticRegression\n",
        "from sklearn.tree import DecisionTreeClassifier\n",
        "from sklearn.neural_network import MLPClassifier\n",
        "from catboost import CatBoostClassifier\n",
        "from sklearn.model_selection import cross_val_score\n",
        "from sklearn.model_selection import RepeatedStratifiedKFold\n",
        "from sklearn.metrics import classification_report, confusion_matrix\n",
        "from sklearn import metrics\n",
        "\n",
        "class_names = [\"0-1\",\"1-0\",\"1/2-1/2\"]\n",
        "scorer = metrics.make_scorer(metrics.f1_score, average = \"weighted\")\n",
        "k = RepeatedStratifiedKFold(n_splits = 5, n_repeats = 1)"
      ],
      "execution_count": null,
      "outputs": []
    },
    {
      "cell_type": "code",
      "metadata": {
        "id": "q8vEBDEY7amg",
        "colab": {
          "base_uri": "https://localhost:8080/"
        },
        "outputId": "12111e1b-f439-4a20-d8a0-ea432b307f4a"
      },
      "source": [
        "LR = LogisticRegression(solver = \"lbfgs\", multi_class = \"multinomial\", max_iter = 100)\n",
        "LR_score = cross_val_score(LR, x_train, y_train, cv = k, scoring = scorer)"
      ],
      "execution_count": null,
      "outputs": [
        {
          "output_type": "stream",
          "text": [
            "/usr/local/lib/python3.7/dist-packages/sklearn/linear_model/_logistic.py:940: ConvergenceWarning: lbfgs failed to converge (status=1):\n",
            "STOP: TOTAL NO. of ITERATIONS REACHED LIMIT.\n",
            "\n",
            "Increase the number of iterations (max_iter) or scale the data as shown in:\n",
            "    https://scikit-learn.org/stable/modules/preprocessing.html\n",
            "Please also refer to the documentation for alternative solver options:\n",
            "    https://scikit-learn.org/stable/modules/linear_model.html#logistic-regression\n",
            "  extra_warning_msg=_LOGISTIC_SOLVER_CONVERGENCE_MSG)\n",
            "/usr/local/lib/python3.7/dist-packages/sklearn/linear_model/_logistic.py:940: ConvergenceWarning: lbfgs failed to converge (status=1):\n",
            "STOP: TOTAL NO. of ITERATIONS REACHED LIMIT.\n",
            "\n",
            "Increase the number of iterations (max_iter) or scale the data as shown in:\n",
            "    https://scikit-learn.org/stable/modules/preprocessing.html\n",
            "Please also refer to the documentation for alternative solver options:\n",
            "    https://scikit-learn.org/stable/modules/linear_model.html#logistic-regression\n",
            "  extra_warning_msg=_LOGISTIC_SOLVER_CONVERGENCE_MSG)\n",
            "/usr/local/lib/python3.7/dist-packages/sklearn/linear_model/_logistic.py:940: ConvergenceWarning: lbfgs failed to converge (status=1):\n",
            "STOP: TOTAL NO. of ITERATIONS REACHED LIMIT.\n",
            "\n",
            "Increase the number of iterations (max_iter) or scale the data as shown in:\n",
            "    https://scikit-learn.org/stable/modules/preprocessing.html\n",
            "Please also refer to the documentation for alternative solver options:\n",
            "    https://scikit-learn.org/stable/modules/linear_model.html#logistic-regression\n",
            "  extra_warning_msg=_LOGISTIC_SOLVER_CONVERGENCE_MSG)\n",
            "/usr/local/lib/python3.7/dist-packages/sklearn/linear_model/_logistic.py:940: ConvergenceWarning: lbfgs failed to converge (status=1):\n",
            "STOP: TOTAL NO. of ITERATIONS REACHED LIMIT.\n",
            "\n",
            "Increase the number of iterations (max_iter) or scale the data as shown in:\n",
            "    https://scikit-learn.org/stable/modules/preprocessing.html\n",
            "Please also refer to the documentation for alternative solver options:\n",
            "    https://scikit-learn.org/stable/modules/linear_model.html#logistic-regression\n",
            "  extra_warning_msg=_LOGISTIC_SOLVER_CONVERGENCE_MSG)\n",
            "/usr/local/lib/python3.7/dist-packages/sklearn/linear_model/_logistic.py:940: ConvergenceWarning: lbfgs failed to converge (status=1):\n",
            "STOP: TOTAL NO. of ITERATIONS REACHED LIMIT.\n",
            "\n",
            "Increase the number of iterations (max_iter) or scale the data as shown in:\n",
            "    https://scikit-learn.org/stable/modules/preprocessing.html\n",
            "Please also refer to the documentation for alternative solver options:\n",
            "    https://scikit-learn.org/stable/modules/linear_model.html#logistic-regression\n",
            "  extra_warning_msg=_LOGISTIC_SOLVER_CONVERGENCE_MSG)\n"
          ],
          "name": "stderr"
        }
      ]
    },
    {
      "cell_type": "code",
      "metadata": {
        "id": "QjXj4ujm7dlP"
      },
      "source": [
        "DT = DecisionTreeClassifier()\n",
        "DT_score = cross_val_score(DT, x_train, y_train, cv = k, scoring = scorer)"
      ],
      "execution_count": null,
      "outputs": []
    },
    {
      "cell_type": "code",
      "metadata": {
        "id": "SmnLTswp7e4n"
      },
      "source": [
        "NN = MLPClassifier(solver = \"sgd\", alpha = 1e-5, activation = \"tanh\", hidden_layer_sizes = (150, 50))\n",
        "NN_score = cross_val_score(DT, x_train, y_train, cv = k, scoring = scorer)"
      ],
      "execution_count": null,
      "outputs": []
    },
    {
      "cell_type": "code",
      "metadata": {
        "id": "icyoS57z7gJn",
        "colab": {
          "base_uri": "https://localhost:8080/"
        },
        "outputId": "f9dcb75a-56aa-4b85-debb-28ba6ae98cb1"
      },
      "source": [
        "CB = CatBoostClassifier(iterations = 50, learning_rate = 0.1, random_strength = 0.1, depth = 8, loss_function = \"MultiClass\", leaf_estimation_method = \"Newton\")\n",
        "CB_score = cross_val_score(CB, x_train, y_train, cv = k, scoring = scorer)"
      ],
      "execution_count": null,
      "outputs": [
        {
          "output_type": "stream",
          "text": [
            "0:\tlearn: 1.0418941\ttotal: 1.67s\tremaining: 1m 21s\n",
            "1:\tlearn: 0.9952469\ttotal: 2.98s\tremaining: 1m 11s\n",
            "2:\tlearn: 0.9563179\ttotal: 4.29s\tremaining: 1m 7s\n",
            "3:\tlearn: 0.9233913\ttotal: 5.58s\tremaining: 1m 4s\n",
            "4:\tlearn: 0.8950877\ttotal: 6.93s\tremaining: 1m 2s\n",
            "5:\tlearn: 0.8707869\ttotal: 8.23s\tremaining: 1m\n",
            "6:\tlearn: 0.8497834\ttotal: 9.56s\tremaining: 58.7s\n",
            "7:\tlearn: 0.8316173\ttotal: 10.9s\tremaining: 57.2s\n",
            "8:\tlearn: 0.8158750\ttotal: 12.3s\tremaining: 55.8s\n",
            "9:\tlearn: 0.8021504\ttotal: 13.6s\tremaining: 54.5s\n",
            "10:\tlearn: 0.7900919\ttotal: 15s\tremaining: 53.1s\n",
            "11:\tlearn: 0.7793613\ttotal: 16.3s\tremaining: 51.8s\n",
            "12:\tlearn: 0.7700560\ttotal: 17.7s\tremaining: 50.4s\n",
            "13:\tlearn: 0.7619895\ttotal: 19.1s\tremaining: 49.1s\n",
            "14:\tlearn: 0.7547222\ttotal: 20.5s\tremaining: 47.8s\n",
            "15:\tlearn: 0.7481045\ttotal: 21.9s\tremaining: 46.4s\n",
            "16:\tlearn: 0.7423365\ttotal: 23.2s\tremaining: 45.1s\n",
            "17:\tlearn: 0.7375675\ttotal: 24.6s\tremaining: 43.8s\n",
            "18:\tlearn: 0.7330913\ttotal: 26s\tremaining: 42.5s\n",
            "19:\tlearn: 0.7288017\ttotal: 27.4s\tremaining: 41.1s\n",
            "20:\tlearn: 0.7252317\ttotal: 28.8s\tremaining: 39.8s\n",
            "21:\tlearn: 0.7218033\ttotal: 30.2s\tremaining: 38.4s\n",
            "22:\tlearn: 0.7187795\ttotal: 31.6s\tremaining: 37.1s\n",
            "23:\tlearn: 0.7163902\ttotal: 33s\tremaining: 35.8s\n",
            "24:\tlearn: 0.7143976\ttotal: 34.4s\tremaining: 34.4s\n",
            "25:\tlearn: 0.7122092\ttotal: 35.8s\tremaining: 33s\n",
            "26:\tlearn: 0.7101973\ttotal: 37.2s\tremaining: 31.7s\n",
            "27:\tlearn: 0.7088461\ttotal: 38.6s\tremaining: 30.3s\n",
            "28:\tlearn: 0.7073569\ttotal: 40s\tremaining: 28.9s\n",
            "29:\tlearn: 0.7060183\ttotal: 41.4s\tremaining: 27.6s\n",
            "30:\tlearn: 0.7046336\ttotal: 42.8s\tremaining: 26.2s\n",
            "31:\tlearn: 0.7036670\ttotal: 44.2s\tremaining: 24.9s\n",
            "32:\tlearn: 0.7025576\ttotal: 45.6s\tremaining: 23.5s\n",
            "33:\tlearn: 0.7015922\ttotal: 47s\tremaining: 22.1s\n",
            "34:\tlearn: 0.7008080\ttotal: 48.4s\tremaining: 20.7s\n",
            "35:\tlearn: 0.6998801\ttotal: 49.8s\tremaining: 19.4s\n",
            "36:\tlearn: 0.6994298\ttotal: 51.2s\tremaining: 18s\n",
            "37:\tlearn: 0.6990019\ttotal: 52.6s\tremaining: 16.6s\n",
            "38:\tlearn: 0.6984391\ttotal: 54s\tremaining: 15.2s\n",
            "39:\tlearn: 0.6979206\ttotal: 55.4s\tremaining: 13.8s\n",
            "40:\tlearn: 0.6974726\ttotal: 56.8s\tremaining: 12.5s\n",
            "41:\tlearn: 0.6969931\ttotal: 58.2s\tremaining: 11.1s\n",
            "42:\tlearn: 0.6966992\ttotal: 59.6s\tremaining: 9.7s\n",
            "43:\tlearn: 0.6963431\ttotal: 1m 1s\tremaining: 8.32s\n",
            "44:\tlearn: 0.6959351\ttotal: 1m 2s\tremaining: 6.94s\n",
            "45:\tlearn: 0.6957509\ttotal: 1m 3s\tremaining: 5.55s\n",
            "46:\tlearn: 0.6955083\ttotal: 1m 5s\tremaining: 4.16s\n",
            "47:\tlearn: 0.6951373\ttotal: 1m 6s\tremaining: 2.77s\n",
            "48:\tlearn: 0.6949689\ttotal: 1m 8s\tremaining: 1.39s\n",
            "49:\tlearn: 0.6946566\ttotal: 1m 9s\tremaining: 0us\n",
            "0:\tlearn: 1.0419071\ttotal: 1.38s\tremaining: 1m 7s\n",
            "1:\tlearn: 0.9952278\ttotal: 2.78s\tremaining: 1m 6s\n",
            "2:\tlearn: 0.9561386\ttotal: 4.17s\tremaining: 1m 5s\n",
            "3:\tlearn: 0.9231737\ttotal: 5.61s\tremaining: 1m 4s\n",
            "4:\tlearn: 0.8951066\ttotal: 6.99s\tremaining: 1m 2s\n",
            "5:\tlearn: 0.8708211\ttotal: 8.39s\tremaining: 1m 1s\n",
            "6:\tlearn: 0.8498083\ttotal: 9.78s\tremaining: 1m\n",
            "7:\tlearn: 0.8317576\ttotal: 11.2s\tremaining: 58.8s\n",
            "8:\tlearn: 0.8159619\ttotal: 12.6s\tremaining: 57.3s\n",
            "9:\tlearn: 0.8020818\ttotal: 14s\tremaining: 55.9s\n",
            "10:\tlearn: 0.7901610\ttotal: 15.4s\tremaining: 54.6s\n",
            "11:\tlearn: 0.7795132\ttotal: 16.8s\tremaining: 53.2s\n",
            "12:\tlearn: 0.7702769\ttotal: 18.2s\tremaining: 51.8s\n",
            "13:\tlearn: 0.7619264\ttotal: 19.6s\tremaining: 50.4s\n",
            "14:\tlearn: 0.7546572\ttotal: 21s\tremaining: 49s\n",
            "15:\tlearn: 0.7482220\ttotal: 22.4s\tremaining: 47.6s\n",
            "16:\tlearn: 0.7424806\ttotal: 23.8s\tremaining: 46.2s\n",
            "17:\tlearn: 0.7371824\ttotal: 25.2s\tremaining: 44.8s\n",
            "18:\tlearn: 0.7324204\ttotal: 26.6s\tremaining: 43.4s\n",
            "19:\tlearn: 0.7283589\ttotal: 28s\tremaining: 42.1s\n",
            "20:\tlearn: 0.7246110\ttotal: 29.4s\tremaining: 40.7s\n",
            "21:\tlearn: 0.7218726\ttotal: 30.8s\tremaining: 39.2s\n",
            "22:\tlearn: 0.7191036\ttotal: 32.2s\tremaining: 37.8s\n",
            "23:\tlearn: 0.7165565\ttotal: 33.6s\tremaining: 36.5s\n",
            "24:\tlearn: 0.7140321\ttotal: 35.1s\tremaining: 35.1s\n",
            "25:\tlearn: 0.7118966\ttotal: 36.5s\tremaining: 33.7s\n",
            "26:\tlearn: 0.7101786\ttotal: 37.9s\tremaining: 32.3s\n",
            "27:\tlearn: 0.7089241\ttotal: 39.3s\tremaining: 30.9s\n",
            "28:\tlearn: 0.7072886\ttotal: 40.7s\tremaining: 29.5s\n",
            "29:\tlearn: 0.7058943\ttotal: 42.1s\tremaining: 28.1s\n",
            "30:\tlearn: 0.7048274\ttotal: 43.5s\tremaining: 26.7s\n",
            "31:\tlearn: 0.7035708\ttotal: 44.9s\tremaining: 25.3s\n",
            "32:\tlearn: 0.7024211\ttotal: 46.4s\tremaining: 23.9s\n",
            "33:\tlearn: 0.7014301\ttotal: 47.7s\tremaining: 22.5s\n",
            "34:\tlearn: 0.7006054\ttotal: 49.2s\tremaining: 21.1s\n",
            "35:\tlearn: 0.7000780\ttotal: 50.6s\tremaining: 19.7s\n",
            "36:\tlearn: 0.6995954\ttotal: 52s\tremaining: 18.3s\n",
            "37:\tlearn: 0.6989606\ttotal: 53.4s\tremaining: 16.9s\n",
            "38:\tlearn: 0.6984278\ttotal: 54.8s\tremaining: 15.5s\n",
            "39:\tlearn: 0.6977979\ttotal: 56.2s\tremaining: 14.1s\n",
            "40:\tlearn: 0.6971396\ttotal: 57.7s\tremaining: 12.7s\n",
            "41:\tlearn: 0.6966694\ttotal: 59.1s\tremaining: 11.3s\n",
            "42:\tlearn: 0.6962688\ttotal: 1m\tremaining: 9.84s\n",
            "43:\tlearn: 0.6960243\ttotal: 1m 1s\tremaining: 8.44s\n",
            "44:\tlearn: 0.6956348\ttotal: 1m 3s\tremaining: 7.03s\n",
            "45:\tlearn: 0.6953069\ttotal: 1m 4s\tremaining: 5.63s\n",
            "46:\tlearn: 0.6950561\ttotal: 1m 6s\tremaining: 4.22s\n",
            "47:\tlearn: 0.6947992\ttotal: 1m 7s\tremaining: 2.81s\n",
            "48:\tlearn: 0.6946378\ttotal: 1m 8s\tremaining: 1.41s\n",
            "49:\tlearn: 0.6943499\ttotal: 1m 10s\tremaining: 0us\n",
            "0:\tlearn: 1.0419430\ttotal: 1.38s\tremaining: 1m 7s\n",
            "1:\tlearn: 0.9953298\ttotal: 2.79s\tremaining: 1m 6s\n",
            "2:\tlearn: 0.9563406\ttotal: 4.2s\tremaining: 1m 5s\n",
            "3:\tlearn: 0.9233240\ttotal: 5.61s\tremaining: 1m 4s\n",
            "4:\tlearn: 0.8951492\ttotal: 7.02s\tremaining: 1m 3s\n",
            "5:\tlearn: 0.8708391\ttotal: 8.42s\tremaining: 1m 1s\n",
            "6:\tlearn: 0.8498454\ttotal: 9.83s\tremaining: 1m\n",
            "7:\tlearn: 0.8317788\ttotal: 11.2s\tremaining: 59s\n",
            "8:\tlearn: 0.8159045\ttotal: 12.7s\tremaining: 57.7s\n",
            "9:\tlearn: 0.8019266\ttotal: 14.1s\tremaining: 56.3s\n",
            "10:\tlearn: 0.7899111\ttotal: 15.5s\tremaining: 54.9s\n",
            "11:\tlearn: 0.7792657\ttotal: 16.9s\tremaining: 53.5s\n",
            "12:\tlearn: 0.7698701\ttotal: 18.3s\tremaining: 52.1s\n",
            "13:\tlearn: 0.7618058\ttotal: 19.7s\tremaining: 50.7s\n",
            "14:\tlearn: 0.7544822\ttotal: 21.1s\tremaining: 49.3s\n",
            "15:\tlearn: 0.7480148\ttotal: 22.6s\tremaining: 47.9s\n",
            "16:\tlearn: 0.7423819\ttotal: 24s\tremaining: 46.5s\n",
            "17:\tlearn: 0.7370900\ttotal: 25.4s\tremaining: 45.1s\n",
            "18:\tlearn: 0.7326441\ttotal: 26.8s\tremaining: 43.7s\n",
            "19:\tlearn: 0.7285306\ttotal: 28.2s\tremaining: 42.3s\n",
            "20:\tlearn: 0.7253654\ttotal: 29.6s\tremaining: 40.9s\n",
            "21:\tlearn: 0.7220279\ttotal: 31s\tremaining: 39.5s\n",
            "22:\tlearn: 0.7189528\ttotal: 32.4s\tremaining: 38.1s\n",
            "23:\tlearn: 0.7166695\ttotal: 33.9s\tremaining: 36.7s\n",
            "24:\tlearn: 0.7142040\ttotal: 35.3s\tremaining: 35.3s\n",
            "25:\tlearn: 0.7120415\ttotal: 36.7s\tremaining: 33.9s\n",
            "26:\tlearn: 0.7101699\ttotal: 38.1s\tremaining: 32.5s\n",
            "27:\tlearn: 0.7086715\ttotal: 39.5s\tremaining: 31.1s\n",
            "28:\tlearn: 0.7069794\ttotal: 41s\tremaining: 29.7s\n",
            "29:\tlearn: 0.7057711\ttotal: 42.4s\tremaining: 28.2s\n",
            "30:\tlearn: 0.7045361\ttotal: 43.8s\tremaining: 26.8s\n",
            "31:\tlearn: 0.7033051\ttotal: 45.2s\tremaining: 25.4s\n",
            "32:\tlearn: 0.7027127\ttotal: 46.6s\tremaining: 24s\n",
            "33:\tlearn: 0.7019391\ttotal: 48s\tremaining: 22.6s\n",
            "34:\tlearn: 0.7009881\ttotal: 49.4s\tremaining: 21.2s\n",
            "35:\tlearn: 0.7004434\ttotal: 50.8s\tremaining: 19.8s\n",
            "36:\tlearn: 0.6996387\ttotal: 52.2s\tremaining: 18.4s\n",
            "37:\tlearn: 0.6989133\ttotal: 53.7s\tremaining: 16.9s\n",
            "38:\tlearn: 0.6981589\ttotal: 55.1s\tremaining: 15.5s\n",
            "39:\tlearn: 0.6977630\ttotal: 56.5s\tremaining: 14.1s\n",
            "40:\tlearn: 0.6972784\ttotal: 57.9s\tremaining: 12.7s\n",
            "41:\tlearn: 0.6968463\ttotal: 59.3s\tremaining: 11.3s\n",
            "42:\tlearn: 0.6963776\ttotal: 1m\tremaining: 9.88s\n",
            "43:\tlearn: 0.6961328\ttotal: 1m 2s\tremaining: 8.47s\n",
            "44:\tlearn: 0.6958881\ttotal: 1m 3s\tremaining: 7.05s\n",
            "45:\tlearn: 0.6955605\ttotal: 1m 4s\tremaining: 5.64s\n",
            "46:\tlearn: 0.6953239\ttotal: 1m 6s\tremaining: 4.23s\n",
            "47:\tlearn: 0.6950845\ttotal: 1m 7s\tremaining: 2.82s\n",
            "48:\tlearn: 0.6948076\ttotal: 1m 9s\tremaining: 1.41s\n",
            "49:\tlearn: 0.6946383\ttotal: 1m 10s\tremaining: 0us\n",
            "0:\tlearn: 1.0422414\ttotal: 1.39s\tremaining: 1m 7s\n",
            "1:\tlearn: 0.9953783\ttotal: 2.78s\tremaining: 1m 6s\n",
            "2:\tlearn: 0.9565684\ttotal: 4.17s\tremaining: 1m 5s\n",
            "3:\tlearn: 0.9234044\ttotal: 5.58s\tremaining: 1m 4s\n",
            "4:\tlearn: 0.8952094\ttotal: 6.98s\tremaining: 1m 2s\n",
            "5:\tlearn: 0.8708351\ttotal: 8.46s\tremaining: 1m 2s\n",
            "6:\tlearn: 0.8499587\ttotal: 10.3s\tremaining: 1m 3s\n",
            "7:\tlearn: 0.8318562\ttotal: 11.7s\tremaining: 1m 1s\n",
            "8:\tlearn: 0.8159881\ttotal: 13.1s\tremaining: 59.9s\n",
            "9:\tlearn: 0.8020674\ttotal: 14.6s\tremaining: 58.3s\n",
            "10:\tlearn: 0.7901166\ttotal: 16s\tremaining: 56.6s\n",
            "11:\tlearn: 0.7794894\ttotal: 17.4s\tremaining: 55s\n",
            "12:\tlearn: 0.7701758\ttotal: 18.8s\tremaining: 53.5s\n",
            "13:\tlearn: 0.7619904\ttotal: 20.2s\tremaining: 51.9s\n",
            "14:\tlearn: 0.7549167\ttotal: 21.6s\tremaining: 50.4s\n",
            "15:\tlearn: 0.7483305\ttotal: 23s\tremaining: 48.9s\n",
            "16:\tlearn: 0.7423893\ttotal: 24.4s\tremaining: 47.4s\n",
            "17:\tlearn: 0.7375595\ttotal: 25.8s\tremaining: 45.9s\n",
            "18:\tlearn: 0.7329993\ttotal: 27.2s\tremaining: 44.4s\n",
            "19:\tlearn: 0.7287215\ttotal: 28.6s\tremaining: 43s\n",
            "20:\tlearn: 0.7249522\ttotal: 30s\tremaining: 41.5s\n",
            "21:\tlearn: 0.7219940\ttotal: 31.4s\tremaining: 40s\n",
            "22:\tlearn: 0.7190789\ttotal: 32.8s\tremaining: 38.6s\n",
            "23:\tlearn: 0.7165545\ttotal: 34.3s\tremaining: 37.1s\n",
            "24:\tlearn: 0.7141886\ttotal: 35.7s\tremaining: 35.7s\n",
            "25:\tlearn: 0.7119992\ttotal: 37.1s\tremaining: 34.2s\n",
            "26:\tlearn: 0.7102272\ttotal: 38.5s\tremaining: 32.8s\n",
            "27:\tlearn: 0.7084518\ttotal: 39.9s\tremaining: 31.3s\n",
            "28:\tlearn: 0.7069482\ttotal: 41.3s\tremaining: 29.9s\n",
            "29:\tlearn: 0.7058628\ttotal: 42.7s\tremaining: 28.5s\n",
            "30:\tlearn: 0.7046578\ttotal: 44.1s\tremaining: 27s\n",
            "31:\tlearn: 0.7034522\ttotal: 45.5s\tremaining: 25.6s\n",
            "32:\tlearn: 0.7024948\ttotal: 46.9s\tremaining: 24.2s\n",
            "33:\tlearn: 0.7018448\ttotal: 48.3s\tremaining: 22.7s\n",
            "34:\tlearn: 0.7009309\ttotal: 49.7s\tremaining: 21.3s\n",
            "35:\tlearn: 0.7000777\ttotal: 51.1s\tremaining: 19.9s\n",
            "36:\tlearn: 0.6997117\ttotal: 52.5s\tremaining: 18.4s\n",
            "37:\tlearn: 0.6990094\ttotal: 53.9s\tremaining: 17s\n",
            "38:\tlearn: 0.6983134\ttotal: 55.3s\tremaining: 15.6s\n",
            "39:\tlearn: 0.6977135\ttotal: 56.7s\tremaining: 14.2s\n",
            "40:\tlearn: 0.6973340\ttotal: 58.1s\tremaining: 12.8s\n",
            "41:\tlearn: 0.6968294\ttotal: 59.6s\tremaining: 11.3s\n",
            "42:\tlearn: 0.6965854\ttotal: 1m\tremaining: 9.92s\n",
            "43:\tlearn: 0.6962172\ttotal: 1m 2s\tremaining: 8.51s\n",
            "44:\tlearn: 0.6958663\ttotal: 1m 3s\tremaining: 7.09s\n",
            "45:\tlearn: 0.6954369\ttotal: 1m 5s\tremaining: 5.67s\n",
            "46:\tlearn: 0.6949934\ttotal: 1m 6s\tremaining: 4.25s\n",
            "47:\tlearn: 0.6948274\ttotal: 1m 8s\tremaining: 2.83s\n",
            "48:\tlearn: 0.6946856\ttotal: 1m 9s\tremaining: 1.42s\n",
            "49:\tlearn: 0.6944760\ttotal: 1m 10s\tremaining: 0us\n",
            "0:\tlearn: 1.0419146\ttotal: 1.38s\tremaining: 1m 7s\n",
            "1:\tlearn: 0.9952644\ttotal: 2.78s\tremaining: 1m 6s\n",
            "2:\tlearn: 0.9562663\ttotal: 4.16s\tremaining: 1m 5s\n",
            "3:\tlearn: 0.9230864\ttotal: 5.56s\tremaining: 1m 3s\n",
            "4:\tlearn: 0.8948705\ttotal: 6.95s\tremaining: 1m 2s\n",
            "5:\tlearn: 0.8706332\ttotal: 8.36s\tremaining: 1m 1s\n",
            "6:\tlearn: 0.8497628\ttotal: 9.76s\tremaining: 60s\n",
            "7:\tlearn: 0.8316260\ttotal: 11.2s\tremaining: 58.7s\n",
            "8:\tlearn: 0.8157943\ttotal: 12.6s\tremaining: 57.4s\n",
            "9:\tlearn: 0.8019905\ttotal: 14s\tremaining: 56s\n",
            "10:\tlearn: 0.7898410\ttotal: 15.4s\tremaining: 54.6s\n",
            "11:\tlearn: 0.7792032\ttotal: 16.8s\tremaining: 53.2s\n",
            "12:\tlearn: 0.7700588\ttotal: 18.2s\tremaining: 51.7s\n",
            "13:\tlearn: 0.7616853\ttotal: 19.6s\tremaining: 50.4s\n",
            "14:\tlearn: 0.7543455\ttotal: 21s\tremaining: 49s\n",
            "15:\tlearn: 0.7478431\ttotal: 22.4s\tremaining: 47.6s\n",
            "16:\tlearn: 0.7419594\ttotal: 23.8s\tremaining: 46.2s\n",
            "17:\tlearn: 0.7371571\ttotal: 25.2s\tremaining: 44.8s\n",
            "18:\tlearn: 0.7325599\ttotal: 26.6s\tremaining: 43.4s\n",
            "19:\tlearn: 0.7283769\ttotal: 28s\tremaining: 42s\n",
            "20:\tlearn: 0.7248804\ttotal: 29.4s\tremaining: 40.6s\n",
            "21:\tlearn: 0.7218173\ttotal: 30.8s\tremaining: 39.2s\n",
            "22:\tlearn: 0.7188196\ttotal: 32.2s\tremaining: 37.8s\n",
            "23:\tlearn: 0.7162085\ttotal: 33.6s\tremaining: 36.4s\n",
            "24:\tlearn: 0.7140393\ttotal: 35s\tremaining: 35s\n",
            "25:\tlearn: 0.7119953\ttotal: 36.4s\tremaining: 33.6s\n",
            "26:\tlearn: 0.7103196\ttotal: 37.8s\tremaining: 32.2s\n",
            "27:\tlearn: 0.7085445\ttotal: 39.3s\tremaining: 30.8s\n",
            "28:\tlearn: 0.7069394\ttotal: 40.7s\tremaining: 29.5s\n",
            "29:\tlearn: 0.7054218\ttotal: 42.1s\tremaining: 28.1s\n",
            "30:\tlearn: 0.7042215\ttotal: 43.5s\tremaining: 26.7s\n",
            "31:\tlearn: 0.7033023\ttotal: 44.9s\tremaining: 25.2s\n",
            "32:\tlearn: 0.7023097\ttotal: 46.3s\tremaining: 23.8s\n",
            "33:\tlearn: 0.7012972\ttotal: 47.7s\tremaining: 22.4s\n",
            "34:\tlearn: 0.7008509\ttotal: 49.1s\tremaining: 21s\n",
            "35:\tlearn: 0.7000546\ttotal: 50.5s\tremaining: 19.6s\n",
            "36:\tlearn: 0.6993127\ttotal: 51.9s\tremaining: 18.2s\n",
            "37:\tlearn: 0.6988697\ttotal: 53.3s\tremaining: 16.8s\n",
            "38:\tlearn: 0.6983171\ttotal: 54.7s\tremaining: 15.4s\n",
            "39:\tlearn: 0.6977169\ttotal: 56.1s\tremaining: 14s\n",
            "40:\tlearn: 0.6971479\ttotal: 57.5s\tremaining: 12.6s\n",
            "41:\tlearn: 0.6968858\ttotal: 58.9s\tremaining: 11.2s\n",
            "42:\tlearn: 0.6964862\ttotal: 1m\tremaining: 9.82s\n",
            "43:\tlearn: 0.6960637\ttotal: 1m 1s\tremaining: 8.42s\n",
            "44:\tlearn: 0.6958113\ttotal: 1m 3s\tremaining: 7.02s\n",
            "45:\tlearn: 0.6954300\ttotal: 1m 4s\tremaining: 5.61s\n",
            "46:\tlearn: 0.6951546\ttotal: 1m 5s\tremaining: 4.21s\n",
            "47:\tlearn: 0.6948561\ttotal: 1m 7s\tremaining: 2.81s\n",
            "48:\tlearn: 0.6946640\ttotal: 1m 8s\tremaining: 1.4s\n",
            "49:\tlearn: 0.6945261\ttotal: 1m 10s\tremaining: 0us\n"
          ],
          "name": "stdout"
        }
      ]
    },
    {
      "cell_type": "markdown",
      "metadata": {
        "id": "eFWAW_bLKqYU"
      },
      "source": [
        "Comparison of models score"
      ]
    },
    {
      "cell_type": "code",
      "metadata": {
        "id": "q1HSbAB3od09",
        "colab": {
          "base_uri": "https://localhost:8080/"
        },
        "outputId": "b9ea2a69-123b-463d-a77d-1ddc5bdc0cce"
      },
      "source": [
        "print(\"Comparison of model efficiency base on F1 score\\n\")\n",
        "print(\"LR :\", np.around(LR_score, 5))\n",
        "print(\"DT :\", np.around(DT_score, 5))\n",
        "print(\"NN :\", np.around(NN_score, 5))\n",
        "print(\"CB :\", np.around(CB_score, 5))\n",
        "print(\"\\n\")\n",
        "print(\"Logistic Regression score        :\", round(np.mean(LR_score), 5) , \" (\", round(np.mean(LR_score) * 100, 5), \"% ) standard deviation: \", round(np.std(LR_score) * 100, 2), \"%\")\n",
        "print(\"Decision Tree score              :\", round(np.mean(DT_score), 5) , \" (\", round(np.mean(DT_score) * 100, 5), \"% ) standard deviation: \", round(np.std(DT_score) * 100, 2), \"%\")\n",
        "print(\"Multi-layer Perceptron score     :\", round(np.mean(NN_score), 5) , \" (\", round(np.mean(NN_score) * 100, 5), \"% ) standard deviation: \", round(np.std(NN_score) * 100, 2), \"%\")\n",
        "print(\"CatBoost score                   :\", round(np.mean(CB_score), 5) , \" (\", round(np.mean(CB_score) * 100, 5), \"% ) standard deviation: \", round(np.std(CB_score) * 100, 2), \"%\")"
      ],
      "execution_count": null,
      "outputs": [
        {
          "output_type": "stream",
          "text": [
            "Comparison of model efficiency base on F1 score\n",
            "\n",
            "LR : [0.63357 0.63255 0.6324  0.63217 0.63108]\n",
            "DT : [0.54985 0.5492  0.54965 0.54933 0.54817]\n",
            "NN : [0.54985 0.54888 0.54944 0.54935 0.5484 ]\n",
            "CB : [0.6322  0.63263 0.63255 0.63331 0.63294]\n",
            "\n",
            "\n",
            "Logistic Regression score        : 0.63236  ( 63.23555 % ) standard deviation:  0.08 %\n",
            "Decision Tree score              : 0.54924  ( 54.92423 % ) standard deviation:  0.06 %\n",
            "Multi-layer Perceptron score     : 0.54918  ( 54.91845 % ) standard deviation:  0.05 %\n",
            "CatBoost score                   : 0.63273  ( 63.27266 % ) standard deviation:  0.04 %\n"
          ],
          "name": "stdout"
        }
      ]
    },
    {
      "cell_type": "markdown",
      "metadata": {
        "id": "VMyTMqU7e2ms"
      },
      "source": [
        "Finale Evaluation"
      ]
    },
    {
      "cell_type": "code",
      "metadata": {
        "id": "1Ry9qPn7Wi3G",
        "colab": {
          "base_uri": "https://localhost:8080/"
        },
        "outputId": "b9d3316e-a6d3-4187-dd0b-900471f6c976"
      },
      "source": [
        "LR.fit(x_train, y_train)\n",
        "DT.fit(x_train, y_train)\n",
        "NN.fit(x_train, y_train)\n",
        "CB.fit(x_train, y_train)\n",
        "\n",
        "LR_y_pred = LR.predict(x_test)\n",
        "DT_y_pred = DT.predict(x_test)\n",
        "NN_y_pred = NN.predict(x_test)\n",
        "CB_y_pred = CB.predict(x_test)"
      ],
      "execution_count": null,
      "outputs": [
        {
          "output_type": "stream",
          "text": [
            "/usr/local/lib/python3.7/dist-packages/sklearn/linear_model/_logistic.py:940: ConvergenceWarning: lbfgs failed to converge (status=1):\n",
            "STOP: TOTAL NO. of ITERATIONS REACHED LIMIT.\n",
            "\n",
            "Increase the number of iterations (max_iter) or scale the data as shown in:\n",
            "    https://scikit-learn.org/stable/modules/preprocessing.html\n",
            "Please also refer to the documentation for alternative solver options:\n",
            "    https://scikit-learn.org/stable/modules/linear_model.html#logistic-regression\n",
            "  extra_warning_msg=_LOGISTIC_SOLVER_CONVERGENCE_MSG)\n"
          ],
          "name": "stderr"
        },
        {
          "output_type": "stream",
          "text": [
            "0:\tlearn: 1.0419453\ttotal: 2.02s\tremaining: 1m 38s\n",
            "1:\tlearn: 0.9950904\ttotal: 3.74s\tremaining: 1m 29s\n",
            "2:\tlearn: 0.9561575\ttotal: 5.46s\tremaining: 1m 25s\n",
            "3:\tlearn: 0.9231216\ttotal: 7.23s\tremaining: 1m 23s\n",
            "4:\tlearn: 0.8950720\ttotal: 8.95s\tremaining: 1m 20s\n",
            "5:\tlearn: 0.8707184\ttotal: 10.7s\tremaining: 1m 18s\n",
            "6:\tlearn: 0.8497293\ttotal: 12.4s\tremaining: 1m 16s\n",
            "7:\tlearn: 0.8317187\ttotal: 14.2s\tremaining: 1m 14s\n",
            "8:\tlearn: 0.8158711\ttotal: 15.9s\tremaining: 1m 12s\n",
            "9:\tlearn: 0.8022628\ttotal: 17.7s\tremaining: 1m 10s\n",
            "10:\tlearn: 0.7901615\ttotal: 19.4s\tremaining: 1m 8s\n",
            "11:\tlearn: 0.7794960\ttotal: 21.2s\tremaining: 1m 7s\n",
            "12:\tlearn: 0.7702290\ttotal: 22.9s\tremaining: 1m 5s\n",
            "13:\tlearn: 0.7621494\ttotal: 24.7s\tremaining: 1m 3s\n",
            "14:\tlearn: 0.7547604\ttotal: 26.4s\tremaining: 1m 1s\n",
            "15:\tlearn: 0.7480489\ttotal: 28.2s\tremaining: 59.9s\n",
            "16:\tlearn: 0.7424598\ttotal: 29.9s\tremaining: 58.1s\n",
            "17:\tlearn: 0.7371555\ttotal: 31.7s\tremaining: 56.3s\n",
            "18:\tlearn: 0.7325683\ttotal: 33.4s\tremaining: 54.5s\n",
            "19:\tlearn: 0.7283452\ttotal: 35.2s\tremaining: 52.8s\n",
            "20:\tlearn: 0.7248507\ttotal: 36.9s\tremaining: 51s\n",
            "21:\tlearn: 0.7221107\ttotal: 38.7s\tremaining: 49.2s\n",
            "22:\tlearn: 0.7190877\ttotal: 40.4s\tremaining: 47.5s\n",
            "23:\tlearn: 0.7163721\ttotal: 42.2s\tremaining: 45.7s\n",
            "24:\tlearn: 0.7139422\ttotal: 44s\tremaining: 44s\n",
            "25:\tlearn: 0.7120998\ttotal: 45.7s\tremaining: 42.2s\n",
            "26:\tlearn: 0.7103240\ttotal: 47.5s\tremaining: 40.4s\n",
            "27:\tlearn: 0.7085000\ttotal: 49.3s\tremaining: 38.7s\n",
            "28:\tlearn: 0.7070560\ttotal: 51s\tremaining: 36.9s\n",
            "29:\tlearn: 0.7058570\ttotal: 52.7s\tremaining: 35.2s\n",
            "30:\tlearn: 0.7046103\ttotal: 54.5s\tremaining: 33.4s\n",
            "31:\tlearn: 0.7034247\ttotal: 56.2s\tremaining: 31.6s\n",
            "32:\tlearn: 0.7023210\ttotal: 58s\tremaining: 29.9s\n",
            "33:\tlearn: 0.7017121\ttotal: 59.8s\tremaining: 28.1s\n",
            "34:\tlearn: 0.7009018\ttotal: 1m 1s\tremaining: 26.4s\n",
            "35:\tlearn: 0.7001790\ttotal: 1m 3s\tremaining: 24.6s\n",
            "36:\tlearn: 0.6994419\ttotal: 1m 4s\tremaining: 22.8s\n",
            "37:\tlearn: 0.6987440\ttotal: 1m 6s\tremaining: 21.1s\n",
            "38:\tlearn: 0.6981882\ttotal: 1m 8s\tremaining: 19.3s\n",
            "39:\tlearn: 0.6978570\ttotal: 1m 10s\tremaining: 17.6s\n",
            "40:\tlearn: 0.6973521\ttotal: 1m 12s\tremaining: 15.8s\n",
            "41:\tlearn: 0.6969273\ttotal: 1m 13s\tremaining: 14.1s\n",
            "42:\tlearn: 0.6965730\ttotal: 1m 15s\tremaining: 12.3s\n",
            "43:\tlearn: 0.6963937\ttotal: 1m 17s\tremaining: 10.5s\n",
            "44:\tlearn: 0.6959781\ttotal: 1m 19s\tremaining: 8.78s\n",
            "45:\tlearn: 0.6956554\ttotal: 1m 20s\tremaining: 7.03s\n",
            "46:\tlearn: 0.6952992\ttotal: 1m 22s\tremaining: 5.27s\n",
            "47:\tlearn: 0.6949676\ttotal: 1m 24s\tremaining: 3.51s\n",
            "48:\tlearn: 0.6946723\ttotal: 1m 26s\tremaining: 1.76s\n",
            "49:\tlearn: 0.6945143\ttotal: 1m 27s\tremaining: 0us\n"
          ],
          "name": "stdout"
        }
      ]
    },
    {
      "cell_type": "code",
      "metadata": {
        "id": "LIRg0F1cDc_I",
        "colab": {
          "base_uri": "https://localhost:8080/",
          "height": 1000
        },
        "outputId": "6ebf7430-1a04-4f85-bef1-572c149f6d6c"
      },
      "source": [
        "from sklearn.metrics import plot_confusion_matrix\n",
        "\n",
        "classes = [\"1-0\", \"0-1\", \"1/2-1/2\"]\n",
        "plot_confusion_matrix(LR, x_test, y_test, display_labels = classes, cmap = plt.cm.Blues, values_format = \".0f\")\n",
        "plot_confusion_matrix(DT, x_test, y_test, display_labels = classes, cmap = plt.cm.Blues, values_format = \".0f\")\n",
        "plot_confusion_matrix(NN, x_test, y_test, display_labels = classes, cmap = plt.cm.Blues, values_format = \".0f\")\n",
        "plot_confusion_matrix(CB, x_test, y_test, display_labels = classes, cmap = plt.cm.Blues, values_format = \".0f\")"
      ],
      "execution_count": null,
      "outputs": [
        {
          "output_type": "execute_result",
          "data": {
            "text/plain": [
              "<sklearn.metrics._plot.confusion_matrix.ConfusionMatrixDisplay at 0x7fdd20347e90>"
            ]
          },
          "metadata": {
            "tags": []
          },
          "execution_count": 34
        },
        {
          "output_type": "display_data",
          "data": {
            "image/png": "[encoded data removed]",
            "text/plain": [
              "<Figure size 432x288 with 2 Axes>"
            ]
          },
          "metadata": {
            "tags": [],
            "needs_background": "light"
          }
        },
        {
          "output_type": "display_data",
          "data": {
            "image/png": "[encoded data removed]",
            "text/plain": [
              "<Figure size 432x288 with 2 Axes>"
            ]
          },
          "metadata": {
            "tags": [],
            "needs_background": "light"
          }
        },
        {
          "output_type": "display_data",
          "data": {
            "image/png": "[encoded data removed]",
            "text/plain": [
              "<Figure size 432x288 with 2 Axes>"
            ]
          },
          "metadata": {
            "tags": [],
            "needs_background": "light"
          }
        },
        {
          "output_type": "display_data",
          "data": {
            "image/png": "[encoded data removed]",
            "text/plain": [
              "<Figure size 432x288 with 2 Axes>"
            ]
          },
          "metadata": {
            "tags": [],
            "needs_background": "light"
          }
        }
      ]
    },
    {
      "cell_type": "code",
      "metadata": {
        "id": "9DGoD3ObE-FQ",
        "colab": {
          "base_uri": "https://localhost:8080/"
        },
        "outputId": "7e8f0dad-18da-4a57-ae80-eb67ffd00165"
      },
      "source": [
        "from sklearn.metrics import accuracy_score, f1_score\n",
        "\n",
        "print(\"Accuracy for Logistic Regression     :\", accuracy_score(y_test, LR_y_pred) * 100, \"%\")\n",
        "print(\"Accuracy for Decision Tree           :\", accuracy_score(y_test, DT_y_pred) * 100, \"%\")\n",
        "print(\"Accuracy for Multi-layer Perceptron  :\", accuracy_score(y_test, NN_y_pred) * 100, \"%\")\n",
        "print(\"Accuracy for Catboost Classifier     :\", accuracy_score(y_test, CB_y_pred) * 100, \"%\")\n",
        "print(\"\\n\")\n",
        "print(\"F1-Score for Logistic Regression     :\", f1_score(y_test, LR_y_pred, average = \"weighted\") * 100, \"%\")\n",
        "print(\"F1-Score for Decision Tree           :\", f1_score(y_test, DT_y_pred, average = \"weighted\") * 100, \"%\")\n",
        "print(\"F1-Score for Multi-layer Perceptron  :\", f1_score(y_test, NN_y_pred, average = \"weighted\") * 100, \"%\")\n",
        "print(\"F1-Score for Catboost Classifier     :\", f1_score(y_test, CB_y_pred, average = \"weighted\") * 100, \"%\")"
      ],
      "execution_count": null,
      "outputs": [
        {
          "output_type": "stream",
          "text": [
            "Accuracy for Logistic Regression     : 63.99633044500245 %\n",
            "Accuracy for Decision Tree           : 54.868804549933216 %\n",
            "Accuracy for Multi-layer Perceptron  : 64.01631219565974 %\n",
            "Accuracy for Catboost Classifier     : 64.26898783081856 %\n",
            "\n",
            "\n",
            "F1-Score for Logistic Regression     : 63.18308308567296 %\n",
            "F1-Score for Decision Tree           : 54.95062326340637 %\n",
            "F1-Score for Multi-layer Perceptron  : 62.89366400532296 %\n",
            "F1-Score for Catboost Classifier     : 63.20825827994747 %\n"
          ],
          "name": "stdout"
        }
      ]
    },
    {
      "cell_type": "code",
      "metadata": {
        "id": "wO9Essk8rnSt",
        "colab": {
          "base_uri": "https://localhost:8080/"
        },
        "outputId": "2730887d-8d4d-45f7-d397-6676b89ad94e"
      },
      "source": [
        "print(\"--- %s minutes ---\" % (round((time.time() - start_time)/60, 2)))"
      ],
      "execution_count": null,
      "outputs": [
        {
          "output_type": "stream",
          "text": [
            "--- 36.6 minutes ---\n"
          ],
          "name": "stdout"
        }
      ]
    }
  ]
}