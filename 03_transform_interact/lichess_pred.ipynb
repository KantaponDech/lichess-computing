{
  "nbformat": 4,
  "nbformat_minor": 0,
  "metadata": {
    "colab": {
      "name": "lichess_pred.ipynb",
      "provenance": [],
      "collapsed_sections": [
        "oRcFO8ylNDRx",
        "O_FuNXf4KNJl"
      ]
    },
    "kernelspec": {
      "display_name": "Python 3",
      "name": "python3"
    },
    "language_info": {
      "name": "python"
    }
  },
  "cells": [
    {
      "cell_type": "markdown",
      "metadata": {
        "id": "oRcFO8ylNDRx"
      },
      "source": [
        "# **Import data**"
      ]
    },
    {
      "cell_type": "code",
      "metadata": {
        "id": "yHet2s80Tt0V"
      },
      "source": [
        "import pandas as pd\n",
        "import numpy as np\n",
        "import matplotlib.pyplot as plt"
      ],
      "execution_count": 1,
      "outputs": []
    },
    {
      "cell_type": "code",
      "metadata": {
        "id": "UpD2TYHsZNqK"
      },
      "source": [
        "df = pd.read_csv(\"gs://<BUCKET-NAME>/lichess/lichess2013.csv\", delimiter = \",\", encoding = \"utf-8\")"
      ],
      "execution_count": 2,
      "outputs": []
    },
    {
      "cell_type": "markdown",
      "metadata": {
        "id": "tYJhBn90Nrrw"
      },
      "source": [
        "Descriptive statistics"
      ]
    },
    {
      "cell_type": "code",
      "metadata": {
        "id": "cX6iChoGBeBb",
        "colab": {
          "base_uri": "https://localhost:8080/"
        },
        "outputId": "f6b8b267-52c0-4dd4-cb64-21edeb52a3a9"
      },
      "source": [
        "df.info()"
      ],
      "execution_count": 3,
      "outputs": [
        {
          "output_type": "stream",
          "text": [
            "<class 'pandas.core.frame.DataFrame'>\n",
            "RangeIndex: 3386423 entries, 0 to 3386422\n",
            "Data columns (total 19 columns):\n",
            " #   Column           Dtype  \n",
            "---  ------           -----  \n",
            " 0   event            object \n",
            " 1   white            object \n",
            " 2   black            object \n",
            " 3   result           object \n",
            " 4   UTCDate          object \n",
            " 5   day              int64  \n",
            " 6   month            int64  \n",
            " 7   year             int64  \n",
            " 8   UTCTime          object \n",
            " 9   whiteELO         float64\n",
            " 10  blackELO         float64\n",
            " 11  RatingDiff       float64\n",
            " 12  whiteRatingDiff  float64\n",
            " 13  blackRatingDiff  float64\n",
            " 14  ECO              object \n",
            " 15  opening          object \n",
            " 16  timeControl      object \n",
            " 17  termination      object \n",
            " 18  totalMove        int64  \n",
            "dtypes: float64(5), int64(4), object(10)\n",
            "memory usage: 490.9+ MB\n"
          ],
          "name": "stdout"
        }
      ]
    },
    {
      "cell_type": "code",
      "metadata": {
        "id": "1OnlxqkgBjNk",
        "colab": {
          "base_uri": "https://localhost:8080/"
        },
        "outputId": "f9614d2b-0c2f-4592-a7eb-8ac8dd27e6f9"
      },
      "source": [
        "df.nunique()"
      ],
      "execution_count": 4,
      "outputs": [
        {
          "output_type": "execute_result",
          "data": {
            "text/plain": [
              "event                  7\n",
              "white              60997\n",
              "black              62355\n",
              "result                 3\n",
              "UTCDate              366\n",
              "day                   31\n",
              "month                 12\n",
              "year                   2\n",
              "UTCTime            86400\n",
              "whiteELO            1749\n",
              "blackELO            1768\n",
              "RatingDiff          1141\n",
              "whiteRatingDiff     1140\n",
              "blackRatingDiff     1153\n",
              "ECO                  489\n",
              "opening             2771\n",
              "timeControl          978\n",
              "termination            3\n",
              "totalMove            168\n",
              "dtype: int64"
            ]
          },
          "metadata": {
            "tags": []
          },
          "execution_count": 4
        }
      ]
    },
    {
      "cell_type": "code",
      "metadata": {
        "id": "NUATHc_YZuNn",
        "colab": {
          "base_uri": "https://localhost:8080/",
          "height": 289
        },
        "outputId": "9213cb5e-459a-438c-c489-3d6bed2bfc9e"
      },
      "source": [
        "df.head()"
      ],
      "execution_count": 5,
      "outputs": [
        {
          "output_type": "execute_result",
          "data": {
            "text/html": [
              "<div>\n",
              "<style scoped>\n",
              "    .dataframe tbody tr th:only-of-type {\n",
              "        vertical-align: middle;\n",
              "    }\n",
              "\n",
              "    .dataframe tbody tr th {\n",
              "        vertical-align: top;\n",
              "    }\n",
              "\n",
              "    .dataframe thead th {\n",
              "        text-align: right;\n",
              "    }\n",
              "</style>\n",
              "<table border=\"1\" class=\"dataframe\">\n",
              "  <thead>\n",
              "    <tr style=\"text-align: right;\">\n",
              "      <th></th>\n",
              "      <th>event</th>\n",
              "      <th>white</th>\n",
              "      <th>black</th>\n",
              "      <th>result</th>\n",
              "      <th>UTCDate</th>\n",
              "      <th>day</th>\n",
              "      <th>month</th>\n",
              "      <th>year</th>\n",
              "      <th>UTCTime</th>\n",
              "      <th>whiteELO</th>\n",
              "      <th>blackELO</th>\n",
              "      <th>RatingDiff</th>\n",
              "      <th>whiteRatingDiff</th>\n",
              "      <th>blackRatingDiff</th>\n",
              "      <th>ECO</th>\n",
              "      <th>opening</th>\n",
              "      <th>timeControl</th>\n",
              "      <th>termination</th>\n",
              "      <th>totalMove</th>\n",
              "    </tr>\n",
              "  </thead>\n",
              "  <tbody>\n",
              "    <tr>\n",
              "      <th>0</th>\n",
              "      <td>Rated Correspondence game</td>\n",
              "      <td>felixrbran</td>\n",
              "      <td>wiles</td>\n",
              "      <td>0-1</td>\n",
              "      <td>2013.07.02</td>\n",
              "      <td>2</td>\n",
              "      <td>7</td>\n",
              "      <td>2013</td>\n",
              "      <td>21:16:17</td>\n",
              "      <td>1398.0</td>\n",
              "      <td>1767.0</td>\n",
              "      <td>369.0</td>\n",
              "      <td>-3.0</td>\n",
              "      <td>3.0</td>\n",
              "      <td>A00</td>\n",
              "      <td>Polish Opening</td>\n",
              "      <td>NaN</td>\n",
              "      <td>Normal</td>\n",
              "      <td>25</td>\n",
              "    </tr>\n",
              "    <tr>\n",
              "      <th>1</th>\n",
              "      <td>Rated Correspondence game</td>\n",
              "      <td>singhk</td>\n",
              "      <td>bhangooj</td>\n",
              "      <td>0-1</td>\n",
              "      <td>2013.07.12</td>\n",
              "      <td>12</td>\n",
              "      <td>7</td>\n",
              "      <td>2013</td>\n",
              "      <td>04:25:22</td>\n",
              "      <td>1538.0</td>\n",
              "      <td>1461.0</td>\n",
              "      <td>77.0</td>\n",
              "      <td>-113.0</td>\n",
              "      <td>113.0</td>\n",
              "      <td>A00</td>\n",
              "      <td>Grob Opening</td>\n",
              "      <td>NaN</td>\n",
              "      <td>Normal</td>\n",
              "      <td>10</td>\n",
              "    </tr>\n",
              "    <tr>\n",
              "      <th>2</th>\n",
              "      <td>Rated Correspondence game</td>\n",
              "      <td>Mrkvak</td>\n",
              "      <td>?</td>\n",
              "      <td>1-0</td>\n",
              "      <td>2013.04.04</td>\n",
              "      <td>4</td>\n",
              "      <td>4</td>\n",
              "      <td>2013</td>\n",
              "      <td>19:44:52</td>\n",
              "      <td>NaN</td>\n",
              "      <td>NaN</td>\n",
              "      <td>NaN</td>\n",
              "      <td>NaN</td>\n",
              "      <td>NaN</td>\n",
              "      <td>A01</td>\n",
              "      <td>Nimzo-Larsen Attack: Modern Variation #4</td>\n",
              "      <td>NaN</td>\n",
              "      <td>Normal</td>\n",
              "      <td>38</td>\n",
              "    </tr>\n",
              "    <tr>\n",
              "      <th>3</th>\n",
              "      <td>Rated Correspondence game</td>\n",
              "      <td>Unknown Player</td>\n",
              "      <td>CaLiBRe</td>\n",
              "      <td>1-0</td>\n",
              "      <td>2013.04.09</td>\n",
              "      <td>9</td>\n",
              "      <td>4</td>\n",
              "      <td>2013</td>\n",
              "      <td>19:09:36</td>\n",
              "      <td>NaN</td>\n",
              "      <td>NaN</td>\n",
              "      <td>NaN</td>\n",
              "      <td>NaN</td>\n",
              "      <td>NaN</td>\n",
              "      <td>B01</td>\n",
              "      <td>Scandinavian Defense</td>\n",
              "      <td>NaN</td>\n",
              "      <td>Normal</td>\n",
              "      <td>20</td>\n",
              "    </tr>\n",
              "    <tr>\n",
              "      <th>4</th>\n",
              "      <td>Rated Correspondence game</td>\n",
              "      <td>dbalka</td>\n",
              "      <td>Polinusik</td>\n",
              "      <td>1-0</td>\n",
              "      <td>2013.04.11</td>\n",
              "      <td>11</td>\n",
              "      <td>4</td>\n",
              "      <td>2013</td>\n",
              "      <td>19:43:45</td>\n",
              "      <td>1682.0</td>\n",
              "      <td>1122.0</td>\n",
              "      <td>560.0</td>\n",
              "      <td>2.0</td>\n",
              "      <td>-5.0</td>\n",
              "      <td>B02</td>\n",
              "      <td>Alekhine Defense: Mokele Mbembe</td>\n",
              "      <td>NaN</td>\n",
              "      <td>Normal</td>\n",
              "      <td>23</td>\n",
              "    </tr>\n",
              "  </tbody>\n",
              "</table>\n",
              "</div>"
            ],
            "text/plain": [
              "                       event           white  ... termination totalMove\n",
              "0  Rated Correspondence game      felixrbran  ...      Normal        25\n",
              "1  Rated Correspondence game          singhk  ...      Normal        10\n",
              "2  Rated Correspondence game          Mrkvak  ...      Normal        38\n",
              "3  Rated Correspondence game  Unknown Player  ...      Normal        20\n",
              "4  Rated Correspondence game          dbalka  ...      Normal        23\n",
              "\n",
              "[5 rows x 19 columns]"
            ]
          },
          "metadata": {
            "tags": []
          },
          "execution_count": 5
        }
      ]
    },
    {
      "cell_type": "code",
      "metadata": {
        "id": "l9MdiBq-aoRo",
        "colab": {
          "base_uri": "https://localhost:8080/",
          "height": 297
        },
        "outputId": "948bc72b-1f3e-4206-ffa0-886e06fe7fd4"
      },
      "source": [
        "round(df.describe(), 3)"
      ],
      "execution_count": 6,
      "outputs": [
        {
          "output_type": "execute_result",
          "data": {
            "text/html": [
              "<div>\n",
              "<style scoped>\n",
              "    .dataframe tbody tr th:only-of-type {\n",
              "        vertical-align: middle;\n",
              "    }\n",
              "\n",
              "    .dataframe tbody tr th {\n",
              "        vertical-align: top;\n",
              "    }\n",
              "\n",
              "    .dataframe thead th {\n",
              "        text-align: right;\n",
              "    }\n",
              "</style>\n",
              "<table border=\"1\" class=\"dataframe\">\n",
              "  <thead>\n",
              "    <tr style=\"text-align: right;\">\n",
              "      <th></th>\n",
              "      <th>day</th>\n",
              "      <th>month</th>\n",
              "      <th>year</th>\n",
              "      <th>whiteELO</th>\n",
              "      <th>blackELO</th>\n",
              "      <th>RatingDiff</th>\n",
              "      <th>whiteRatingDiff</th>\n",
              "      <th>blackRatingDiff</th>\n",
              "      <th>totalMove</th>\n",
              "    </tr>\n",
              "  </thead>\n",
              "  <tbody>\n",
              "    <tr>\n",
              "      <th>count</th>\n",
              "      <td>3386423.000</td>\n",
              "      <td>3386423.000</td>\n",
              "      <td>3386423.000</td>\n",
              "      <td>3380733.000</td>\n",
              "      <td>3380733.000</td>\n",
              "      <td>3380733.000</td>\n",
              "      <td>3380733.000</td>\n",
              "      <td>3380733.000</td>\n",
              "      <td>3386423.000</td>\n",
              "    </tr>\n",
              "    <tr>\n",
              "      <th>mean</th>\n",
              "      <td>16.167</td>\n",
              "      <td>8.182</td>\n",
              "      <td>2013.000</td>\n",
              "      <td>1613.270</td>\n",
              "      <td>1603.674</td>\n",
              "      <td>153.787</td>\n",
              "      <td>0.190</td>\n",
              "      <td>-1.751</td>\n",
              "      <td>33.761</td>\n",
              "    </tr>\n",
              "    <tr>\n",
              "      <th>std</th>\n",
              "      <td>8.836</td>\n",
              "      <td>3.224</td>\n",
              "      <td>0.006</td>\n",
              "      <td>213.715</td>\n",
              "      <td>219.879</td>\n",
              "      <td>132.403</td>\n",
              "      <td>34.322</td>\n",
              "      <td>39.031</td>\n",
              "      <td>16.016</td>\n",
              "    </tr>\n",
              "    <tr>\n",
              "      <th>min</th>\n",
              "      <td>1.000</td>\n",
              "      <td>1.000</td>\n",
              "      <td>2012.000</td>\n",
              "      <td>758.000</td>\n",
              "      <td>735.000</td>\n",
              "      <td>0.000</td>\n",
              "      <td>-620.000</td>\n",
              "      <td>-618.000</td>\n",
              "      <td>0.000</td>\n",
              "    </tr>\n",
              "    <tr>\n",
              "      <th>25%</th>\n",
              "      <td>9.000</td>\n",
              "      <td>6.000</td>\n",
              "      <td>2013.000</td>\n",
              "      <td>1473.000</td>\n",
              "      <td>1462.000</td>\n",
              "      <td>54.000</td>\n",
              "      <td>-10.000</td>\n",
              "      <td>-11.000</td>\n",
              "      <td>23.000</td>\n",
              "    </tr>\n",
              "    <tr>\n",
              "      <th>50%</th>\n",
              "      <td>16.000</td>\n",
              "      <td>9.000</td>\n",
              "      <td>2013.000</td>\n",
              "      <td>1611.000</td>\n",
              "      <td>1599.000</td>\n",
              "      <td>119.000</td>\n",
              "      <td>2.000</td>\n",
              "      <td>-3.000</td>\n",
              "      <td>32.000</td>\n",
              "    </tr>\n",
              "    <tr>\n",
              "      <th>75%</th>\n",
              "      <td>24.000</td>\n",
              "      <td>11.000</td>\n",
              "      <td>2013.000</td>\n",
              "      <td>1753.000</td>\n",
              "      <td>1747.000</td>\n",
              "      <td>216.000</td>\n",
              "      <td>10.000</td>\n",
              "      <td>10.000</td>\n",
              "      <td>43.000</td>\n",
              "    </tr>\n",
              "    <tr>\n",
              "      <th>max</th>\n",
              "      <td>31.000</td>\n",
              "      <td>12.000</td>\n",
              "      <td>2013.000</td>\n",
              "      <td>2581.000</td>\n",
              "      <td>2600.000</td>\n",
              "      <td>1376.000</td>\n",
              "      <td>638.000</td>\n",
              "      <td>649.000</td>\n",
              "      <td>191.000</td>\n",
              "    </tr>\n",
              "  </tbody>\n",
              "</table>\n",
              "</div>"
            ],
            "text/plain": [
              "               day        month  ...  blackRatingDiff    totalMove\n",
              "count  3386423.000  3386423.000  ...      3380733.000  3386423.000\n",
              "mean        16.167        8.182  ...           -1.751       33.761\n",
              "std          8.836        3.224  ...           39.031       16.016\n",
              "min          1.000        1.000  ...         -618.000        0.000\n",
              "25%          9.000        6.000  ...          -11.000       23.000\n",
              "50%         16.000        9.000  ...           -3.000       32.000\n",
              "75%         24.000       11.000  ...           10.000       43.000\n",
              "max         31.000       12.000  ...          649.000      191.000\n",
              "\n",
              "[8 rows x 9 columns]"
            ]
          },
          "metadata": {
            "tags": []
          },
          "execution_count": 6
        }
      ]
    },
    {
      "cell_type": "code",
      "metadata": {
        "id": "i_LBGsFwHPXz",
        "colab": {
          "base_uri": "https://localhost:8080/",
          "height": 479
        },
        "outputId": "42cd3488-0196-446c-f423-c0490b4542e2"
      },
      "source": [
        "plt.figure(dpi = 100)\n",
        "plt.hist(df[\"whiteELO\"])"
      ],
      "execution_count": 7,
      "outputs": [
        {
          "output_type": "execute_result",
          "data": {
            "text/plain": [
              "(array([3.305000e+03, 3.371700e+04, 2.019540e+05, 6.790650e+05,\n",
              "        1.139883e+06, 8.856240e+05, 3.402940e+05, 8.611800e+04,\n",
              "        1.051800e+04, 2.550000e+02]),\n",
              " array([ 758. ,  940.3, 1122.6, 1304.9, 1487.2, 1669.5, 1851.8, 2034.1,\n",
              "        2216.4, 2398.7, 2581. ]),\n",
              " <a list of 10 Patch objects>)"
            ]
          },
          "metadata": {
            "tags": []
          },
          "execution_count": 7
        },
        {
          "output_type": "display_data",
          "data": {
            "image/png": "[encoded data removed]",
            "text/plain": [
              "<Figure size 600x400 with 1 Axes>"
            ]
          },
          "metadata": {
            "tags": [],
            "needs_background": "light"
          }
        }
      ]
    },
    {
      "cell_type": "code",
      "metadata": {
        "id": "uh2QV5K3HPiZ",
        "colab": {
          "base_uri": "https://localhost:8080/",
          "height": 462
        },
        "outputId": "ca0444c4-97a5-4b94-95ba-c982525fc8a2"
      },
      "source": [
        "plt.figure(dpi = 100)\n",
        "plt.hist(df[\"blackELO\"])"
      ],
      "execution_count": 8,
      "outputs": [
        {
          "output_type": "execute_result",
          "data": {
            "text/plain": [
              "(array([3.51600e+03, 3.77500e+04, 2.18497e+05, 6.74524e+05, 1.17493e+06,\n",
              "        8.45662e+05, 3.30081e+05, 8.55040e+04, 1.00240e+04, 2.45000e+02]),\n",
              " array([ 735. ,  921.5, 1108. , 1294.5, 1481. , 1667.5, 1854. , 2040.5,\n",
              "        2227. , 2413.5, 2600. ]),\n",
              " <a list of 10 Patch objects>)"
            ]
          },
          "metadata": {
            "tags": []
          },
          "execution_count": 8
        },
        {
          "output_type": "display_data",
          "data": {
            "image/png": "[encoded data removed]",
            "text/plain": [
              "<Figure size 600x400 with 1 Axes>"
            ]
          },
          "metadata": {
            "tags": [],
            "needs_background": "light"
          }
        }
      ]
    },
    {
      "cell_type": "code",
      "metadata": {
        "id": "gQD4vy_ha46I",
        "colab": {
          "base_uri": "https://localhost:8080/",
          "height": 379
        },
        "outputId": "db1475c8-24d3-4ed4-f804-942fab190dee"
      },
      "source": [
        "plt.figure(dpi = 100)\n",
        "plt.scatter(df[\"whiteELO\"], df[\"blackELO\"], s = 1)"
      ],
      "execution_count": 9,
      "outputs": [
        {
          "output_type": "execute_result",
          "data": {
            "text/plain": [
              "<matplotlib.collections.PathCollection at 0x7f229811a290>"
            ]
          },
          "metadata": {
            "tags": []
          },
          "execution_count": 9
        },
        {
          "output_type": "display_data",
          "data": {
            "image/png": "[encoded data removed]",
            "text/plain": [
              "<Figure size 600x400 with 1 Axes>"
            ]
          },
          "metadata": {
            "tags": [],
            "needs_background": "light"
          }
        }
      ]
    },
    {
      "cell_type": "code",
      "metadata": {
        "id": "eF-beYYEZ8H4",
        "colab": {
          "base_uri": "https://localhost:8080/",
          "height": 479
        },
        "outputId": "2e9b9aa3-9c98-40d1-e68f-f3cb625c66c6"
      },
      "source": [
        "plt.figure(dpi = 100)\n",
        "plt.hist(df[\"RatingDiff\"])"
      ],
      "execution_count": 10,
      "outputs": [
        {
          "output_type": "execute_result",
          "data": {
            "text/plain": [
              "(array([1.888853e+06, 9.534930e+05, 3.618240e+05, 1.247050e+05,\n",
              "        3.821800e+04, 1.073100e+04, 2.290000e+03, 5.410000e+02,\n",
              "        6.800000e+01, 1.000000e+01]),\n",
              " array([   0. ,  137.6,  275.2,  412.8,  550.4,  688. ,  825.6,  963.2,\n",
              "        1100.8, 1238.4, 1376. ]),\n",
              " <a list of 10 Patch objects>)"
            ]
          },
          "metadata": {
            "tags": []
          },
          "execution_count": 10
        },
        {
          "output_type": "display_data",
          "data": {
            "image/png": "[encoded data removed]",
            "text/plain": [
              "<Figure size 600x400 with 1 Axes>"
            ]
          },
          "metadata": {
            "tags": [],
            "needs_background": "light"
          }
        }
      ]
    },
    {
      "cell_type": "code",
      "metadata": {
        "id": "vGPTkTVxHf86",
        "colab": {
          "base_uri": "https://localhost:8080/",
          "height": 479
        },
        "outputId": "409b642b-7f77-4269-dddf-a36ded1de6dd"
      },
      "source": [
        "plt.figure(dpi = 100)\n",
        "plt.hist(df[\"totalMove\"])"
      ],
      "execution_count": 11,
      "outputs": [
        {
          "output_type": "execute_result",
          "data": {
            "text/plain": [
              "(array([5.999770e+05, 1.651938e+06, 8.541940e+05, 2.383920e+05,\n",
              "        3.582300e+04, 5.001000e+03, 9.240000e+02, 1.510000e+02,\n",
              "        1.900000e+01, 4.000000e+00]),\n",
              " array([  0. ,  19.1,  38.2,  57.3,  76.4,  95.5, 114.6, 133.7, 152.8,\n",
              "        171.9, 191. ]),\n",
              " <a list of 10 Patch objects>)"
            ]
          },
          "metadata": {
            "tags": []
          },
          "execution_count": 11
        },
        {
          "output_type": "display_data",
          "data": {
            "image/png": "[encoded data removed]",
            "text/plain": [
              "<Figure size 600x400 with 1 Axes>"
            ]
          },
          "metadata": {
            "tags": [],
            "needs_background": "light"
          }
        }
      ]
    },
    {
      "cell_type": "markdown",
      "metadata": {
        "id": "O_FuNXf4KNJl"
      },
      "source": [
        "#**Data preparation**"
      ]
    },
    {
      "cell_type": "markdown",
      "metadata": {
        "id": "5ZFEqMv8b-fo"
      },
      "source": [
        "Handle missing value and transform data to float format"
      ]
    },
    {
      "cell_type": "code",
      "metadata": {
        "id": "wPaeg6wT3o9l",
        "colab": {
          "base_uri": "https://localhost:8080/"
        },
        "outputId": "aee66e6d-7bc5-4d51-f3cf-ef15f23549c9"
      },
      "source": [
        "from sklearn.preprocessing import LabelEncoder\n",
        "from sklearn.preprocessing import MinMaxScaler\n",
        "\n",
        "x = df[[\"whiteELO\", \"blackELO\", \"ECO\", \"timeControl\", \"termination\", \"totalMove\"]]\n",
        "y = df[[\"result\"]]\n",
        "\n",
        "# Handle missing value\n",
        "x[\"whiteELO\"].fillna(round(x[\"whiteELO\"].mean(), 0), inplace = True)\n",
        "x[\"blackELO\"].fillna(round(x[\"blackELO\"].mean(), 0), inplace = True)\n",
        "x[\"timeControl\"].fillna(x[\"timeControl\"].mode().iloc[0], inplace = True)\n",
        "\n",
        "# Convert data to float\n",
        "le = LabelEncoder()\n",
        "x[\"ECO\"] = le.fit_transform(x[\"ECO\"])\n",
        "x[\"timeControl\"] = le.fit_transform(x[\"timeControl\"])\n",
        "x[\"termination\"] = le.fit_transform(x[\"termination\"])\n",
        "y = le.fit_transform(y)\n",
        "\n",
        "# Data scaling\n",
        "scaler = MinMaxScaler() # Data Normalization\n",
        "x.iloc[:,:] = scaler.fit_transform(x.iloc[:,:])"
      ],
      "execution_count": 12,
      "outputs": [
        {
          "output_type": "stream",
          "text": [
            "/usr/local/lib/python3.7/dist-packages/pandas/core/series.py:4536: SettingWithCopyWarning: \n",
            "A value is trying to be set on a copy of a slice from a DataFrame\n",
            "\n",
            "See the caveats in the documentation: https://pandas.pydata.org/pandas-docs/stable/user_guide/indexing.html#returning-a-view-versus-a-copy\n",
            "  downcast=downcast,\n",
            "/usr/local/lib/python3.7/dist-packages/ipykernel_launcher.py:14: SettingWithCopyWarning: \n",
            "A value is trying to be set on a copy of a slice from a DataFrame.\n",
            "Try using .loc[row_indexer,col_indexer] = value instead\n",
            "\n",
            "See the caveats in the documentation: https://pandas.pydata.org/pandas-docs/stable/user_guide/indexing.html#returning-a-view-versus-a-copy\n",
            "  \n",
            "/usr/local/lib/python3.7/dist-packages/ipykernel_launcher.py:15: SettingWithCopyWarning: \n",
            "A value is trying to be set on a copy of a slice from a DataFrame.\n",
            "Try using .loc[row_indexer,col_indexer] = value instead\n",
            "\n",
            "See the caveats in the documentation: https://pandas.pydata.org/pandas-docs/stable/user_guide/indexing.html#returning-a-view-versus-a-copy\n",
            "  from ipykernel import kernelapp as app\n",
            "/usr/local/lib/python3.7/dist-packages/ipykernel_launcher.py:16: SettingWithCopyWarning: \n",
            "A value is trying to be set on a copy of a slice from a DataFrame.\n",
            "Try using .loc[row_indexer,col_indexer] = value instead\n",
            "\n",
            "See the caveats in the documentation: https://pandas.pydata.org/pandas-docs/stable/user_guide/indexing.html#returning-a-view-versus-a-copy\n",
            "  app.launch_new_instance()\n",
            "/usr/local/lib/python3.7/dist-packages/sklearn/preprocessing/_label.py:251: DataConversionWarning: A column-vector y was passed when a 1d array was expected. Please change the shape of y to (n_samples, ), for example using ravel().\n",
            "  y = column_or_1d(y, warn=True)\n",
            "/usr/local/lib/python3.7/dist-packages/pandas/core/indexing.py:1734: SettingWithCopyWarning: \n",
            "A value is trying to be set on a copy of a slice from a DataFrame.\n",
            "Try using .loc[row_indexer,col_indexer] = value instead\n",
            "\n",
            "See the caveats in the documentation: https://pandas.pydata.org/pandas-docs/stable/user_guide/indexing.html#returning-a-view-versus-a-copy\n",
            "  isetter(loc, value[:, i].tolist())\n"
          ],
          "name": "stderr"
        }
      ]
    },
    {
      "cell_type": "code",
      "metadata": {
        "colab": {
          "base_uri": "https://localhost:8080/",
          "height": 419
        },
        "id": "qhTR8myRITUD",
        "outputId": "d871d526-ae35-4d0a-ee93-4c6a840c76a4"
      },
      "source": [
        "x"
      ],
      "execution_count": 13,
      "outputs": [
        {
          "output_type": "execute_result",
          "data": {
            "text/html": [
              "<div>\n",
              "<style scoped>\n",
              "    .dataframe tbody tr th:only-of-type {\n",
              "        vertical-align: middle;\n",
              "    }\n",
              "\n",
              "    .dataframe tbody tr th {\n",
              "        vertical-align: top;\n",
              "    }\n",
              "\n",
              "    .dataframe thead th {\n",
              "        text-align: right;\n",
              "    }\n",
              "</style>\n",
              "<table border=\"1\" class=\"dataframe\">\n",
              "  <thead>\n",
              "    <tr style=\"text-align: right;\">\n",
              "      <th></th>\n",
              "      <th>whiteELO</th>\n",
              "      <th>blackELO</th>\n",
              "      <th>ECO</th>\n",
              "      <th>timeControl</th>\n",
              "      <th>termination</th>\n",
              "      <th>totalMove</th>\n",
              "    </tr>\n",
              "  </thead>\n",
              "  <tbody>\n",
              "    <tr>\n",
              "      <th>0</th>\n",
              "      <td>0.351070</td>\n",
              "      <td>0.553351</td>\n",
              "      <td>0.002049</td>\n",
              "      <td>0.724667</td>\n",
              "      <td>0.0</td>\n",
              "      <td>0.130890</td>\n",
              "    </tr>\n",
              "    <tr>\n",
              "      <th>1</th>\n",
              "      <td>0.427866</td>\n",
              "      <td>0.389276</td>\n",
              "      <td>0.002049</td>\n",
              "      <td>0.724667</td>\n",
              "      <td>0.0</td>\n",
              "      <td>0.052356</td>\n",
              "    </tr>\n",
              "    <tr>\n",
              "      <th>2</th>\n",
              "      <td>0.469007</td>\n",
              "      <td>0.465952</td>\n",
              "      <td>0.004098</td>\n",
              "      <td>0.724667</td>\n",
              "      <td>0.0</td>\n",
              "      <td>0.198953</td>\n",
              "    </tr>\n",
              "    <tr>\n",
              "      <th>3</th>\n",
              "      <td>0.469007</td>\n",
              "      <td>0.465952</td>\n",
              "      <td>0.206967</td>\n",
              "      <td>0.724667</td>\n",
              "      <td>0.0</td>\n",
              "      <td>0.104712</td>\n",
              "    </tr>\n",
              "    <tr>\n",
              "      <th>4</th>\n",
              "      <td>0.506857</td>\n",
              "      <td>0.207507</td>\n",
              "      <td>0.209016</td>\n",
              "      <td>0.724667</td>\n",
              "      <td>0.0</td>\n",
              "      <td>0.120419</td>\n",
              "    </tr>\n",
              "    <tr>\n",
              "      <th>...</th>\n",
              "      <td>...</td>\n",
              "      <td>...</td>\n",
              "      <td>...</td>\n",
              "      <td>...</td>\n",
              "      <td>...</td>\n",
              "      <td>...</td>\n",
              "    </tr>\n",
              "    <tr>\n",
              "      <th>3386418</th>\n",
              "      <td>0.512342</td>\n",
              "      <td>0.346917</td>\n",
              "      <td>0.084016</td>\n",
              "      <td>0.013306</td>\n",
              "      <td>1.0</td>\n",
              "      <td>0.099476</td>\n",
              "    </tr>\n",
              "    <tr>\n",
              "      <th>3386419</th>\n",
              "      <td>0.469007</td>\n",
              "      <td>0.473458</td>\n",
              "      <td>0.627049</td>\n",
              "      <td>0.724667</td>\n",
              "      <td>1.0</td>\n",
              "      <td>0.141361</td>\n",
              "    </tr>\n",
              "    <tr>\n",
              "      <th>3386420</th>\n",
              "      <td>0.289632</td>\n",
              "      <td>0.299196</td>\n",
              "      <td>0.522541</td>\n",
              "      <td>0.133060</td>\n",
              "      <td>1.0</td>\n",
              "      <td>0.162304</td>\n",
              "    </tr>\n",
              "    <tr>\n",
              "      <th>3386421</th>\n",
              "      <td>0.487109</td>\n",
              "      <td>0.306166</td>\n",
              "      <td>0.500000</td>\n",
              "      <td>0.724667</td>\n",
              "      <td>1.0</td>\n",
              "      <td>0.115183</td>\n",
              "    </tr>\n",
              "    <tr>\n",
              "      <th>3386422</th>\n",
              "      <td>0.407021</td>\n",
              "      <td>0.313137</td>\n",
              "      <td>0.610656</td>\n",
              "      <td>0.724667</td>\n",
              "      <td>1.0</td>\n",
              "      <td>0.115183</td>\n",
              "    </tr>\n",
              "  </tbody>\n",
              "</table>\n",
              "<p>3386423 rows × 6 columns</p>\n",
              "</div>"
            ],
            "text/plain": [
              "         whiteELO  blackELO       ECO  timeControl  termination  totalMove\n",
              "0        0.351070  0.553351  0.002049     0.724667          0.0   0.130890\n",
              "1        0.427866  0.389276  0.002049     0.724667          0.0   0.052356\n",
              "2        0.469007  0.465952  0.004098     0.724667          0.0   0.198953\n",
              "3        0.469007  0.465952  0.206967     0.724667          0.0   0.104712\n",
              "4        0.506857  0.207507  0.209016     0.724667          0.0   0.120419\n",
              "...           ...       ...       ...          ...          ...        ...\n",
              "3386418  0.512342  0.346917  0.084016     0.013306          1.0   0.099476\n",
              "3386419  0.469007  0.473458  0.627049     0.724667          1.0   0.141361\n",
              "3386420  0.289632  0.299196  0.522541     0.133060          1.0   0.162304\n",
              "3386421  0.487109  0.306166  0.500000     0.724667          1.0   0.115183\n",
              "3386422  0.407021  0.313137  0.610656     0.724667          1.0   0.115183\n",
              "\n",
              "[3386423 rows x 6 columns]"
            ]
          },
          "metadata": {
            "tags": []
          },
          "execution_count": 13
        }
      ]
    },
    {
      "cell_type": "code",
      "metadata": {
        "colab": {
          "base_uri": "https://localhost:8080/"
        },
        "id": "YzoNzSlZIVpM",
        "outputId": "5926c918-7d4f-4374-bafe-6e48958b30f5"
      },
      "source": [
        "y"
      ],
      "execution_count": 14,
      "outputs": [
        {
          "output_type": "execute_result",
          "data": {
            "text/plain": [
              "array([0, 0, 1, ..., 1, 1, 0])"
            ]
          },
          "metadata": {
            "tags": []
          },
          "execution_count": 14
        }
      ]
    },
    {
      "cell_type": "markdown",
      "metadata": {
        "id": "vwoDnj6XKRty"
      },
      "source": [
        "Descriptive statistics after handle missing value"
      ]
    },
    {
      "cell_type": "code",
      "metadata": {
        "id": "ajf977gMaead",
        "colab": {
          "base_uri": "https://localhost:8080/",
          "height": 462
        },
        "outputId": "00ec2074-eeb2-4faf-d443-e69131c20501"
      },
      "source": [
        "plt.figure(dpi = 100)\n",
        "plt.hist(x[\"whiteELO\"])"
      ],
      "execution_count": 15,
      "outputs": [
        {
          "output_type": "execute_result",
          "data": {
            "text/plain": [
              "(array([3.305000e+03, 3.371700e+04, 2.019540e+05, 6.790650e+05,\n",
              "        1.145573e+06, 8.856240e+05, 3.402940e+05, 8.611800e+04,\n",
              "        1.051800e+04, 2.550000e+02]),\n",
              " array([0. , 0.1, 0.2, 0.3, 0.4, 0.5, 0.6, 0.7, 0.8, 0.9, 1. ]),\n",
              " <a list of 10 Patch objects>)"
            ]
          },
          "metadata": {
            "tags": []
          },
          "execution_count": 15
        },
        {
          "output_type": "display_data",
          "data": {
            "image/png": "[encoded data removed]",
            "text/plain": [
              "<Figure size 600x400 with 1 Axes>"
            ]
          },
          "metadata": {
            "tags": [],
            "needs_background": "light"
          }
        }
      ]
    },
    {
      "cell_type": "code",
      "metadata": {
        "id": "yI1Owlj1aeSG",
        "colab": {
          "base_uri": "https://localhost:8080/",
          "height": 445
        },
        "outputId": "a1a6804d-1125-489b-f574-7c815940386a"
      },
      "source": [
        "plt.figure(dpi = 100)\n",
        "plt.hist(x[\"blackELO\"])"
      ],
      "execution_count": 16,
      "outputs": [
        {
          "output_type": "execute_result",
          "data": {
            "text/plain": [
              "(array([3.51600e+03, 3.77500e+04, 2.18497e+05, 6.74524e+05, 1.18062e+06,\n",
              "        8.45662e+05, 3.30081e+05, 8.55040e+04, 1.00240e+04, 2.45000e+02]),\n",
              " array([0. , 0.1, 0.2, 0.3, 0.4, 0.5, 0.6, 0.7, 0.8, 0.9, 1. ]),\n",
              " <a list of 10 Patch objects>)"
            ]
          },
          "metadata": {
            "tags": []
          },
          "execution_count": 16
        },
        {
          "output_type": "display_data",
          "data": {
            "image/png": "[encoded data removed]",
            "text/plain": [
              "<Figure size 600x400 with 1 Axes>"
            ]
          },
          "metadata": {
            "tags": [],
            "needs_background": "light"
          }
        }
      ]
    },
    {
      "cell_type": "code",
      "metadata": {
        "id": "iSO24jlraiNt",
        "colab": {
          "base_uri": "https://localhost:8080/",
          "height": 413
        },
        "outputId": "dcfbaf6b-f2c2-4e19-f0c6-843d4f8f2b6b"
      },
      "source": [
        "from scipy import stats\n",
        "print(\"Correlation of ELO of both side:\", round(stats.pearsonr(x[\"whiteELO\"], x[\"blackELO\"])[0], 5), \"\\n\")\n",
        "\n",
        "plt.figure(dpi = 100)\n",
        "plt.scatter(df[\"whiteELO\"], df[\"blackELO\"], s = 1)"
      ],
      "execution_count": 17,
      "outputs": [
        {
          "output_type": "stream",
          "text": [
            "Correlation of ELO of both side: 0.56321 \n",
            "\n"
          ],
          "name": "stdout"
        },
        {
          "output_type": "execute_result",
          "data": {
            "text/plain": [
              "<matplotlib.collections.PathCollection at 0x7f228918f390>"
            ]
          },
          "metadata": {
            "tags": []
          },
          "execution_count": 17
        },
        {
          "output_type": "display_data",
          "data": {
            "image/png": "[encoded data removed]",
            "text/plain": [
              "<Figure size 600x400 with 1 Axes>"
            ]
          },
          "metadata": {
            "tags": [],
            "needs_background": "light"
          }
        }
      ]
    },
    {
      "cell_type": "code",
      "metadata": {
        "id": "UsKcnv2yI0PS",
        "colab": {
          "base_uri": "https://localhost:8080/",
          "height": 462
        },
        "outputId": "989d4ed6-9ab2-46c7-b556-2911d22f51c4"
      },
      "source": [
        "plt.figure(dpi = 100)\n",
        "plt.hist(x[\"totalMove\"])"
      ],
      "execution_count": 18,
      "outputs": [
        {
          "output_type": "execute_result",
          "data": {
            "text/plain": [
              "(array([5.999770e+05, 1.651938e+06, 8.541940e+05, 2.383920e+05,\n",
              "        3.582300e+04, 5.001000e+03, 9.240000e+02, 1.510000e+02,\n",
              "        1.900000e+01, 4.000000e+00]),\n",
              " array([0. , 0.1, 0.2, 0.3, 0.4, 0.5, 0.6, 0.7, 0.8, 0.9, 1. ]),\n",
              " <a list of 10 Patch objects>)"
            ]
          },
          "metadata": {
            "tags": []
          },
          "execution_count": 18
        },
        {
          "output_type": "display_data",
          "data": {
            "image/png": "[encoded data removed]",
            "text/plain": [
              "<Figure size 600x400 with 1 Axes>"
            ]
          },
          "metadata": {
            "tags": [],
            "needs_background": "light"
          }
        }
      ]
    },
    {
      "cell_type": "markdown",
      "metadata": {
        "id": "h2caHzj7Jz7V"
      },
      "source": [
        "# **Data Modelling**"
      ]
    },
    {
      "cell_type": "markdown",
      "metadata": {
        "id": "NbqHXcH4cFlP"
      },
      "source": [
        "Splitting data"
      ]
    },
    {
      "cell_type": "code",
      "metadata": {
        "id": "l0kNavuUBtvR"
      },
      "source": [
        "import time\n",
        "start_time = time.time()"
      ],
      "execution_count": 19,
      "outputs": []
    },
    {
      "cell_type": "code",
      "metadata": {
        "id": "XjC8vsCAWPQz"
      },
      "source": [
        "from sklearn.model_selection import train_test_split\n",
        "x_train, x_test, y_train, y_test = train_test_split(x, y, train_size = 0.7)"
      ],
      "execution_count": 20,
      "outputs": []
    },
    {
      "cell_type": "markdown",
      "metadata": {
        "id": "1RVy_hncKoL7"
      },
      "source": [
        "Modelling"
      ]
    },
    {
      "cell_type": "code",
      "metadata": {
        "id": "HLr2jPVa0Kps"
      },
      "source": [
        "%pip install catBoost"
      ],
      "execution_count": null,
      "outputs": []
    },
    {
      "cell_type": "code",
      "metadata": {
        "id": "muOLWCDUAF29"
      },
      "source": [
        "from sklearn.linear_model import LogisticRegression\n",
        "from sklearn.tree import DecisionTreeClassifier\n",
        "from sklearn.neural_network import MLPClassifier\n",
        "from sklearn.svm import SVC\n",
        "from catboost import CatBoostClassifier\n",
        "from sklearn.model_selection import cross_val_score, RepeatedStratifiedKFold\n",
        "from sklearn.metrics import confusion_matrix\n",
        "from sklearn import metrics\n",
        "\n",
        "scorer = \"accuracy\"\n",
        "k = RepeatedStratifiedKFold(n_splits = 5, n_repeats = 1)"
      ],
      "execution_count": 22,
      "outputs": []
    },
    {
      "cell_type": "code",
      "metadata": {
        "id": "q8vEBDEY7amg"
      },
      "source": [
        "LR = LogisticRegression(solver = \"lbfgs\", multi_class = \"multinomial\", max_iter = 100)\n",
        "LR_score = cross_val_score(LR, x_train, y_train, cv = k, scoring = scorer)"
      ],
      "execution_count": 23,
      "outputs": []
    },
    {
      "cell_type": "code",
      "metadata": {
        "id": "QjXj4ujm7dlP"
      },
      "source": [
        "DT = DecisionTreeClassifier(max_depth = 5)\n",
        "DT_score = cross_val_score(DT, x_train, y_train, cv = k, scoring = scorer)"
      ],
      "execution_count": 24,
      "outputs": []
    },
    {
      "cell_type": "code",
      "metadata": {
        "id": "yif_RBct8XdB"
      },
      "source": [
        "NN = MLPClassifier(solver = \"sgd\", alpha = 1e-5, activation = \"tanh\", hidden_layer_sizes = (50, 20), max_iter = 100)\n",
        "NN_score = cross_val_score(NN, x_train, y_train, cv = k, scoring = scorer)"
      ],
      "execution_count": 27,
      "outputs": []
    },
    {
      "cell_type": "code",
      "metadata": {
        "id": "icyoS57z7gJn",
        "colab": {
          "base_uri": "https://localhost:8080/"
        },
        "outputId": "e7c25cf8-0181-4bc2-fc33-197609aee9d5"
      },
      "source": [
        "CB = CatBoostClassifier(iterations = 50,\n",
        "                        learning_rate = 0.1,\n",
        "                        random_strength = 0.1,\n",
        "                        depth = 5,\n",
        "                        loss_function = \"MultiClass\",\n",
        "                        leaf_estimation_method = \"Newton\")\n",
        "CB_score = cross_val_score(CB, x_train, y_train, cv = k, scoring = scorer)"
      ],
      "execution_count": 28,
      "outputs": [
        {
          "output_type": "stream",
          "text": [
            "0:\tlearn: 1.0448583\ttotal: 990ms\tremaining: 48.5s\n",
            "1:\tlearn: 1.0005892\ttotal: 1.98s\tremaining: 47.5s\n",
            "2:\tlearn: 0.9631048\ttotal: 2.97s\tremaining: 46.6s\n",
            "3:\tlearn: 0.9312489\ttotal: 3.97s\tremaining: 45.6s\n",
            "4:\tlearn: 0.9040909\ttotal: 4.94s\tremaining: 44.5s\n",
            "5:\tlearn: 0.8802938\ttotal: 5.91s\tremaining: 43.3s\n",
            "6:\tlearn: 0.8602835\ttotal: 6.87s\tremaining: 42.2s\n",
            "7:\tlearn: 0.8422069\ttotal: 7.86s\tremaining: 41.3s\n",
            "8:\tlearn: 0.8260315\ttotal: 8.84s\tremaining: 40.3s\n",
            "9:\tlearn: 0.8117755\ttotal: 9.76s\tremaining: 39.1s\n",
            "10:\tlearn: 0.7993159\ttotal: 10.8s\tremaining: 38.2s\n",
            "11:\tlearn: 0.7882486\ttotal: 11.7s\tremaining: 37.1s\n",
            "12:\tlearn: 0.7792809\ttotal: 12.7s\tremaining: 36.1s\n",
            "13:\tlearn: 0.7714997\ttotal: 13.6s\tremaining: 35s\n",
            "14:\tlearn: 0.7637988\ttotal: 14.6s\tremaining: 34s\n",
            "15:\tlearn: 0.7578526\ttotal: 15.6s\tremaining: 33.1s\n",
            "16:\tlearn: 0.7518698\ttotal: 16.5s\tremaining: 32.1s\n",
            "17:\tlearn: 0.7461519\ttotal: 17.5s\tremaining: 31.1s\n",
            "18:\tlearn: 0.7412097\ttotal: 18.4s\tremaining: 30.1s\n",
            "19:\tlearn: 0.7366824\ttotal: 19.4s\tremaining: 29.1s\n",
            "20:\tlearn: 0.7330688\ttotal: 20.3s\tremaining: 28.1s\n",
            "21:\tlearn: 0.7295675\ttotal: 21.2s\tremaining: 27s\n",
            "22:\tlearn: 0.7262463\ttotal: 22.2s\tremaining: 26.1s\n",
            "23:\tlearn: 0.7233106\ttotal: 23.1s\tremaining: 25.1s\n",
            "24:\tlearn: 0.7207235\ttotal: 24.1s\tremaining: 24.1s\n",
            "25:\tlearn: 0.7191429\ttotal: 25.1s\tremaining: 23.1s\n",
            "26:\tlearn: 0.7173701\ttotal: 26s\tremaining: 22.1s\n",
            "27:\tlearn: 0.7155042\ttotal: 26.9s\tremaining: 21.2s\n",
            "28:\tlearn: 0.7134686\ttotal: 27.9s\tremaining: 20.2s\n",
            "29:\tlearn: 0.7118195\ttotal: 28.8s\tremaining: 19.2s\n",
            "30:\tlearn: 0.7108559\ttotal: 29.7s\tremaining: 18.2s\n",
            "31:\tlearn: 0.7092392\ttotal: 30.7s\tremaining: 17.3s\n",
            "32:\tlearn: 0.7078218\ttotal: 31.7s\tremaining: 16.3s\n",
            "33:\tlearn: 0.7066880\ttotal: 32.6s\tremaining: 15.4s\n",
            "34:\tlearn: 0.7061623\ttotal: 33.6s\tremaining: 14.4s\n",
            "35:\tlearn: 0.7056155\ttotal: 34.6s\tremaining: 13.4s\n",
            "36:\tlearn: 0.7049064\ttotal: 35.5s\tremaining: 12.5s\n",
            "37:\tlearn: 0.7041906\ttotal: 36.4s\tremaining: 11.5s\n",
            "38:\tlearn: 0.7035008\ttotal: 37.4s\tremaining: 10.5s\n",
            "39:\tlearn: 0.7028891\ttotal: 38.4s\tremaining: 9.59s\n",
            "40:\tlearn: 0.7024179\ttotal: 39.3s\tremaining: 8.63s\n",
            "41:\tlearn: 0.7017555\ttotal: 40.3s\tremaining: 7.67s\n",
            "42:\tlearn: 0.7014217\ttotal: 41.2s\tremaining: 6.71s\n",
            "43:\tlearn: 0.7011815\ttotal: 42.1s\tremaining: 5.75s\n",
            "44:\tlearn: 0.7007342\ttotal: 43.1s\tremaining: 4.78s\n",
            "45:\tlearn: 0.7001514\ttotal: 44s\tremaining: 3.83s\n",
            "46:\tlearn: 0.6998146\ttotal: 44.9s\tremaining: 2.87s\n",
            "47:\tlearn: 0.6994550\ttotal: 45.9s\tremaining: 1.91s\n",
            "48:\tlearn: 0.6988720\ttotal: 46.9s\tremaining: 956ms\n",
            "49:\tlearn: 0.6984904\ttotal: 47.8s\tremaining: 0us\n",
            "0:\tlearn: 1.0446964\ttotal: 973ms\tremaining: 47.7s\n",
            "1:\tlearn: 1.0003909\ttotal: 1.95s\tremaining: 46.8s\n",
            "2:\tlearn: 0.9627363\ttotal: 2.95s\tremaining: 46.3s\n",
            "3:\tlearn: 0.9309700\ttotal: 3.95s\tremaining: 45.4s\n",
            "4:\tlearn: 0.9032975\ttotal: 4.94s\tremaining: 44.5s\n",
            "5:\tlearn: 0.8799638\ttotal: 5.92s\tremaining: 43.4s\n",
            "6:\tlearn: 0.8598161\ttotal: 6.9s\tremaining: 42.4s\n",
            "7:\tlearn: 0.8416299\ttotal: 7.86s\tremaining: 41.3s\n",
            "8:\tlearn: 0.8256080\ttotal: 8.8s\tremaining: 40.1s\n",
            "9:\tlearn: 0.8121307\ttotal: 9.78s\tremaining: 39.1s\n",
            "10:\tlearn: 0.7997572\ttotal: 10.7s\tremaining: 38.1s\n",
            "11:\tlearn: 0.7886719\ttotal: 11.7s\tremaining: 36.9s\n",
            "12:\tlearn: 0.7789494\ttotal: 12.6s\tremaining: 35.9s\n",
            "13:\tlearn: 0.7702528\ttotal: 13.6s\tremaining: 35.1s\n",
            "14:\tlearn: 0.7625213\ttotal: 14.6s\tremaining: 34.1s\n",
            "15:\tlearn: 0.7556140\ttotal: 15.5s\tremaining: 33s\n",
            "16:\tlearn: 0.7497126\ttotal: 16.5s\tremaining: 32s\n",
            "17:\tlearn: 0.7441748\ttotal: 17.4s\tremaining: 31s\n",
            "18:\tlearn: 0.7401884\ttotal: 18.4s\tremaining: 30.1s\n",
            "19:\tlearn: 0.7361477\ttotal: 19.4s\tremaining: 29s\n",
            "20:\tlearn: 0.7321539\ttotal: 20.4s\tremaining: 28.1s\n",
            "21:\tlearn: 0.7285852\ttotal: 21.3s\tremaining: 27.1s\n",
            "22:\tlearn: 0.7257430\ttotal: 22.2s\tremaining: 26.1s\n",
            "23:\tlearn: 0.7228972\ttotal: 23.2s\tremaining: 25.2s\n",
            "24:\tlearn: 0.7202967\ttotal: 24.2s\tremaining: 24.2s\n",
            "25:\tlearn: 0.7187408\ttotal: 25.1s\tremaining: 23.2s\n",
            "26:\tlearn: 0.7167534\ttotal: 26.1s\tremaining: 22.2s\n",
            "27:\tlearn: 0.7150909\ttotal: 27s\tremaining: 21.2s\n",
            "28:\tlearn: 0.7133163\ttotal: 27.9s\tremaining: 20.2s\n",
            "29:\tlearn: 0.7116481\ttotal: 28.9s\tremaining: 19.3s\n",
            "30:\tlearn: 0.7103066\ttotal: 29.8s\tremaining: 18.3s\n",
            "31:\tlearn: 0.7094691\ttotal: 30.7s\tremaining: 17.3s\n",
            "32:\tlearn: 0.7080063\ttotal: 31.7s\tremaining: 16.3s\n",
            "33:\tlearn: 0.7066438\ttotal: 32.6s\tremaining: 15.4s\n",
            "34:\tlearn: 0.7056177\ttotal: 33.6s\tremaining: 14.4s\n",
            "35:\tlearn: 0.7047145\ttotal: 34.6s\tremaining: 13.5s\n",
            "36:\tlearn: 0.7042907\ttotal: 35.6s\tremaining: 12.5s\n",
            "37:\tlearn: 0.7035964\ttotal: 36.5s\tremaining: 11.5s\n",
            "38:\tlearn: 0.7032014\ttotal: 37.4s\tremaining: 10.6s\n",
            "39:\tlearn: 0.7026606\ttotal: 38.4s\tremaining: 9.59s\n",
            "40:\tlearn: 0.7019334\ttotal: 39.3s\tremaining: 8.63s\n",
            "41:\tlearn: 0.7011896\ttotal: 40.3s\tremaining: 7.67s\n",
            "42:\tlearn: 0.7009069\ttotal: 41.2s\tremaining: 6.71s\n",
            "43:\tlearn: 0.7003421\ttotal: 42.2s\tremaining: 5.75s\n",
            "44:\tlearn: 0.6999063\ttotal: 43.1s\tremaining: 4.79s\n",
            "45:\tlearn: 0.6997011\ttotal: 44.1s\tremaining: 3.83s\n",
            "46:\tlearn: 0.6991853\ttotal: 45s\tremaining: 2.87s\n",
            "47:\tlearn: 0.6987749\ttotal: 46s\tremaining: 1.92s\n",
            "48:\tlearn: 0.6984357\ttotal: 47s\tremaining: 959ms\n",
            "49:\tlearn: 0.6983071\ttotal: 47.9s\tremaining: 0us\n",
            "0:\tlearn: 1.0447984\ttotal: 967ms\tremaining: 47.4s\n",
            "1:\tlearn: 1.0005926\ttotal: 1.96s\tremaining: 47s\n",
            "2:\tlearn: 0.9629866\ttotal: 2.94s\tremaining: 46.1s\n",
            "3:\tlearn: 0.9311235\ttotal: 3.93s\tremaining: 45.2s\n",
            "4:\tlearn: 0.9036237\ttotal: 4.9s\tremaining: 44.1s\n",
            "5:\tlearn: 0.8801400\ttotal: 5.91s\tremaining: 43.4s\n",
            "6:\tlearn: 0.8592897\ttotal: 6.93s\tremaining: 42.6s\n",
            "7:\tlearn: 0.8409601\ttotal: 7.87s\tremaining: 41.3s\n",
            "8:\tlearn: 0.8256425\ttotal: 8.85s\tremaining: 40.3s\n",
            "9:\tlearn: 0.8116509\ttotal: 9.84s\tremaining: 39.4s\n",
            "10:\tlearn: 0.7992497\ttotal: 10.8s\tremaining: 38.4s\n",
            "11:\tlearn: 0.7881367\ttotal: 11.8s\tremaining: 37.3s\n",
            "12:\tlearn: 0.7783329\ttotal: 12.8s\tremaining: 36.4s\n",
            "13:\tlearn: 0.7705841\ttotal: 13.8s\tremaining: 35.4s\n",
            "14:\tlearn: 0.7629947\ttotal: 14.7s\tremaining: 34.3s\n",
            "15:\tlearn: 0.7561359\ttotal: 15.7s\tremaining: 33.3s\n",
            "16:\tlearn: 0.7502459\ttotal: 16.6s\tremaining: 32.3s\n",
            "17:\tlearn: 0.7446350\ttotal: 17.6s\tremaining: 31.3s\n",
            "18:\tlearn: 0.7397715\ttotal: 18.6s\tremaining: 30.3s\n",
            "19:\tlearn: 0.7362332\ttotal: 19.5s\tremaining: 29.3s\n",
            "20:\tlearn: 0.7322793\ttotal: 20.5s\tremaining: 28.3s\n",
            "21:\tlearn: 0.7290559\ttotal: 21.4s\tremaining: 27.3s\n",
            "22:\tlearn: 0.7258641\ttotal: 22.4s\tremaining: 26.3s\n",
            "23:\tlearn: 0.7237819\ttotal: 23.3s\tremaining: 25.3s\n",
            "24:\tlearn: 0.7211586\ttotal: 24.3s\tremaining: 24.3s\n",
            "25:\tlearn: 0.7191426\ttotal: 25.2s\tremaining: 23.3s\n",
            "26:\tlearn: 0.7169364\ttotal: 26.2s\tremaining: 22.3s\n",
            "27:\tlearn: 0.7147015\ttotal: 27.1s\tremaining: 21.3s\n",
            "28:\tlearn: 0.7129725\ttotal: 28.1s\tremaining: 20.3s\n",
            "29:\tlearn: 0.7118543\ttotal: 29s\tremaining: 19.3s\n",
            "30:\tlearn: 0.7103674\ttotal: 30s\tremaining: 18.4s\n",
            "31:\tlearn: 0.7090372\ttotal: 30.9s\tremaining: 17.4s\n",
            "32:\tlearn: 0.7082307\ttotal: 31.9s\tremaining: 16.4s\n",
            "33:\tlearn: 0.7071319\ttotal: 32.8s\tremaining: 15.5s\n",
            "34:\tlearn: 0.7063934\ttotal: 33.8s\tremaining: 14.5s\n",
            "35:\tlearn: 0.7052448\ttotal: 34.8s\tremaining: 13.5s\n",
            "36:\tlearn: 0.7047632\ttotal: 35.7s\tremaining: 12.6s\n",
            "37:\tlearn: 0.7038661\ttotal: 36.7s\tremaining: 11.6s\n",
            "38:\tlearn: 0.7029224\ttotal: 37.9s\tremaining: 10.7s\n",
            "39:\tlearn: 0.7022102\ttotal: 38.9s\tremaining: 9.72s\n",
            "40:\tlearn: 0.7017822\ttotal: 39.9s\tremaining: 8.75s\n",
            "41:\tlearn: 0.7012163\ttotal: 40.8s\tremaining: 7.78s\n",
            "42:\tlearn: 0.7009333\ttotal: 41.8s\tremaining: 6.8s\n",
            "43:\tlearn: 0.7006710\ttotal: 42.8s\tremaining: 5.83s\n",
            "44:\tlearn: 0.7001257\ttotal: 43.8s\tremaining: 4.87s\n",
            "45:\tlearn: 0.6996643\ttotal: 44.7s\tremaining: 3.89s\n",
            "46:\tlearn: 0.6995018\ttotal: 45.7s\tremaining: 2.92s\n",
            "47:\tlearn: 0.6993465\ttotal: 46.6s\tremaining: 1.94s\n",
            "48:\tlearn: 0.6991379\ttotal: 47.6s\tremaining: 971ms\n",
            "49:\tlearn: 0.6987270\ttotal: 48.5s\tremaining: 0us\n",
            "0:\tlearn: 1.0449474\ttotal: 976ms\tremaining: 47.8s\n",
            "1:\tlearn: 1.0005999\ttotal: 1.96s\tremaining: 47.1s\n",
            "2:\tlearn: 0.9634282\ttotal: 2.96s\tremaining: 46.4s\n",
            "3:\tlearn: 0.9316460\ttotal: 3.98s\tremaining: 45.7s\n",
            "4:\tlearn: 0.9040637\ttotal: 4.97s\tremaining: 44.7s\n",
            "5:\tlearn: 0.8802615\ttotal: 5.95s\tremaining: 43.6s\n",
            "6:\tlearn: 0.8592591\ttotal: 6.91s\tremaining: 42.5s\n",
            "7:\tlearn: 0.8409547\ttotal: 7.89s\tremaining: 41.4s\n",
            "8:\tlearn: 0.8257498\ttotal: 8.89s\tremaining: 40.5s\n",
            "9:\tlearn: 0.8117694\ttotal: 9.86s\tremaining: 39.4s\n",
            "10:\tlearn: 0.7992897\ttotal: 10.8s\tremaining: 38.3s\n",
            "11:\tlearn: 0.7891273\ttotal: 11.8s\tremaining: 37.3s\n",
            "12:\tlearn: 0.7801318\ttotal: 12.7s\tremaining: 36.2s\n",
            "13:\tlearn: 0.7715371\ttotal: 13.6s\tremaining: 35.1s\n",
            "14:\tlearn: 0.7637427\ttotal: 14.6s\tremaining: 34s\n",
            "15:\tlearn: 0.7567488\ttotal: 15.6s\tremaining: 33s\n",
            "16:\tlearn: 0.7515236\ttotal: 16.5s\tremaining: 32s\n",
            "17:\tlearn: 0.7460611\ttotal: 17.4s\tremaining: 31s\n",
            "18:\tlearn: 0.7413717\ttotal: 18.4s\tremaining: 30s\n",
            "19:\tlearn: 0.7369255\ttotal: 19.4s\tremaining: 29.1s\n",
            "20:\tlearn: 0.7329138\ttotal: 20.3s\tremaining: 28.1s\n",
            "21:\tlearn: 0.7295684\ttotal: 21.3s\tremaining: 27.1s\n",
            "22:\tlearn: 0.7263303\ttotal: 22.2s\tremaining: 26s\n",
            "23:\tlearn: 0.7234451\ttotal: 23.2s\tremaining: 25.1s\n",
            "24:\tlearn: 0.7212526\ttotal: 24.1s\tremaining: 24.1s\n",
            "25:\tlearn: 0.7186413\ttotal: 25s\tremaining: 23.1s\n",
            "26:\tlearn: 0.7166938\ttotal: 26s\tremaining: 22.1s\n",
            "27:\tlearn: 0.7154889\ttotal: 26.9s\tremaining: 21.1s\n",
            "28:\tlearn: 0.7137507\ttotal: 27.8s\tremaining: 20.2s\n",
            "29:\tlearn: 0.7121292\ttotal: 28.8s\tremaining: 19.2s\n",
            "30:\tlearn: 0.7109764\ttotal: 29.7s\tremaining: 18.2s\n",
            "31:\tlearn: 0.7095804\ttotal: 30.6s\tremaining: 17.2s\n",
            "32:\tlearn: 0.7083513\ttotal: 31.6s\tremaining: 16.3s\n",
            "33:\tlearn: 0.7075901\ttotal: 32.5s\tremaining: 15.3s\n",
            "34:\tlearn: 0.7065374\ttotal: 33.5s\tremaining: 14.3s\n",
            "35:\tlearn: 0.7058661\ttotal: 34.4s\tremaining: 13.4s\n",
            "36:\tlearn: 0.7048688\ttotal: 35.4s\tremaining: 12.4s\n",
            "37:\tlearn: 0.7044255\ttotal: 36.4s\tremaining: 11.5s\n",
            "38:\tlearn: 0.7039642\ttotal: 37.3s\tremaining: 10.5s\n",
            "39:\tlearn: 0.7031131\ttotal: 38.3s\tremaining: 9.57s\n",
            "40:\tlearn: 0.7022842\ttotal: 39.2s\tremaining: 8.61s\n",
            "41:\tlearn: 0.7017155\ttotal: 40.2s\tremaining: 7.65s\n",
            "42:\tlearn: 0.7014353\ttotal: 41.1s\tremaining: 6.69s\n",
            "43:\tlearn: 0.7012098\ttotal: 42s\tremaining: 5.73s\n",
            "44:\tlearn: 0.7005572\ttotal: 43s\tremaining: 4.78s\n",
            "45:\tlearn: 0.7003295\ttotal: 43.9s\tremaining: 3.82s\n",
            "46:\tlearn: 0.7000131\ttotal: 44.8s\tremaining: 2.86s\n",
            "47:\tlearn: 0.6995686\ttotal: 45.8s\tremaining: 1.91s\n",
            "48:\tlearn: 0.6991753\ttotal: 46.7s\tremaining: 953ms\n",
            "49:\tlearn: 0.6990225\ttotal: 47.6s\tremaining: 0us\n",
            "0:\tlearn: 1.0449498\ttotal: 971ms\tremaining: 47.6s\n",
            "1:\tlearn: 1.0006252\ttotal: 1.95s\tremaining: 46.7s\n",
            "2:\tlearn: 0.9635565\ttotal: 2.92s\tremaining: 45.7s\n",
            "3:\tlearn: 0.9311160\ttotal: 3.92s\tremaining: 45.1s\n",
            "4:\tlearn: 0.9038884\ttotal: 4.92s\tremaining: 44.3s\n",
            "5:\tlearn: 0.8800558\ttotal: 5.87s\tremaining: 43s\n",
            "6:\tlearn: 0.8591085\ttotal: 6.83s\tremaining: 42s\n",
            "7:\tlearn: 0.8410578\ttotal: 7.8s\tremaining: 41s\n",
            "8:\tlearn: 0.8250227\ttotal: 8.76s\tremaining: 39.9s\n",
            "9:\tlearn: 0.8115567\ttotal: 9.75s\tremaining: 39s\n",
            "10:\tlearn: 0.7997799\ttotal: 10.8s\tremaining: 38.2s\n",
            "11:\tlearn: 0.7888639\ttotal: 11.8s\tremaining: 37.4s\n",
            "12:\tlearn: 0.7792474\ttotal: 12.8s\tremaining: 36.4s\n",
            "13:\tlearn: 0.7705141\ttotal: 13.7s\tremaining: 35.3s\n",
            "14:\tlearn: 0.7627024\ttotal: 14.7s\tremaining: 34.3s\n",
            "15:\tlearn: 0.7560973\ttotal: 15.6s\tremaining: 33.2s\n",
            "16:\tlearn: 0.7508366\ttotal: 16.6s\tremaining: 32.2s\n",
            "17:\tlearn: 0.7452777\ttotal: 17.6s\tremaining: 31.2s\n",
            "18:\tlearn: 0.7407302\ttotal: 18.5s\tremaining: 30.2s\n",
            "19:\tlearn: 0.7362949\ttotal: 19.4s\tremaining: 29.1s\n",
            "20:\tlearn: 0.7322723\ttotal: 20.4s\tremaining: 28.2s\n",
            "21:\tlearn: 0.7287097\ttotal: 21.4s\tremaining: 27.2s\n",
            "22:\tlearn: 0.7255405\ttotal: 22.3s\tremaining: 26.2s\n",
            "23:\tlearn: 0.7234642\ttotal: 23.2s\tremaining: 25.2s\n",
            "24:\tlearn: 0.7211542\ttotal: 24.1s\tremaining: 24.1s\n",
            "25:\tlearn: 0.7188993\ttotal: 25.1s\tremaining: 23.2s\n",
            "26:\tlearn: 0.7167261\ttotal: 26.1s\tremaining: 22.2s\n",
            "27:\tlearn: 0.7151612\ttotal: 27s\tremaining: 21.2s\n",
            "28:\tlearn: 0.7134242\ttotal: 27.9s\tremaining: 20.2s\n",
            "29:\tlearn: 0.7120565\ttotal: 28.8s\tremaining: 19.2s\n",
            "30:\tlearn: 0.7103169\ttotal: 29.8s\tremaining: 18.3s\n",
            "31:\tlearn: 0.7089911\ttotal: 30.7s\tremaining: 17.3s\n",
            "32:\tlearn: 0.7081143\ttotal: 31.7s\tremaining: 16.3s\n",
            "33:\tlearn: 0.7067856\ttotal: 32.7s\tremaining: 15.4s\n",
            "34:\tlearn: 0.7061255\ttotal: 33.6s\tremaining: 14.4s\n",
            "35:\tlearn: 0.7052639\ttotal: 34.6s\tremaining: 13.4s\n",
            "36:\tlearn: 0.7045148\ttotal: 35.6s\tremaining: 12.5s\n",
            "37:\tlearn: 0.7037210\ttotal: 36.5s\tremaining: 11.5s\n",
            "38:\tlearn: 0.7030193\ttotal: 37.4s\tremaining: 10.6s\n",
            "39:\tlearn: 0.7025543\ttotal: 38.4s\tremaining: 9.6s\n",
            "40:\tlearn: 0.7022722\ttotal: 39.3s\tremaining: 8.63s\n",
            "41:\tlearn: 0.7019541\ttotal: 40.3s\tremaining: 7.67s\n",
            "42:\tlearn: 0.7012871\ttotal: 41.2s\tremaining: 6.71s\n",
            "43:\tlearn: 0.7005278\ttotal: 42.2s\tremaining: 5.75s\n",
            "44:\tlearn: 0.7000032\ttotal: 43.2s\tremaining: 4.8s\n",
            "45:\tlearn: 0.6994144\ttotal: 44.1s\tremaining: 3.84s\n",
            "46:\tlearn: 0.6992269\ttotal: 45s\tremaining: 2.87s\n",
            "47:\tlearn: 0.6989361\ttotal: 45.9s\tremaining: 1.91s\n",
            "48:\tlearn: 0.6985361\ttotal: 46.9s\tremaining: 957ms\n",
            "49:\tlearn: 0.6983633\ttotal: 47.8s\tremaining: 0us\n"
          ],
          "name": "stdout"
        }
      ]
    },
    {
      "cell_type": "markdown",
      "metadata": {
        "id": "eFWAW_bLKqYU"
      },
      "source": [
        "Comparison of models score"
      ]
    },
    {
      "cell_type": "code",
      "metadata": {
        "id": "q1HSbAB3od09",
        "colab": {
          "base_uri": "https://localhost:8080/"
        },
        "outputId": "db823953-486f-47f2-8384-701e16acd287"
      },
      "source": [
        "print(\"Comparison of model efficiency base on F1 score\\n\")\n",
        "print(\"LR  :\", np.around(LR_score, 5))\n",
        "print(\"DT  :\", np.around(DT_score, 5))\n",
        "print(\"NN  :\", np.around(NN_score, 5))\n",
        "print(\"CB  :\", np.around(CB_score, 5))\n",
        "print(\"\\n\")\n",
        "print(\"Logistic Regression score       :\", round(np.mean(LR_score), 5) , \" (\", round(np.mean(LR_score) * 100, 5), \"% ) standard deviation: \", round(np.std(LR_score) * 100, 2), \"%\")\n",
        "print(\"Decision Tree score             :\", round(np.mean(DT_score), 5) , \" (\", round(np.mean(DT_score) * 100, 5), \"% ) standard deviation: \", round(np.std(DT_score) * 100, 2), \"%\")\n",
        "print(\"Multi-layer Perceptron score    :\", round(np.mean(NN_score), 5) , \" (\", round(np.mean(NN_score) * 100, 5), \"% ) standard deviation: \", round(np.std(NN_score) * 100, 2), \"%\")\n",
        "print(\"CatBoost score                  :\", round(np.mean(CB_score), 5) , \" (\", round(np.mean(CB_score) * 100, 5), \"% ) standard deviation: \", round(np.std(CB_score) * 100, 2), \"%\")"
      ],
      "execution_count": 29,
      "outputs": [
        {
          "output_type": "stream",
          "text": [
            "Comparison of model efficiency base on F1 score\n",
            "\n",
            "LR  : [0.64175 0.64066 0.63921 0.64108 0.63988]\n",
            "DT  : [0.62785 0.62804 0.62756 0.62752 0.6282 ]\n",
            "NN  : [0.64089 0.64086 0.64048 0.6411  0.64129]\n",
            "CB  : [0.64196 0.64083 0.64095 0.6423  0.64221]\n",
            "\n",
            "\n",
            "Logistic Regression score       : 0.64052  ( 64.05157 % ) standard deviation:  0.09 %\n",
            "Decision Tree score             : 0.62784  ( 62.78361 % ) standard deviation:  0.03 %\n",
            "Multi-layer Perceptron score    : 0.64092  ( 64.09232 % ) standard deviation:  0.03 %\n",
            "CatBoost score                  : 0.64165  ( 64.16497 % ) standard deviation:  0.06 %\n"
          ],
          "name": "stdout"
        }
      ]
    },
    {
      "cell_type": "markdown",
      "metadata": {
        "id": "VMyTMqU7e2ms"
      },
      "source": [
        "Finale Evaluation"
      ]
    },
    {
      "cell_type": "code",
      "metadata": {
        "id": "1Ry9qPn7Wi3G",
        "colab": {
          "base_uri": "https://localhost:8080/"
        },
        "outputId": "2dd970d8-2538-4d74-d2f7-f9813fc453bf"
      },
      "source": [
        "# Fitting model with training set\n",
        "LR.fit(x_train, y_train)\n",
        "DT.fit(x_train, y_train)\n",
        "NN.fit(x_train, y_train)\n",
        "CB.fit(x_train, y_train)\n",
        "\n",
        "# Predict with testing set\n",
        "LR_y_pred = LR.predict(x_test)\n",
        "DT_y_pred = DT.predict(x_test)\n",
        "NN_y_pred = NN.predict(x_test)\n",
        "CB_y_pred = CB.predict(x_test)"
      ],
      "execution_count": 30,
      "outputs": [
        {
          "output_type": "stream",
          "text": [
            "0:\tlearn: 1.0448410\ttotal: 1.38s\tremaining: 1m 7s\n",
            "1:\tlearn: 1.0004466\ttotal: 2.62s\tremaining: 1m 2s\n",
            "2:\tlearn: 0.9630741\ttotal: 3.86s\tremaining: 1m\n",
            "3:\tlearn: 0.9313010\ttotal: 5.12s\tremaining: 58.9s\n",
            "4:\tlearn: 0.9036527\ttotal: 6.36s\tremaining: 57.2s\n",
            "5:\tlearn: 0.8796268\ttotal: 7.55s\tremaining: 55.4s\n",
            "6:\tlearn: 0.8593124\ttotal: 8.78s\tremaining: 53.9s\n",
            "7:\tlearn: 0.8417704\ttotal: 10s\tremaining: 52.5s\n",
            "8:\tlearn: 0.8258625\ttotal: 11.2s\tremaining: 51.2s\n",
            "9:\tlearn: 0.8118075\ttotal: 12.4s\tremaining: 49.8s\n",
            "10:\tlearn: 0.7993524\ttotal: 13.6s\tremaining: 48.2s\n",
            "11:\tlearn: 0.7891703\ttotal: 14.8s\tremaining: 46.9s\n",
            "12:\tlearn: 0.7803750\ttotal: 16s\tremaining: 45.7s\n",
            "13:\tlearn: 0.7714958\ttotal: 17.2s\tremaining: 44.3s\n",
            "14:\tlearn: 0.7639135\ttotal: 18.4s\tremaining: 43s\n",
            "15:\tlearn: 0.7568278\ttotal: 19.7s\tremaining: 41.8s\n",
            "16:\tlearn: 0.7506941\ttotal: 20.9s\tremaining: 40.6s\n",
            "17:\tlearn: 0.7453170\ttotal: 22s\tremaining: 39.2s\n",
            "18:\tlearn: 0.7403718\ttotal: 23.2s\tremaining: 37.9s\n",
            "19:\tlearn: 0.7359425\ttotal: 24.4s\tremaining: 36.6s\n",
            "20:\tlearn: 0.7328262\ttotal: 25.6s\tremaining: 35.4s\n",
            "21:\tlearn: 0.7296158\ttotal: 26.7s\tremaining: 34s\n",
            "22:\tlearn: 0.7264502\ttotal: 27.9s\tremaining: 32.7s\n",
            "23:\tlearn: 0.7236023\ttotal: 29.1s\tremaining: 31.5s\n",
            "24:\tlearn: 0.7209583\ttotal: 30.3s\tremaining: 30.3s\n",
            "25:\tlearn: 0.7193676\ttotal: 31.5s\tremaining: 29.1s\n",
            "26:\tlearn: 0.7176398\ttotal: 32.6s\tremaining: 27.8s\n",
            "27:\tlearn: 0.7156302\ttotal: 33.8s\tremaining: 26.6s\n",
            "28:\tlearn: 0.7134944\ttotal: 35s\tremaining: 25.3s\n",
            "29:\tlearn: 0.7121736\ttotal: 36.2s\tremaining: 24.1s\n",
            "30:\tlearn: 0.7106386\ttotal: 37.3s\tremaining: 22.9s\n",
            "31:\tlearn: 0.7090426\ttotal: 38.5s\tremaining: 21.7s\n",
            "32:\tlearn: 0.7083913\ttotal: 39.7s\tremaining: 20.4s\n",
            "33:\tlearn: 0.7073506\ttotal: 40.9s\tremaining: 19.2s\n",
            "34:\tlearn: 0.7061094\ttotal: 42s\tremaining: 18s\n",
            "35:\tlearn: 0.7055254\ttotal: 43.2s\tremaining: 16.8s\n",
            "36:\tlearn: 0.7047735\ttotal: 44.4s\tremaining: 15.6s\n",
            "37:\tlearn: 0.7039733\ttotal: 45.6s\tremaining: 14.4s\n",
            "38:\tlearn: 0.7032142\ttotal: 46.8s\tremaining: 13.2s\n",
            "39:\tlearn: 0.7023760\ttotal: 48s\tremaining: 12s\n",
            "40:\tlearn: 0.7017214\ttotal: 49.2s\tremaining: 10.8s\n",
            "41:\tlearn: 0.7012018\ttotal: 50.4s\tremaining: 9.59s\n",
            "42:\tlearn: 0.7009366\ttotal: 51.5s\tremaining: 8.38s\n",
            "43:\tlearn: 0.7006946\ttotal: 52.6s\tremaining: 7.17s\n",
            "44:\tlearn: 0.7003164\ttotal: 53.8s\tremaining: 5.97s\n",
            "45:\tlearn: 0.6999638\ttotal: 55s\tremaining: 4.78s\n",
            "46:\tlearn: 0.6996590\ttotal: 56.1s\tremaining: 3.58s\n",
            "47:\tlearn: 0.6993468\ttotal: 57.3s\tremaining: 2.39s\n",
            "48:\tlearn: 0.6989500\ttotal: 58.4s\tremaining: 1.19s\n",
            "49:\tlearn: 0.6986976\ttotal: 59.6s\tremaining: 0us\n"
          ],
          "name": "stdout"
        }
      ]
    },
    {
      "cell_type": "code",
      "metadata": {
        "id": "LIRg0F1cDc_I",
        "colab": {
          "base_uri": "https://localhost:8080/",
          "height": 1000
        },
        "outputId": "22fac161-5dc7-4a91-e1ad-dbbf8f91678c"
      },
      "source": [
        "from sklearn.metrics import plot_confusion_matrix\n",
        "\n",
        "classes = [\"1-0\", \"0-1\", \"1/2-1/2\"]\n",
        "plot_confusion_matrix(LR, x_test, y_test, display_labels = classes, cmap = plt.cm.Blues, values_format = \".0f\")\n",
        "plot_confusion_matrix(DT, x_test, y_test, display_labels = classes, cmap = plt.cm.Blues, values_format = \".0f\")\n",
        "plot_confusion_matrix(NN, x_test, y_test, display_labels = classes, cmap = plt.cm.Blues, values_format = \".0f\")\n",
        "plot_confusion_matrix(CB, x_test, y_test, display_labels = classes, cmap = plt.cm.Blues, values_format = \".0f\")"
      ],
      "execution_count": 31,
      "outputs": [
        {
          "output_type": "execute_result",
          "data": {
            "text/plain": [
              "<sklearn.metrics._plot.confusion_matrix.ConfusionMatrixDisplay at 0x7f2273121d50>"
            ]
          },
          "metadata": {
            "tags": []
          },
          "execution_count": 31
        },
        {
          "output_type": "display_data",
          "data": {
            "image/png": "[encoded data removed]",
            "text/plain": [
              "<Figure size 432x288 with 2 Axes>"
            ]
          },
          "metadata": {
            "tags": [],
            "needs_background": "light"
          }
        },
        {
          "output_type": "display_data",
          "data": {
            "image/png": "[encoded data removed]",
            "text/plain": [
              "<Figure size 432x288 with 2 Axes>"
            ]
          },
          "metadata": {
            "tags": [],
            "needs_background": "light"
          }
        },
        {
          "output_type": "display_data",
          "data": {
            "image/png": "[encoded data removed]",
            "text/plain": [
              "<Figure size 432x288 with 2 Axes>"
            ]
          },
          "metadata": {
            "tags": [],
            "needs_background": "light"
          }
        },
        {
          "output_type": "display_data",
          "data": {
            "image/png": "[encoded data removed]",
            "text/plain": [
              "<Figure size 432x288 with 2 Axes>"
            ]
          },
          "metadata": {
            "tags": [],
            "needs_background": "light"
          }
        }
      ]
    },
    {
      "cell_type": "code",
      "metadata": {
        "id": "9DGoD3ObE-FQ",
        "colab": {
          "base_uri": "https://localhost:8080/"
        },
        "outputId": "b7de81bc-a277-4c9f-de38-59f241f02f08"
      },
      "source": [
        "from sklearn.metrics import accuracy_score, f1_score\n",
        "\n",
        "print(\"Accuracy for Logistic Regression     :\", round(accuracy_score(y_test, LR_y_pred) * 100, 5), \"%\")\n",
        "print(\"Accuracy for Decision Tree           :\", round(accuracy_score(y_test, DT_y_pred) * 100, 5), \"%\")\n",
        "print(\"Accuracy for Multi-layer Perceptron  :\", round(accuracy_score(y_test, NN_y_pred) * 100, 5), \"%\")\n",
        "print(\"Accuracy for Catboost Classifier     :\", round(accuracy_score(y_test, CB_y_pred) * 100, 5), \"%\")\n",
        "print(\"\\n\")\n",
        "print(\"F1-Score for Logistic Regression     :\", round(f1_score(y_test, LR_y_pred, average = \"weighted\") * 100, 5), \"%\")\n",
        "print(\"F1-Score for Decision Tree           :\", round(f1_score(y_test, DT_y_pred, average = \"weighted\") * 100, 5), \"%\")\n",
        "print(\"F1-Score for Multi-layer Perceptron  :\", round(f1_score(y_test, NN_y_pred, average = \"weighted\") * 100, 5), \"%\")\n",
        "print(\"F1-Score for Catboost Classifier     :\", round(f1_score(y_test, CB_y_pred, average = \"weighted\") * 100, 5), \"%\")"
      ],
      "execution_count": 34,
      "outputs": [
        {
          "output_type": "stream",
          "text": [
            "Accuracy for Logistic Regression     : 64.07153 %\n",
            "Accuracy for Decision Tree           : 62.82371 %\n",
            "Accuracy for Multi-layer Perceptron  : 64.09368 %\n",
            "Accuracy for Catboost Classifier     : 64.20087 %\n",
            "\n",
            "\n",
            "F1-Score for Logistic Regression     : 63.30496 %\n",
            "F1-Score for Decision Tree           : 61.51041 %\n",
            "F1-Score for Multi-layer Perceptron  : 63.1644 %\n",
            "F1-Score for Catboost Classifier     : 63.03314 %\n"
          ],
          "name": "stdout"
        }
      ]
    },
    {
      "cell_type": "code",
      "metadata": {
        "id": "7m1wDpcsFMHQ",
        "colab": {
          "base_uri": "https://localhost:8080/"
        },
        "outputId": "23aa93a5-42b9-4b7d-a74d-1bd44ef4bbb4"
      },
      "source": [
        "times = round((time.time() - start_time)/60, 2)\n",
        "minutes = int(times)\n",
        "seconds = int(round((float(times) - minutes) * 0.6, 2) * 100)\n",
        "print(\"Data model running time: {} minutes {} seconds\".format(minutes, seconds))"
      ],
      "execution_count": 33,
      "outputs": [
        {
          "output_type": "stream",
          "text": [
            "Data model running time: 37 minutes 33 seconds\n"
          ],
          "name": "stdout"
        }
      ]
    }
  ]
}
