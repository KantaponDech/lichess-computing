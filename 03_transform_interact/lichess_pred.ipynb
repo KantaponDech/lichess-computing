{
 "cells": [
  {
   "cell_type": "markdown",
   "metadata": {
    "id": "oRcFO8ylNDRx"
   },
   "source": [
    "# **Import data**"
   ]
  },
  {
   "cell_type": "code",
   "execution_count": 1,
   "metadata": {
    "id": "yHet2s80Tt0V"
   },
   "outputs": [],
   "source": [
    "import pandas as pd\n",
    "import numpy as np\n",
    "import matplotlib.pyplot as plt"
   ]
  },
  {
   "cell_type": "code",
   "execution_count": 2,
   "metadata": {
    "id": "UpD2TYHsZNqK"
   },
   "outputs": [],
   "source": [
    "df = pd.read_csv(\"gs://strong-bucket/lichess/lichess2013.csv\", delimiter = \",\", encoding = \"utf-8\")"
   ]
  },
  {
   "cell_type": "markdown",
   "metadata": {
    "id": "tYJhBn90Nrrw"
   },
   "source": [
    "**Descriptive statistics**"
   ]
  },
  {
   "cell_type": "code",
   "execution_count": 3,
   "metadata": {
    "colab": {
     "base_uri": "https://localhost:8080/"
    },
    "id": "cX6iChoGBeBb",
    "outputId": "f6b8b267-52c0-4dd4-cb64-21edeb52a3a9"
   },
   "outputs": [
    {
     "name": "stdout",
     "output_type": "stream",
     "text": [
      "<class 'pandas.core.frame.DataFrame'>\n",
      "RangeIndex: 3386423 entries, 0 to 3386422\n",
      "Data columns (total 19 columns):\n",
      " #   Column           Dtype  \n",
      "---  ------           -----  \n",
      " 0   event            object \n",
      " 1   white            object \n",
      " 2   black            object \n",
      " 3   result           object \n",
      " 4   UTCDate          object \n",
      " 5   day              int64  \n",
      " 6   month            int64  \n",
      " 7   year             int64  \n",
      " 8   UTCTime          object \n",
      " 9   whiteELO         float64\n",
      " 10  blackELO         float64\n",
      " 11  RatingDiff       float64\n",
      " 12  whiteRatingDiff  float64\n",
      " 13  blackRatingDiff  float64\n",
      " 14  ECO              object \n",
      " 15  opening          object \n",
      " 16  timeControl      object \n",
      " 17  termination      object \n",
      " 18  totalMove        int64  \n",
      "dtypes: float64(5), int64(4), object(10)\n",
      "memory usage: 490.9+ MB\n"
     ]
    }
   ],
   "source": [
    "df.info()"
   ]
  },
  {
   "cell_type": "code",
   "execution_count": 4,
   "metadata": {
    "colab": {
     "base_uri": "https://localhost:8080/"
    },
    "id": "1OnlxqkgBjNk",
    "outputId": "f9614d2b-0c2f-4592-a7eb-8ac8dd27e6f9"
   },
   "outputs": [
    {
     "data": {
      "text/plain": [
       "event                  7\n",
       "white              60997\n",
       "black              62355\n",
       "result                 3\n",
       "UTCDate              366\n",
       "day                   31\n",
       "month                 12\n",
       "year                   2\n",
       "UTCTime            86400\n",
       "whiteELO            1749\n",
       "blackELO            1768\n",
       "RatingDiff          1141\n",
       "whiteRatingDiff     1140\n",
       "blackRatingDiff     1153\n",
       "ECO                  489\n",
       "opening             2771\n",
       "timeControl          978\n",
       "termination            3\n",
       "totalMove            168\n",
       "dtype: int64"
      ]
     },
     "execution_count": 4,
     "metadata": {},
     "output_type": "execute_result"
    }
   ],
   "source": [
    "df.nunique()"
   ]
  },
  {
   "cell_type": "code",
   "execution_count": 5,
   "metadata": {
    "colab": {
     "base_uri": "https://localhost:8080/"
    },
    "id": "NUATHc_YZuNn",
    "outputId": "9213cb5e-459a-438c-c489-3d6bed2bfc9e"
   },
   "outputs": [
    {
     "data": {
      "text/html": [
       "<div>\n",
       "<style scoped>\n",
       "    .dataframe tbody tr th:only-of-type {\n",
       "        vertical-align: middle;\n",
       "    }\n",
       "\n",
       "    .dataframe tbody tr th {\n",
       "        vertical-align: top;\n",
       "    }\n",
       "\n",
       "    .dataframe thead th {\n",
       "        text-align: right;\n",
       "    }\n",
       "</style>\n",
       "<table border=\"1\" class=\"dataframe\">\n",
       "  <thead>\n",
       "    <tr style=\"text-align: right;\">\n",
       "      <th></th>\n",
       "      <th>event</th>\n",
       "      <th>white</th>\n",
       "      <th>black</th>\n",
       "      <th>result</th>\n",
       "      <th>UTCDate</th>\n",
       "      <th>day</th>\n",
       "      <th>month</th>\n",
       "      <th>year</th>\n",
       "      <th>UTCTime</th>\n",
       "      <th>whiteELO</th>\n",
       "      <th>blackELO</th>\n",
       "      <th>RatingDiff</th>\n",
       "      <th>whiteRatingDiff</th>\n",
       "      <th>blackRatingDiff</th>\n",
       "      <th>ECO</th>\n",
       "      <th>opening</th>\n",
       "      <th>timeControl</th>\n",
       "      <th>termination</th>\n",
       "      <th>totalMove</th>\n",
       "    </tr>\n",
       "  </thead>\n",
       "  <tbody>\n",
       "    <tr>\n",
       "      <th>0</th>\n",
       "      <td>Rated Correspondence game</td>\n",
       "      <td>felixrbran</td>\n",
       "      <td>wiles</td>\n",
       "      <td>0-1</td>\n",
       "      <td>2013.07.02</td>\n",
       "      <td>2</td>\n",
       "      <td>7</td>\n",
       "      <td>2013</td>\n",
       "      <td>21:16:17</td>\n",
       "      <td>1398.0</td>\n",
       "      <td>1767.0</td>\n",
       "      <td>369.0</td>\n",
       "      <td>-3.0</td>\n",
       "      <td>3.0</td>\n",
       "      <td>A00</td>\n",
       "      <td>Polish Opening</td>\n",
       "      <td>NaN</td>\n",
       "      <td>Normal</td>\n",
       "      <td>25</td>\n",
       "    </tr>\n",
       "    <tr>\n",
       "      <th>1</th>\n",
       "      <td>Rated Correspondence game</td>\n",
       "      <td>singhk</td>\n",
       "      <td>bhangooj</td>\n",
       "      <td>0-1</td>\n",
       "      <td>2013.07.12</td>\n",
       "      <td>12</td>\n",
       "      <td>7</td>\n",
       "      <td>2013</td>\n",
       "      <td>04:25:22</td>\n",
       "      <td>1538.0</td>\n",
       "      <td>1461.0</td>\n",
       "      <td>77.0</td>\n",
       "      <td>-113.0</td>\n",
       "      <td>113.0</td>\n",
       "      <td>A00</td>\n",
       "      <td>Grob Opening</td>\n",
       "      <td>NaN</td>\n",
       "      <td>Normal</td>\n",
       "      <td>10</td>\n",
       "    </tr>\n",
       "    <tr>\n",
       "      <th>2</th>\n",
       "      <td>Rated Correspondence game</td>\n",
       "      <td>Mrkvak</td>\n",
       "      <td>?</td>\n",
       "      <td>1-0</td>\n",
       "      <td>2013.04.04</td>\n",
       "      <td>4</td>\n",
       "      <td>4</td>\n",
       "      <td>2013</td>\n",
       "      <td>19:44:52</td>\n",
       "      <td>NaN</td>\n",
       "      <td>NaN</td>\n",
       "      <td>NaN</td>\n",
       "      <td>NaN</td>\n",
       "      <td>NaN</td>\n",
       "      <td>A01</td>\n",
       "      <td>Nimzo-Larsen Attack: Modern Variation #4</td>\n",
       "      <td>NaN</td>\n",
       "      <td>Normal</td>\n",
       "      <td>38</td>\n",
       "    </tr>\n",
       "    <tr>\n",
       "      <th>3</th>\n",
       "      <td>Rated Correspondence game</td>\n",
       "      <td>Unknown Player</td>\n",
       "      <td>CaLiBRe</td>\n",
       "      <td>1-0</td>\n",
       "      <td>2013.04.09</td>\n",
       "      <td>9</td>\n",
       "      <td>4</td>\n",
       "      <td>2013</td>\n",
       "      <td>19:09:36</td>\n",
       "      <td>NaN</td>\n",
       "      <td>NaN</td>\n",
       "      <td>NaN</td>\n",
       "      <td>NaN</td>\n",
       "      <td>NaN</td>\n",
       "      <td>B01</td>\n",
       "      <td>Scandinavian Defense</td>\n",
       "      <td>NaN</td>\n",
       "      <td>Normal</td>\n",
       "      <td>20</td>\n",
       "    </tr>\n",
       "    <tr>\n",
       "      <th>4</th>\n",
       "      <td>Rated Correspondence game</td>\n",
       "      <td>dbalka</td>\n",
       "      <td>Polinusik</td>\n",
       "      <td>1-0</td>\n",
       "      <td>2013.04.11</td>\n",
       "      <td>11</td>\n",
       "      <td>4</td>\n",
       "      <td>2013</td>\n",
       "      <td>19:43:45</td>\n",
       "      <td>1682.0</td>\n",
       "      <td>1122.0</td>\n",
       "      <td>560.0</td>\n",
       "      <td>2.0</td>\n",
       "      <td>-5.0</td>\n",
       "      <td>B02</td>\n",
       "      <td>Alekhine Defense: Mokele Mbembe</td>\n",
       "      <td>NaN</td>\n",
       "      <td>Normal</td>\n",
       "      <td>23</td>\n",
       "    </tr>\n",
       "  </tbody>\n",
       "</table>\n",
       "</div>"
      ],
      "text/plain": [
       "                       event           white      black result     UTCDate  \\\n",
       "0  Rated Correspondence game      felixrbran      wiles    0-1  2013.07.02   \n",
       "1  Rated Correspondence game          singhk   bhangooj    0-1  2013.07.12   \n",
       "2  Rated Correspondence game          Mrkvak          ?    1-0  2013.04.04   \n",
       "3  Rated Correspondence game  Unknown Player    CaLiBRe    1-0  2013.04.09   \n",
       "4  Rated Correspondence game          dbalka  Polinusik    1-0  2013.04.11   \n",
       "\n",
       "   day  month  year   UTCTime  whiteELO  blackELO  RatingDiff  \\\n",
       "0    2      7  2013  21:16:17    1398.0    1767.0       369.0   \n",
       "1   12      7  2013  04:25:22    1538.0    1461.0        77.0   \n",
       "2    4      4  2013  19:44:52       NaN       NaN         NaN   \n",
       "3    9      4  2013  19:09:36       NaN       NaN         NaN   \n",
       "4   11      4  2013  19:43:45    1682.0    1122.0       560.0   \n",
       "\n",
       "   whiteRatingDiff  blackRatingDiff  ECO  \\\n",
       "0             -3.0              3.0  A00   \n",
       "1           -113.0            113.0  A00   \n",
       "2              NaN              NaN  A01   \n",
       "3              NaN              NaN  B01   \n",
       "4              2.0             -5.0  B02   \n",
       "\n",
       "                                    opening timeControl termination  totalMove  \n",
       "0                            Polish Opening         NaN      Normal         25  \n",
       "1                              Grob Opening         NaN      Normal         10  \n",
       "2  Nimzo-Larsen Attack: Modern Variation #4         NaN      Normal         38  \n",
       "3                      Scandinavian Defense         NaN      Normal         20  \n",
       "4           Alekhine Defense: Mokele Mbembe         NaN      Normal         23  "
      ]
     },
     "execution_count": 5,
     "metadata": {},
     "output_type": "execute_result"
    }
   ],
   "source": [
    "df.head()"
   ]
  },
  {
   "cell_type": "code",
   "execution_count": 6,
   "metadata": {
    "colab": {
     "base_uri": "https://localhost:8080/"
    },
    "id": "l9MdiBq-aoRo",
    "outputId": "948bc72b-1f3e-4206-ffa0-886e06fe7fd4"
   },
   "outputs": [
    {
     "data": {
      "text/html": [
       "<div>\n",
       "<style scoped>\n",
       "    .dataframe tbody tr th:only-of-type {\n",
       "        vertical-align: middle;\n",
       "    }\n",
       "\n",
       "    .dataframe tbody tr th {\n",
       "        vertical-align: top;\n",
       "    }\n",
       "\n",
       "    .dataframe thead th {\n",
       "        text-align: right;\n",
       "    }\n",
       "</style>\n",
       "<table border=\"1\" class=\"dataframe\">\n",
       "  <thead>\n",
       "    <tr style=\"text-align: right;\">\n",
       "      <th></th>\n",
       "      <th>day</th>\n",
       "      <th>month</th>\n",
       "      <th>year</th>\n",
       "      <th>whiteELO</th>\n",
       "      <th>blackELO</th>\n",
       "      <th>RatingDiff</th>\n",
       "      <th>whiteRatingDiff</th>\n",
       "      <th>blackRatingDiff</th>\n",
       "      <th>totalMove</th>\n",
       "    </tr>\n",
       "  </thead>\n",
       "  <tbody>\n",
       "    <tr>\n",
       "      <th>count</th>\n",
       "      <td>3386423.000</td>\n",
       "      <td>3386423.000</td>\n",
       "      <td>3386423.000</td>\n",
       "      <td>3380733.000</td>\n",
       "      <td>3380733.000</td>\n",
       "      <td>3380733.000</td>\n",
       "      <td>3380733.000</td>\n",
       "      <td>3380733.000</td>\n",
       "      <td>3386423.000</td>\n",
       "    </tr>\n",
       "    <tr>\n",
       "      <th>mean</th>\n",
       "      <td>16.167</td>\n",
       "      <td>8.182</td>\n",
       "      <td>2013.000</td>\n",
       "      <td>1613.270</td>\n",
       "      <td>1603.674</td>\n",
       "      <td>153.787</td>\n",
       "      <td>0.190</td>\n",
       "      <td>-1.751</td>\n",
       "      <td>33.761</td>\n",
       "    </tr>\n",
       "    <tr>\n",
       "      <th>std</th>\n",
       "      <td>8.836</td>\n",
       "      <td>3.224</td>\n",
       "      <td>0.006</td>\n",
       "      <td>213.715</td>\n",
       "      <td>219.879</td>\n",
       "      <td>132.403</td>\n",
       "      <td>34.322</td>\n",
       "      <td>39.031</td>\n",
       "      <td>16.016</td>\n",
       "    </tr>\n",
       "    <tr>\n",
       "      <th>min</th>\n",
       "      <td>1.000</td>\n",
       "      <td>1.000</td>\n",
       "      <td>2012.000</td>\n",
       "      <td>758.000</td>\n",
       "      <td>735.000</td>\n",
       "      <td>0.000</td>\n",
       "      <td>-620.000</td>\n",
       "      <td>-618.000</td>\n",
       "      <td>0.000</td>\n",
       "    </tr>\n",
       "    <tr>\n",
       "      <th>25%</th>\n",
       "      <td>9.000</td>\n",
       "      <td>6.000</td>\n",
       "      <td>2013.000</td>\n",
       "      <td>1473.000</td>\n",
       "      <td>1462.000</td>\n",
       "      <td>54.000</td>\n",
       "      <td>-10.000</td>\n",
       "      <td>-11.000</td>\n",
       "      <td>23.000</td>\n",
       "    </tr>\n",
       "    <tr>\n",
       "      <th>50%</th>\n",
       "      <td>16.000</td>\n",
       "      <td>9.000</td>\n",
       "      <td>2013.000</td>\n",
       "      <td>1611.000</td>\n",
       "      <td>1599.000</td>\n",
       "      <td>119.000</td>\n",
       "      <td>2.000</td>\n",
       "      <td>-3.000</td>\n",
       "      <td>32.000</td>\n",
       "    </tr>\n",
       "    <tr>\n",
       "      <th>75%</th>\n",
       "      <td>24.000</td>\n",
       "      <td>11.000</td>\n",
       "      <td>2013.000</td>\n",
       "      <td>1753.000</td>\n",
       "      <td>1747.000</td>\n",
       "      <td>216.000</td>\n",
       "      <td>10.000</td>\n",
       "      <td>10.000</td>\n",
       "      <td>43.000</td>\n",
       "    </tr>\n",
       "    <tr>\n",
       "      <th>max</th>\n",
       "      <td>31.000</td>\n",
       "      <td>12.000</td>\n",
       "      <td>2013.000</td>\n",
       "      <td>2581.000</td>\n",
       "      <td>2600.000</td>\n",
       "      <td>1376.000</td>\n",
       "      <td>638.000</td>\n",
       "      <td>649.000</td>\n",
       "      <td>191.000</td>\n",
       "    </tr>\n",
       "  </tbody>\n",
       "</table>\n",
       "</div>"
      ],
      "text/plain": [
       "               day        month         year     whiteELO     blackELO  \\\n",
       "count  3386423.000  3386423.000  3386423.000  3380733.000  3380733.000   \n",
       "mean        16.167        8.182     2013.000     1613.270     1603.674   \n",
       "std          8.836        3.224        0.006      213.715      219.879   \n",
       "min          1.000        1.000     2012.000      758.000      735.000   \n",
       "25%          9.000        6.000     2013.000     1473.000     1462.000   \n",
       "50%         16.000        9.000     2013.000     1611.000     1599.000   \n",
       "75%         24.000       11.000     2013.000     1753.000     1747.000   \n",
       "max         31.000       12.000     2013.000     2581.000     2600.000   \n",
       "\n",
       "        RatingDiff  whiteRatingDiff  blackRatingDiff    totalMove  \n",
       "count  3380733.000      3380733.000      3380733.000  3386423.000  \n",
       "mean       153.787            0.190           -1.751       33.761  \n",
       "std        132.403           34.322           39.031       16.016  \n",
       "min          0.000         -620.000         -618.000        0.000  \n",
       "25%         54.000          -10.000          -11.000       23.000  \n",
       "50%        119.000            2.000           -3.000       32.000  \n",
       "75%        216.000           10.000           10.000       43.000  \n",
       "max       1376.000          638.000          649.000      191.000  "
      ]
     },
     "execution_count": 6,
     "metadata": {},
     "output_type": "execute_result"
    }
   ],
   "source": [
    "round(df.describe(), 3)"
   ]
  },
  {
   "cell_type": "code",
   "execution_count": 7,
   "metadata": {
    "colab": {
     "base_uri": "https://localhost:8080/"
    },
    "id": "i_LBGsFwHPXz",
    "outputId": "42cd3488-0196-446c-f423-c0490b4542e2"
   },
   "outputs": [
    {
     "data": {
      "text/plain": [
       "(array([3.305000e+03, 3.371700e+04, 2.019540e+05, 6.790650e+05,\n",
       "        1.139883e+06, 8.856240e+05, 3.402940e+05, 8.611800e+04,\n",
       "        1.051800e+04, 2.550000e+02]),\n",
       " array([ 758. ,  940.3, 1122.6, 1304.9, 1487.2, 1669.5, 1851.8, 2034.1,\n",
       "        2216.4, 2398.7, 2581. ]),\n",
       " <BarContainer object of 10 artists>)"
      ]
     },
     "execution_count": 7,
     "metadata": {},
     "output_type": "execute_result"
    },
    {
     "data": {
      "image/png": "[encoded data removed]",
      "text/plain": [
       "<Figure size 600x400 with 1 Axes>"
      ]
     },
     "metadata": {
      "needs_background": "light"
     },
     "output_type": "display_data"
    }
   ],
   "source": [
    "plt.figure(dpi = 100)\n",
    "plt.hist(df[\"whiteELO\"])"
   ]
  },
  {
   "cell_type": "code",
   "execution_count": 8,
   "metadata": {
    "colab": {
     "base_uri": "https://localhost:8080/"
    },
    "id": "uh2QV5K3HPiZ",
    "outputId": "ca0444c4-97a5-4b94-95ba-c982525fc8a2"
   },
   "outputs": [
    {
     "data": {
      "text/plain": [
       "(array([3.51600e+03, 3.77500e+04, 2.18497e+05, 6.74524e+05, 1.17493e+06,\n",
       "        8.45662e+05, 3.30081e+05, 8.55040e+04, 1.00240e+04, 2.45000e+02]),\n",
       " array([ 735. ,  921.5, 1108. , 1294.5, 1481. , 1667.5, 1854. , 2040.5,\n",
       "        2227. , 2413.5, 2600. ]),\n",
       " <BarContainer object of 10 artists>)"
      ]
     },
     "execution_count": 8,
     "metadata": {},
     "output_type": "execute_result"
    },
    {
     "data": {
      "image/png": "[encoded data removed]",
      "text/plain": [
       "<Figure size 600x400 with 1 Axes>"
      ]
     },
     "metadata": {
      "needs_background": "light"
     },
     "output_type": "display_data"
    }
   ],
   "source": [
    "plt.figure(dpi = 100)\n",
    "plt.hist(df[\"blackELO\"])"
   ]
  },
  {
   "cell_type": "code",
   "execution_count": 9,
   "metadata": {
    "colab": {
     "base_uri": "https://localhost:8080/"
    },
    "id": "gQD4vy_ha46I",
    "outputId": "db1475c8-24d3-4ed4-f804-942fab190dee"
   },
   "outputs": [
    {
     "data": {
      "text/plain": [
       "<matplotlib.collections.PathCollection at 0x7fb4107742d0>"
      ]
     },
     "execution_count": 9,
     "metadata": {},
     "output_type": "execute_result"
    },
    {
     "data": {
      "image/png": "[encoded data removed]",
      "text/plain": [
       "<Figure size 600x400 with 1 Axes>"
      ]
     },
     "metadata": {
      "needs_background": "light"
     },
     "output_type": "display_data"
    }
   ],
   "source": [
    "plt.figure(dpi = 100)\n",
    "plt.scatter(df[\"whiteELO\"], df[\"blackELO\"], s = 1)"
   ]
  },
  {
   "cell_type": "code",
   "execution_count": 10,
   "metadata": {
    "colab": {
     "base_uri": "https://localhost:8080/"
    },
    "id": "eF-beYYEZ8H4",
    "outputId": "2e9b9aa3-9c98-40d1-e68f-f3cb625c66c6"
   },
   "outputs": [
    {
     "data": {
      "text/plain": [
       "(array([1.888853e+06, 9.534930e+05, 3.618240e+05, 1.247050e+05,\n",
       "        3.821800e+04, 1.073100e+04, 2.290000e+03, 5.410000e+02,\n",
       "        6.800000e+01, 1.000000e+01]),\n",
       " array([   0. ,  137.6,  275.2,  412.8,  550.4,  688. ,  825.6,  963.2,\n",
       "        1100.8, 1238.4, 1376. ]),\n",
       " <BarContainer object of 10 artists>)"
      ]
     },
     "execution_count": 10,
     "metadata": {},
     "output_type": "execute_result"
    },
    {
     "data": {
      "image/png": "[encoded data removed]",
      "text/plain": [
       "<Figure size 600x400 with 1 Axes>"
      ]
     },
     "metadata": {
      "needs_background": "light"
     },
     "output_type": "display_data"
    }
   ],
   "source": [
    "plt.figure(dpi = 100)\n",
    "plt.hist(df[\"RatingDiff\"])"
   ]
  },
  {
   "cell_type": "code",
   "execution_count": 11,
   "metadata": {
    "colab": {
     "base_uri": "https://localhost:8080/"
    },
    "id": "vGPTkTVxHf86",
    "outputId": "409b642b-7f77-4269-dddf-a36ded1de6dd"
   },
   "outputs": [
    {
     "data": {
      "text/plain": [
       "(array([5.999770e+05, 1.651938e+06, 8.541940e+05, 2.383920e+05,\n",
       "        3.582300e+04, 5.001000e+03, 9.240000e+02, 1.510000e+02,\n",
       "        1.900000e+01, 4.000000e+00]),\n",
       " array([  0. ,  19.1,  38.2,  57.3,  76.4,  95.5, 114.6, 133.7, 152.8,\n",
       "        171.9, 191. ]),\n",
       " <BarContainer object of 10 artists>)"
      ]
     },
     "execution_count": 11,
     "metadata": {},
     "output_type": "execute_result"
    },
    {
     "data": {
      "image/png": "[encoded data removed]",
      "text/plain": [
       "<Figure size 600x400 with 1 Axes>"
      ]
     },
     "metadata": {
      "needs_background": "light"
     },
     "output_type": "display_data"
    }
   ],
   "source": [
    "plt.figure(dpi = 100)\n",
    "plt.hist(df[\"totalMove\"])"
   ]
  },
  {
   "cell_type": "markdown",
   "metadata": {
    "id": "O_FuNXf4KNJl"
   },
   "source": [
    "# **Data preparation**"
   ]
  },
  {
   "cell_type": "markdown",
   "metadata": {
    "id": "5ZFEqMv8b-fo"
   },
   "source": [
    "**Handle missing value and transform data to float format**"
   ]
  },
  {
   "cell_type": "code",
   "execution_count": 12,
   "metadata": {
    "colab": {
     "base_uri": "https://localhost:8080/"
    },
    "id": "wPaeg6wT3o9l",
    "outputId": "aee66e6d-7bc5-4d51-f3cf-ef15f23549c9"
   },
   "outputs": [
    {
     "name": "stderr",
     "output_type": "stream",
     "text": [
      "/opt/conda/lib/python3.7/site-packages/pandas/core/series.py:4469: SettingWithCopyWarning: \n",
      "A value is trying to be set on a copy of a slice from a DataFrame\n",
      "\n",
      "See the caveats in the documentation: https://pandas.pydata.org/pandas-docs/stable/user_guide/indexing.html#returning-a-view-versus-a-copy\n",
      "  downcast=downcast,\n",
      "/opt/conda/lib/python3.7/site-packages/ipykernel_launcher.py:14: SettingWithCopyWarning: \n",
      "A value is trying to be set on a copy of a slice from a DataFrame.\n",
      "Try using .loc[row_indexer,col_indexer] = value instead\n",
      "\n",
      "See the caveats in the documentation: https://pandas.pydata.org/pandas-docs/stable/user_guide/indexing.html#returning-a-view-versus-a-copy\n",
      "  \n",
      "/opt/conda/lib/python3.7/site-packages/ipykernel_launcher.py:15: SettingWithCopyWarning: \n",
      "A value is trying to be set on a copy of a slice from a DataFrame.\n",
      "Try using .loc[row_indexer,col_indexer] = value instead\n",
      "\n",
      "See the caveats in the documentation: https://pandas.pydata.org/pandas-docs/stable/user_guide/indexing.html#returning-a-view-versus-a-copy\n",
      "  from ipykernel import kernelapp as app\n",
      "/opt/conda/lib/python3.7/site-packages/ipykernel_launcher.py:16: SettingWithCopyWarning: \n",
      "A value is trying to be set on a copy of a slice from a DataFrame.\n",
      "Try using .loc[row_indexer,col_indexer] = value instead\n",
      "\n",
      "See the caveats in the documentation: https://pandas.pydata.org/pandas-docs/stable/user_guide/indexing.html#returning-a-view-versus-a-copy\n",
      "  app.launch_new_instance()\n",
      "/opt/conda/lib/python3.7/site-packages/sklearn/utils/validation.py:63: DataConversionWarning: A column-vector y was passed when a 1d array was expected. Please change the shape of y to (n_samples, ), for example using ravel().\n",
      "  return f(*args, **kwargs)\n",
      "/opt/conda/lib/python3.7/site-packages/pandas/core/indexing.py:1738: SettingWithCopyWarning: \n",
      "A value is trying to be set on a copy of a slice from a DataFrame.\n",
      "Try using .loc[row_indexer,col_indexer] = value instead\n",
      "\n",
      "See the caveats in the documentation: https://pandas.pydata.org/pandas-docs/stable/user_guide/indexing.html#returning-a-view-versus-a-copy\n",
      "  self._setitem_single_column(loc, value[:, i].tolist(), pi)\n"
     ]
    }
   ],
   "source": [
    "from sklearn.preprocessing import LabelEncoder\n",
    "from sklearn.preprocessing import MinMaxScaler\n",
    "\n",
    "x = df[[\"whiteELO\", \"blackELO\", \"ECO\", \"timeControl\", \"termination\", \"totalMove\"]]\n",
    "y = df[[\"result\"]]\n",
    "\n",
    "# Handle missing value\n",
    "x[\"whiteELO\"].fillna(round(x[\"whiteELO\"].mean(), 0), inplace = True)\n",
    "x[\"blackELO\"].fillna(round(x[\"blackELO\"].mean(), 0), inplace = True)\n",
    "x[\"timeControl\"].fillna(x[\"timeControl\"].mode().iloc[0], inplace = True)\n",
    "\n",
    "# Convert data to float\n",
    "le = LabelEncoder()\n",
    "x[\"ECO\"] = le.fit_transform(x[\"ECO\"])\n",
    "x[\"timeControl\"] = le.fit_transform(x[\"timeControl\"])\n",
    "x[\"termination\"] = le.fit_transform(x[\"termination\"])\n",
    "y = le.fit_transform(y)\n",
    "\n",
    "# Data scaling\n",
    "scaler = MinMaxScaler() # Data Normalization\n",
    "x.iloc[:,:] = scaler.fit_transform(x.iloc[:,:])"
   ]
  },
  {
   "cell_type": "code",
   "execution_count": 13,
   "metadata": {
    "colab": {
     "base_uri": "https://localhost:8080/"
    },
    "id": "qhTR8myRITUD",
    "outputId": "d871d526-ae35-4d0a-ee93-4c6a840c76a4"
   },
   "outputs": [
    {
     "data": {
      "text/html": [
       "<div>\n",
       "<style scoped>\n",
       "    .dataframe tbody tr th:only-of-type {\n",
       "        vertical-align: middle;\n",
       "    }\n",
       "\n",
       "    .dataframe tbody tr th {\n",
       "        vertical-align: top;\n",
       "    }\n",
       "\n",
       "    .dataframe thead th {\n",
       "        text-align: right;\n",
       "    }\n",
       "</style>\n",
       "<table border=\"1\" class=\"dataframe\">\n",
       "  <thead>\n",
       "    <tr style=\"text-align: right;\">\n",
       "      <th></th>\n",
       "      <th>whiteELO</th>\n",
       "      <th>blackELO</th>\n",
       "      <th>ECO</th>\n",
       "      <th>timeControl</th>\n",
       "      <th>termination</th>\n",
       "      <th>totalMove</th>\n",
       "    </tr>\n",
       "  </thead>\n",
       "  <tbody>\n",
       "    <tr>\n",
       "      <th>0</th>\n",
       "      <td>0.351070</td>\n",
       "      <td>0.553351</td>\n",
       "      <td>0.002049</td>\n",
       "      <td>0.724667</td>\n",
       "      <td>0.0</td>\n",
       "      <td>0.130890</td>\n",
       "    </tr>\n",
       "    <tr>\n",
       "      <th>1</th>\n",
       "      <td>0.427866</td>\n",
       "      <td>0.389276</td>\n",
       "      <td>0.002049</td>\n",
       "      <td>0.724667</td>\n",
       "      <td>0.0</td>\n",
       "      <td>0.052356</td>\n",
       "    </tr>\n",
       "    <tr>\n",
       "      <th>2</th>\n",
       "      <td>0.469007</td>\n",
       "      <td>0.465952</td>\n",
       "      <td>0.004098</td>\n",
       "      <td>0.724667</td>\n",
       "      <td>0.0</td>\n",
       "      <td>0.198953</td>\n",
       "    </tr>\n",
       "    <tr>\n",
       "      <th>3</th>\n",
       "      <td>0.469007</td>\n",
       "      <td>0.465952</td>\n",
       "      <td>0.206967</td>\n",
       "      <td>0.724667</td>\n",
       "      <td>0.0</td>\n",
       "      <td>0.104712</td>\n",
       "    </tr>\n",
       "    <tr>\n",
       "      <th>4</th>\n",
       "      <td>0.506857</td>\n",
       "      <td>0.207507</td>\n",
       "      <td>0.209016</td>\n",
       "      <td>0.724667</td>\n",
       "      <td>0.0</td>\n",
       "      <td>0.120419</td>\n",
       "    </tr>\n",
       "    <tr>\n",
       "      <th>...</th>\n",
       "      <td>...</td>\n",
       "      <td>...</td>\n",
       "      <td>...</td>\n",
       "      <td>...</td>\n",
       "      <td>...</td>\n",
       "      <td>...</td>\n",
       "    </tr>\n",
       "    <tr>\n",
       "      <th>3386418</th>\n",
       "      <td>0.512342</td>\n",
       "      <td>0.346917</td>\n",
       "      <td>0.084016</td>\n",
       "      <td>0.013306</td>\n",
       "      <td>1.0</td>\n",
       "      <td>0.099476</td>\n",
       "    </tr>\n",
       "    <tr>\n",
       "      <th>3386419</th>\n",
       "      <td>0.469007</td>\n",
       "      <td>0.473458</td>\n",
       "      <td>0.627049</td>\n",
       "      <td>0.724667</td>\n",
       "      <td>1.0</td>\n",
       "      <td>0.141361</td>\n",
       "    </tr>\n",
       "    <tr>\n",
       "      <th>3386420</th>\n",
       "      <td>0.289632</td>\n",
       "      <td>0.299196</td>\n",
       "      <td>0.522541</td>\n",
       "      <td>0.133060</td>\n",
       "      <td>1.0</td>\n",
       "      <td>0.162304</td>\n",
       "    </tr>\n",
       "    <tr>\n",
       "      <th>3386421</th>\n",
       "      <td>0.487109</td>\n",
       "      <td>0.306166</td>\n",
       "      <td>0.500000</td>\n",
       "      <td>0.724667</td>\n",
       "      <td>1.0</td>\n",
       "      <td>0.115183</td>\n",
       "    </tr>\n",
       "    <tr>\n",
       "      <th>3386422</th>\n",
       "      <td>0.407021</td>\n",
       "      <td>0.313137</td>\n",
       "      <td>0.610656</td>\n",
       "      <td>0.724667</td>\n",
       "      <td>1.0</td>\n",
       "      <td>0.115183</td>\n",
       "    </tr>\n",
       "  </tbody>\n",
       "</table>\n",
       "<p>3386423 rows × 6 columns</p>\n",
       "</div>"
      ],
      "text/plain": [
       "         whiteELO  blackELO       ECO  timeControl  termination  totalMove\n",
       "0        0.351070  0.553351  0.002049     0.724667          0.0   0.130890\n",
       "1        0.427866  0.389276  0.002049     0.724667          0.0   0.052356\n",
       "2        0.469007  0.465952  0.004098     0.724667          0.0   0.198953\n",
       "3        0.469007  0.465952  0.206967     0.724667          0.0   0.104712\n",
       "4        0.506857  0.207507  0.209016     0.724667          0.0   0.120419\n",
       "...           ...       ...       ...          ...          ...        ...\n",
       "3386418  0.512342  0.346917  0.084016     0.013306          1.0   0.099476\n",
       "3386419  0.469007  0.473458  0.627049     0.724667          1.0   0.141361\n",
       "3386420  0.289632  0.299196  0.522541     0.133060          1.0   0.162304\n",
       "3386421  0.487109  0.306166  0.500000     0.724667          1.0   0.115183\n",
       "3386422  0.407021  0.313137  0.610656     0.724667          1.0   0.115183\n",
       "\n",
       "[3386423 rows x 6 columns]"
      ]
     },
     "execution_count": 13,
     "metadata": {},
     "output_type": "execute_result"
    }
   ],
   "source": [
    "x"
   ]
  },
  {
   "cell_type": "code",
   "execution_count": 14,
   "metadata": {
    "colab": {
     "base_uri": "https://localhost:8080/"
    },
    "id": "YzoNzSlZIVpM",
    "outputId": "5926c918-7d4f-4374-bafe-6e48958b30f5"
   },
   "outputs": [
    {
     "data": {
      "text/plain": [
       "array([0, 0, 1, ..., 1, 1, 0])"
      ]
     },
     "execution_count": 14,
     "metadata": {},
     "output_type": "execute_result"
    }
   ],
   "source": [
    "y"
   ]
  },
  {
   "cell_type": "markdown",
   "metadata": {
    "id": "vwoDnj6XKRty"
   },
   "source": [
    "**Descriptive statistics after handle missing value**"
   ]
  },
  {
   "cell_type": "code",
   "execution_count": 15,
   "metadata": {
    "colab": {
     "base_uri": "https://localhost:8080/"
    },
    "id": "ajf977gMaead",
    "outputId": "00ec2074-eeb2-4faf-d443-e69131c20501"
   },
   "outputs": [
    {
     "data": {
      "text/plain": [
       "(array([3.305000e+03, 3.371700e+04, 2.019540e+05, 6.790650e+05,\n",
       "        1.145573e+06, 8.856240e+05, 3.402940e+05, 8.611800e+04,\n",
       "        1.051800e+04, 2.550000e+02]),\n",
       " array([0. , 0.1, 0.2, 0.3, 0.4, 0.5, 0.6, 0.7, 0.8, 0.9, 1. ]),\n",
       " <BarContainer object of 10 artists>)"
      ]
     },
     "execution_count": 15,
     "metadata": {},
     "output_type": "execute_result"
    },
    {
     "data": {
      "image/png": "[encoded data removed]",
      "text/plain": [
       "<Figure size 600x400 with 1 Axes>"
      ]
     },
     "metadata": {
      "needs_background": "light"
     },
     "output_type": "display_data"
    }
   ],
   "source": [
    "plt.figure(dpi = 100)\n",
    "plt.hist(x[\"whiteELO\"])"
   ]
  },
  {
   "cell_type": "code",
   "execution_count": 16,
   "metadata": {
    "colab": {
     "base_uri": "https://localhost:8080/"
    },
    "id": "yI1Owlj1aeSG",
    "outputId": "a1a6804d-1125-489b-f574-7c815940386a"
   },
   "outputs": [
    {
     "data": {
      "text/plain": [
       "(array([3.51600e+03, 3.77500e+04, 2.18497e+05, 6.74524e+05, 1.18062e+06,\n",
       "        8.45662e+05, 3.30081e+05, 8.55040e+04, 1.00240e+04, 2.45000e+02]),\n",
       " array([0. , 0.1, 0.2, 0.3, 0.4, 0.5, 0.6, 0.7, 0.8, 0.9, 1. ]),\n",
       " <BarContainer object of 10 artists>)"
      ]
     },
     "execution_count": 16,
     "metadata": {},
     "output_type": "execute_result"
    },
    {
     "data": {
      "image/png": "[encoded data removed]",
      "text/plain": [
       "<Figure size 600x400 with 1 Axes>"
      ]
     },
     "metadata": {
      "needs_background": "light"
     },
     "output_type": "display_data"
    }
   ],
   "source": [
    "plt.figure(dpi = 100)\n",
    "plt.hist(x[\"blackELO\"])"
   ]
  },
  {
   "cell_type": "code",
   "execution_count": 17,
   "metadata": {
    "colab": {
     "base_uri": "https://localhost:8080/"
    },
    "id": "iSO24jlraiNt",
    "outputId": "dcfbaf6b-f2c2-4e19-f0c6-843d4f8f2b6b"
   },
   "outputs": [
    {
     "name": "stdout",
     "output_type": "stream",
     "text": [
      "Correlation of ELO of both side: 0.56321 \n",
      "\n"
     ]
    },
    {
     "data": {
      "text/plain": [
       "<matplotlib.collections.PathCollection at 0x7fb41059cf50>"
      ]
     },
     "execution_count": 17,
     "metadata": {},
     "output_type": "execute_result"
    },
    {
     "data": {
      "image/png": "[encoded data removed]",
      "text/plain": [
       "<Figure size 600x400 with 1 Axes>"
      ]
     },
     "metadata": {
      "needs_background": "light"
     },
     "output_type": "display_data"
    }
   ],
   "source": [
    "from scipy import stats\n",
    "print(\"Correlation of ELO of both side:\", round(stats.pearsonr(x[\"whiteELO\"], x[\"blackELO\"])[0], 5), \"\\n\")\n",
    "\n",
    "plt.figure(dpi = 100)\n",
    "plt.scatter(df[\"whiteELO\"], df[\"blackELO\"], s = 1)"
   ]
  },
  {
   "cell_type": "code",
   "execution_count": 18,
   "metadata": {
    "colab": {
     "base_uri": "https://localhost:8080/"
    },
    "id": "UsKcnv2yI0PS",
    "outputId": "989d4ed6-9ab2-46c7-b556-2911d22f51c4"
   },
   "outputs": [
    {
     "data": {
      "text/plain": [
       "(array([5.999770e+05, 1.651938e+06, 8.541940e+05, 2.383920e+05,\n",
       "        3.582300e+04, 5.001000e+03, 9.240000e+02, 1.510000e+02,\n",
       "        1.900000e+01, 4.000000e+00]),\n",
       " array([0. , 0.1, 0.2, 0.3, 0.4, 0.5, 0.6, 0.7, 0.8, 0.9, 1. ]),\n",
       " <BarContainer object of 10 artists>)"
      ]
     },
     "execution_count": 18,
     "metadata": {},
     "output_type": "execute_result"
    },
    {
     "data": {
      "image/png": "[encoded data removed]",
      "text/plain": [
       "<Figure size 600x400 with 1 Axes>"
      ]
     },
     "metadata": {
      "needs_background": "light"
     },
     "output_type": "display_data"
    }
   ],
   "source": [
    "plt.figure(dpi = 100)\n",
    "plt.hist(x[\"totalMove\"])"
   ]
  },
  {
   "cell_type": "markdown",
   "metadata": {
    "id": "h2caHzj7Jz7V"
   },
   "source": [
    "# **Data Modelling**"
   ]
  },
  {
   "cell_type": "markdown",
   "metadata": {
    "id": "NbqHXcH4cFlP"
   },
   "source": [
    "**Splitting data**"
   ]
  },
  {
   "cell_type": "code",
   "execution_count": 19,
   "metadata": {
    "id": "l0kNavuUBtvR"
   },
   "outputs": [],
   "source": [
    "import time\n",
    "start_time = time.time()"
   ]
  },
  {
   "cell_type": "code",
   "execution_count": 20,
   "metadata": {
    "id": "XjC8vsCAWPQz"
   },
   "outputs": [],
   "source": [
    "from sklearn.model_selection import train_test_split\n",
    "x_train, x_test, y_train, y_test = train_test_split(x, y, train_size = 0.7)"
   ]
  },
  {
   "cell_type": "markdown",
   "metadata": {
    "id": "1RVy_hncKoL7"
   },
   "source": [
    "**Modelling**"
   ]
  },
  {
   "cell_type": "code",
   "execution_count": 21,
   "metadata": {
    "id": "HLr2jPVa0Kps"
   },
   "outputs": [
    {
     "name": "stdout",
     "output_type": "stream",
     "text": [
      "Requirement already satisfied: catBoost in /opt/conda/lib/python3.7/site-packages (0.25.1)\n",
      "Requirement already satisfied: numpy>=1.16.0 in /opt/conda/lib/python3.7/site-packages (from catBoost) (1.19.5)\n",
      "Requirement already satisfied: plotly in /opt/conda/lib/python3.7/site-packages (from catBoost) (4.14.3)\n",
      "Requirement already satisfied: six in /opt/conda/lib/python3.7/site-packages (from catBoost) (1.16.0)\n",
      "Requirement already satisfied: pandas>=0.24.0 in /opt/conda/lib/python3.7/site-packages (from catBoost) (1.2.4)\n",
      "Requirement already satisfied: graphviz in /opt/conda/lib/python3.7/site-packages (from catBoost) (0.16)\n",
      "Requirement already satisfied: scipy in /opt/conda/lib/python3.7/site-packages (from catBoost) (1.6.3)\n",
      "Requirement already satisfied: matplotlib in /opt/conda/lib/python3.7/site-packages (from catBoost) (3.4.2)\n",
      "Requirement already satisfied: python-dateutil>=2.7.3 in /opt/conda/lib/python3.7/site-packages (from pandas>=0.24.0->catBoost) (2.8.1)\n",
      "Requirement already satisfied: pytz>=2017.3 in /opt/conda/lib/python3.7/site-packages (from pandas>=0.24.0->catBoost) (2021.1)\n",
      "Requirement already satisfied: pyparsing>=2.2.1 in /opt/conda/lib/python3.7/site-packages (from matplotlib->catBoost) (2.4.7)\n",
      "Requirement already satisfied: kiwisolver>=1.0.1 in /opt/conda/lib/python3.7/site-packages (from matplotlib->catBoost) (1.3.1)\n",
      "Requirement already satisfied: pillow>=6.2.0 in /opt/conda/lib/python3.7/site-packages (from matplotlib->catBoost) (8.1.2)\n",
      "Requirement already satisfied: cycler>=0.10 in /opt/conda/lib/python3.7/site-packages (from matplotlib->catBoost) (0.10.0)\n",
      "Requirement already satisfied: retrying>=1.3.3 in /opt/conda/lib/python3.7/site-packages (from plotly->catBoost) (1.3.3)\n",
      "Note: you may need to restart the kernel to use updated packages.\n"
     ]
    }
   ],
   "source": [
    "%pip install catBoost"
   ]
  },
  {
   "cell_type": "code",
   "execution_count": 22,
   "metadata": {
    "id": "muOLWCDUAF29"
   },
   "outputs": [],
   "source": [
    "from sklearn.linear_model import LogisticRegression\n",
    "from sklearn.tree import DecisionTreeClassifier\n",
    "from sklearn.neural_network import MLPClassifier\n",
    "from catboost import CatBoostClassifier\n",
    "from sklearn.model_selection import cross_val_score, RepeatedStratifiedKFold\n",
    "from sklearn.metrics import confusion_matrix\n",
    "from sklearn import metrics\n",
    "\n",
    "scorer = \"accuracy\"\n",
    "k = RepeatedStratifiedKFold(n_splits = 5, n_repeats = 1)"
   ]
  },
  {
   "cell_type": "code",
   "execution_count": 23,
   "metadata": {
    "id": "q8vEBDEY7amg"
   },
   "outputs": [],
   "source": [
    "LR = LogisticRegression(solver = \"lbfgs\", multi_class = \"multinomial\", max_iter = 100)\n",
    "LR_score = cross_val_score(LR, x_train, y_train, cv = k, scoring = scorer)"
   ]
  },
  {
   "cell_type": "code",
   "execution_count": 24,
   "metadata": {
    "id": "QjXj4ujm7dlP"
   },
   "outputs": [],
   "source": [
    "DT = DecisionTreeClassifier(max_depth = 5)\n",
    "DT_score = cross_val_score(DT, x_train, y_train, cv = k, scoring = scorer)"
   ]
  },
  {
   "cell_type": "code",
   "execution_count": 25,
   "metadata": {
    "id": "yif_RBct8XdB"
   },
   "outputs": [],
   "source": [
    "NN = MLPClassifier(solver = \"sgd\", alpha = 1e-5, activation = \"tanh\", hidden_layer_sizes = (50, 20), max_iter = 100)\n",
    "NN_score = cross_val_score(NN, x_train, y_train, cv = k, scoring = scorer)"
   ]
  },
  {
   "cell_type": "code",
   "execution_count": 26,
   "metadata": {
    "colab": {
     "base_uri": "https://localhost:8080/"
    },
    "id": "icyoS57z7gJn",
    "outputId": "e7c25cf8-0181-4bc2-fc33-197609aee9d5"
   },
   "outputs": [
    {
     "name": "stdout",
     "output_type": "stream",
     "text": [
      "0:\tlearn: 1.0448523\ttotal: 636ms\tremaining: 31.2s\n",
      "1:\tlearn: 1.0005389\ttotal: 1.13s\tremaining: 27s\n",
      "2:\tlearn: 0.9629563\ttotal: 1.61s\tremaining: 25.3s\n",
      "3:\tlearn: 0.9307435\ttotal: 2.1s\tremaining: 24.2s\n",
      "4:\tlearn: 0.9034395\ttotal: 2.59s\tremaining: 23.3s\n",
      "5:\tlearn: 0.8794905\ttotal: 3.08s\tremaining: 22.6s\n",
      "6:\tlearn: 0.8592685\ttotal: 3.57s\tremaining: 21.9s\n",
      "7:\tlearn: 0.8416369\ttotal: 4.06s\tremaining: 21.3s\n",
      "8:\tlearn: 0.8257518\ttotal: 4.55s\tremaining: 20.7s\n",
      "9:\tlearn: 0.8117395\ttotal: 5.05s\tremaining: 20.2s\n",
      "10:\tlearn: 0.7992366\ttotal: 5.51s\tremaining: 19.5s\n",
      "11:\tlearn: 0.7880952\ttotal: 6s\tremaining: 19s\n",
      "12:\tlearn: 0.7783091\ttotal: 6.47s\tremaining: 18.4s\n",
      "13:\tlearn: 0.7705016\ttotal: 6.95s\tremaining: 17.9s\n",
      "14:\tlearn: 0.7636277\ttotal: 7.41s\tremaining: 17.3s\n",
      "15:\tlearn: 0.7567477\ttotal: 7.86s\tremaining: 16.7s\n",
      "16:\tlearn: 0.7504773\ttotal: 8.35s\tremaining: 16.2s\n",
      "17:\tlearn: 0.7451971\ttotal: 8.84s\tremaining: 15.7s\n",
      "18:\tlearn: 0.7403510\ttotal: 9.33s\tremaining: 15.2s\n",
      "19:\tlearn: 0.7362743\ttotal: 9.78s\tremaining: 14.7s\n",
      "20:\tlearn: 0.7323147\ttotal: 10.3s\tremaining: 14.2s\n",
      "21:\tlearn: 0.7288595\ttotal: 10.7s\tremaining: 13.6s\n",
      "22:\tlearn: 0.7256313\ttotal: 11.2s\tremaining: 13.1s\n",
      "23:\tlearn: 0.7227105\ttotal: 11.7s\tremaining: 12.6s\n",
      "24:\tlearn: 0.7209117\ttotal: 12.1s\tremaining: 12.1s\n",
      "25:\tlearn: 0.7189671\ttotal: 12.6s\tremaining: 11.6s\n",
      "26:\tlearn: 0.7168310\ttotal: 13s\tremaining: 11.1s\n",
      "27:\tlearn: 0.7148335\ttotal: 13.5s\tremaining: 10.6s\n",
      "28:\tlearn: 0.7127733\ttotal: 14s\tremaining: 10.1s\n",
      "29:\tlearn: 0.7117406\ttotal: 14.4s\tremaining: 9.62s\n",
      "30:\tlearn: 0.7105113\ttotal: 14.9s\tremaining: 9.14s\n",
      "31:\tlearn: 0.7090226\ttotal: 15.4s\tremaining: 8.65s\n",
      "32:\tlearn: 0.7075041\ttotal: 15.9s\tremaining: 8.18s\n",
      "33:\tlearn: 0.7064091\ttotal: 16.4s\tremaining: 7.7s\n",
      "34:\tlearn: 0.7058271\ttotal: 16.8s\tremaining: 7.21s\n",
      "35:\tlearn: 0.7048763\ttotal: 17.3s\tremaining: 6.72s\n",
      "36:\tlearn: 0.7042666\ttotal: 17.8s\tremaining: 6.24s\n",
      "37:\tlearn: 0.7034484\ttotal: 18.2s\tremaining: 5.76s\n",
      "38:\tlearn: 0.7028143\ttotal: 18.7s\tremaining: 5.27s\n",
      "39:\tlearn: 0.7023963\ttotal: 19.2s\tremaining: 4.79s\n",
      "40:\tlearn: 0.7019052\ttotal: 19.6s\tremaining: 4.31s\n",
      "41:\tlearn: 0.7014151\ttotal: 20.1s\tremaining: 3.83s\n",
      "42:\tlearn: 0.7008466\ttotal: 20.6s\tremaining: 3.35s\n",
      "43:\tlearn: 0.7004372\ttotal: 21s\tremaining: 2.87s\n",
      "44:\tlearn: 0.7000287\ttotal: 21.5s\tremaining: 2.39s\n",
      "45:\tlearn: 0.6997573\ttotal: 21.9s\tremaining: 1.91s\n",
      "46:\tlearn: 0.6993409\ttotal: 22.4s\tremaining: 1.43s\n",
      "47:\tlearn: 0.6987658\ttotal: 22.9s\tremaining: 953ms\n",
      "48:\tlearn: 0.6986107\ttotal: 23.4s\tremaining: 477ms\n",
      "49:\tlearn: 0.6984450\ttotal: 23.8s\tremaining: 0us\n",
      "0:\tlearn: 1.0449343\ttotal: 495ms\tremaining: 24.3s\n",
      "1:\tlearn: 1.0005423\ttotal: 986ms\tremaining: 23.7s\n",
      "2:\tlearn: 0.9635908\ttotal: 1.49s\tremaining: 23.3s\n",
      "3:\tlearn: 0.9311933\ttotal: 1.99s\tremaining: 22.9s\n",
      "4:\tlearn: 0.9039937\ttotal: 2.49s\tremaining: 22.4s\n",
      "5:\tlearn: 0.8801125\ttotal: 2.98s\tremaining: 21.9s\n",
      "6:\tlearn: 0.8592888\ttotal: 3.46s\tremaining: 21.3s\n",
      "7:\tlearn: 0.8416066\ttotal: 3.96s\tremaining: 20.8s\n",
      "8:\tlearn: 0.8257147\ttotal: 4.44s\tremaining: 20.2s\n",
      "9:\tlearn: 0.8115733\ttotal: 4.91s\tremaining: 19.6s\n",
      "10:\tlearn: 0.7998669\ttotal: 5.4s\tremaining: 19.1s\n",
      "11:\tlearn: 0.7887370\ttotal: 5.88s\tremaining: 18.6s\n",
      "12:\tlearn: 0.7791582\ttotal: 6.38s\tremaining: 18.2s\n",
      "13:\tlearn: 0.7704827\ttotal: 6.83s\tremaining: 17.6s\n",
      "14:\tlearn: 0.7629451\ttotal: 7.32s\tremaining: 17.1s\n",
      "15:\tlearn: 0.7569179\ttotal: 7.81s\tremaining: 16.6s\n",
      "16:\tlearn: 0.7506483\ttotal: 8.29s\tremaining: 16.1s\n",
      "17:\tlearn: 0.7450816\ttotal: 8.75s\tremaining: 15.6s\n",
      "18:\tlearn: 0.7404961\ttotal: 9.23s\tremaining: 15.1s\n",
      "19:\tlearn: 0.7360674\ttotal: 9.72s\tremaining: 14.6s\n",
      "20:\tlearn: 0.7324769\ttotal: 10.2s\tremaining: 14s\n",
      "21:\tlearn: 0.7289537\ttotal: 10.6s\tremaining: 13.5s\n",
      "22:\tlearn: 0.7257122\ttotal: 11.1s\tremaining: 13.1s\n",
      "23:\tlearn: 0.7228677\ttotal: 11.6s\tremaining: 12.6s\n",
      "24:\tlearn: 0.7210776\ttotal: 12.1s\tremaining: 12.1s\n",
      "25:\tlearn: 0.7188688\ttotal: 12.6s\tremaining: 11.6s\n",
      "26:\tlearn: 0.7170581\ttotal: 13s\tremaining: 11.1s\n",
      "27:\tlearn: 0.7150741\ttotal: 13.5s\tremaining: 10.6s\n",
      "28:\tlearn: 0.7132615\ttotal: 14s\tremaining: 10.1s\n",
      "29:\tlearn: 0.7120058\ttotal: 14.4s\tremaining: 9.61s\n",
      "30:\tlearn: 0.7106363\ttotal: 14.9s\tremaining: 9.12s\n",
      "31:\tlearn: 0.7097706\ttotal: 15.4s\tremaining: 8.64s\n",
      "32:\tlearn: 0.7082511\ttotal: 15.8s\tremaining: 8.15s\n",
      "33:\tlearn: 0.7070873\ttotal: 16.3s\tremaining: 7.68s\n",
      "34:\tlearn: 0.7065644\ttotal: 16.8s\tremaining: 7.2s\n",
      "35:\tlearn: 0.7058251\ttotal: 17.3s\tremaining: 6.71s\n",
      "36:\tlearn: 0.7052413\ttotal: 17.7s\tremaining: 6.23s\n",
      "37:\tlearn: 0.7044513\ttotal: 18.2s\tremaining: 5.75s\n",
      "38:\tlearn: 0.7040087\ttotal: 18.7s\tremaining: 5.28s\n",
      "39:\tlearn: 0.7030512\ttotal: 19.2s\tremaining: 4.79s\n",
      "40:\tlearn: 0.7023877\ttotal: 19.6s\tremaining: 4.31s\n",
      "41:\tlearn: 0.7017408\ttotal: 20.1s\tremaining: 3.83s\n",
      "42:\tlearn: 0.7009675\ttotal: 20.6s\tremaining: 3.35s\n",
      "43:\tlearn: 0.7007435\ttotal: 21.1s\tremaining: 2.87s\n",
      "44:\tlearn: 0.7002442\ttotal: 21.5s\tremaining: 2.39s\n",
      "45:\tlearn: 0.7000148\ttotal: 22s\tremaining: 1.91s\n",
      "46:\tlearn: 0.6998372\ttotal: 22.5s\tremaining: 1.44s\n",
      "47:\tlearn: 0.6994717\ttotal: 22.9s\tremaining: 956ms\n",
      "48:\tlearn: 0.6989108\ttotal: 23.4s\tremaining: 478ms\n",
      "49:\tlearn: 0.6987539\ttotal: 23.9s\tremaining: 0us\n",
      "0:\tlearn: 1.0449368\ttotal: 480ms\tremaining: 23.5s\n",
      "1:\tlearn: 1.0005959\ttotal: 972ms\tremaining: 23.3s\n",
      "2:\tlearn: 0.9632453\ttotal: 1.46s\tremaining: 22.9s\n",
      "3:\tlearn: 0.9312370\ttotal: 1.96s\tremaining: 22.5s\n",
      "4:\tlearn: 0.9039708\ttotal: 2.45s\tremaining: 22s\n",
      "5:\tlearn: 0.8800218\ttotal: 2.94s\tremaining: 21.6s\n",
      "6:\tlearn: 0.8592639\ttotal: 3.44s\tremaining: 21.1s\n",
      "7:\tlearn: 0.8417794\ttotal: 3.93s\tremaining: 20.6s\n",
      "8:\tlearn: 0.8264756\ttotal: 4.42s\tremaining: 20.1s\n",
      "9:\tlearn: 0.8123259\ttotal: 4.92s\tremaining: 19.7s\n",
      "10:\tlearn: 0.7999215\ttotal: 5.41s\tremaining: 19.2s\n",
      "11:\tlearn: 0.7897269\ttotal: 5.92s\tremaining: 18.7s\n",
      "12:\tlearn: 0.7799940\ttotal: 6.49s\tremaining: 18.5s\n",
      "13:\tlearn: 0.7712498\ttotal: 6.96s\tremaining: 17.9s\n",
      "14:\tlearn: 0.7633831\ttotal: 7.43s\tremaining: 17.3s\n",
      "15:\tlearn: 0.7566469\ttotal: 7.92s\tremaining: 16.8s\n",
      "16:\tlearn: 0.7504327\ttotal: 8.39s\tremaining: 16.3s\n",
      "17:\tlearn: 0.7449232\ttotal: 8.86s\tremaining: 15.7s\n",
      "18:\tlearn: 0.7403385\ttotal: 9.33s\tremaining: 15.2s\n",
      "19:\tlearn: 0.7359698\ttotal: 9.82s\tremaining: 14.7s\n",
      "20:\tlearn: 0.7329219\ttotal: 10.3s\tremaining: 14.2s\n",
      "21:\tlearn: 0.7295160\ttotal: 10.7s\tremaining: 13.7s\n",
      "22:\tlearn: 0.7262703\ttotal: 11.2s\tremaining: 13.2s\n",
      "23:\tlearn: 0.7239017\ttotal: 11.7s\tremaining: 12.7s\n",
      "24:\tlearn: 0.7212307\ttotal: 12.2s\tremaining: 12.2s\n",
      "25:\tlearn: 0.7185859\ttotal: 12.7s\tremaining: 11.7s\n",
      "26:\tlearn: 0.7165678\ttotal: 13.1s\tremaining: 11.2s\n",
      "27:\tlearn: 0.7153185\ttotal: 13.6s\tremaining: 10.7s\n",
      "28:\tlearn: 0.7135740\ttotal: 14s\tremaining: 10.2s\n",
      "29:\tlearn: 0.7120107\ttotal: 14.5s\tremaining: 9.68s\n",
      "30:\tlearn: 0.7109900\ttotal: 15s\tremaining: 9.18s\n",
      "31:\tlearn: 0.7096049\ttotal: 15.4s\tremaining: 8.69s\n",
      "32:\tlearn: 0.7083289\ttotal: 15.9s\tremaining: 8.2s\n",
      "33:\tlearn: 0.7071533\ttotal: 16.4s\tremaining: 7.72s\n",
      "34:\tlearn: 0.7066412\ttotal: 16.9s\tremaining: 7.22s\n",
      "35:\tlearn: 0.7060113\ttotal: 17.3s\tremaining: 6.74s\n",
      "36:\tlearn: 0.7048528\ttotal: 17.8s\tremaining: 6.25s\n",
      "37:\tlearn: 0.7041205\ttotal: 18.3s\tremaining: 5.77s\n",
      "38:\tlearn: 0.7037165\ttotal: 18.7s\tremaining: 5.29s\n",
      "39:\tlearn: 0.7028561\ttotal: 19.2s\tremaining: 4.81s\n",
      "40:\tlearn: 0.7022221\ttotal: 19.7s\tremaining: 4.32s\n",
      "41:\tlearn: 0.7019228\ttotal: 20.1s\tremaining: 3.84s\n",
      "42:\tlearn: 0.7014137\ttotal: 20.6s\tremaining: 3.36s\n",
      "43:\tlearn: 0.7009930\ttotal: 21.1s\tremaining: 2.88s\n",
      "44:\tlearn: 0.7006224\ttotal: 21.5s\tremaining: 2.39s\n",
      "45:\tlearn: 0.7001178\ttotal: 22s\tremaining: 1.91s\n",
      "46:\tlearn: 0.6996644\ttotal: 22.5s\tremaining: 1.44s\n",
      "47:\tlearn: 0.6993340\ttotal: 23s\tremaining: 957ms\n",
      "48:\tlearn: 0.6991815\ttotal: 23.5s\tremaining: 479ms\n",
      "49:\tlearn: 0.6990234\ttotal: 23.9s\tremaining: 0us\n",
      "0:\tlearn: 1.0449103\ttotal: 494ms\tremaining: 24.2s\n",
      "1:\tlearn: 1.0005272\ttotal: 990ms\tremaining: 23.7s\n",
      "2:\tlearn: 0.9635015\ttotal: 1.49s\tremaining: 23.3s\n",
      "3:\tlearn: 0.9318295\ttotal: 1.98s\tremaining: 22.8s\n",
      "4:\tlearn: 0.9040683\ttotal: 2.48s\tremaining: 22.3s\n",
      "5:\tlearn: 0.8800144\ttotal: 2.98s\tremaining: 21.8s\n",
      "6:\tlearn: 0.8592716\ttotal: 3.48s\tremaining: 21.4s\n",
      "7:\tlearn: 0.8418295\ttotal: 3.97s\tremaining: 20.8s\n",
      "8:\tlearn: 0.8257497\ttotal: 4.43s\tremaining: 20.2s\n",
      "9:\tlearn: 0.8117217\ttotal: 4.93s\tremaining: 19.7s\n",
      "10:\tlearn: 0.7994930\ttotal: 5.42s\tremaining: 19.2s\n",
      "11:\tlearn: 0.7892581\ttotal: 5.92s\tremaining: 18.7s\n",
      "12:\tlearn: 0.7793442\ttotal: 6.38s\tremaining: 18.1s\n",
      "13:\tlearn: 0.7705417\ttotal: 6.88s\tremaining: 17.7s\n",
      "14:\tlearn: 0.7629100\ttotal: 7.36s\tremaining: 17.2s\n",
      "15:\tlearn: 0.7568618\ttotal: 7.84s\tremaining: 16.7s\n",
      "16:\tlearn: 0.7509089\ttotal: 8.32s\tremaining: 16.2s\n",
      "17:\tlearn: 0.7453954\ttotal: 8.81s\tremaining: 15.7s\n",
      "18:\tlearn: 0.7405244\ttotal: 9.27s\tremaining: 15.1s\n",
      "19:\tlearn: 0.7362409\ttotal: 9.76s\tremaining: 14.6s\n",
      "20:\tlearn: 0.7326060\ttotal: 10.2s\tremaining: 14.1s\n",
      "21:\tlearn: 0.7290593\ttotal: 10.7s\tremaining: 13.6s\n",
      "22:\tlearn: 0.7267032\ttotal: 11.2s\tremaining: 13.1s\n",
      "23:\tlearn: 0.7237134\ttotal: 11.6s\tremaining: 12.6s\n",
      "24:\tlearn: 0.7213635\ttotal: 12.1s\tremaining: 12.1s\n",
      "25:\tlearn: 0.7190406\ttotal: 12.5s\tremaining: 11.6s\n",
      "26:\tlearn: 0.7175949\ttotal: 13s\tremaining: 11.1s\n",
      "27:\tlearn: 0.7158639\ttotal: 13.4s\tremaining: 10.6s\n",
      "28:\tlearn: 0.7139720\ttotal: 13.9s\tremaining: 10.1s\n",
      "29:\tlearn: 0.7119674\ttotal: 14.4s\tremaining: 9.6s\n",
      "30:\tlearn: 0.7110256\ttotal: 14.9s\tremaining: 9.11s\n",
      "31:\tlearn: 0.7097247\ttotal: 15.3s\tremaining: 8.63s\n",
      "32:\tlearn: 0.7084220\ttotal: 15.8s\tremaining: 8.13s\n",
      "33:\tlearn: 0.7069951\ttotal: 16.3s\tremaining: 7.67s\n",
      "34:\tlearn: 0.7059997\ttotal: 16.8s\tremaining: 7.19s\n",
      "35:\tlearn: 0.7054172\ttotal: 17.2s\tremaining: 6.71s\n",
      "36:\tlearn: 0.7049413\ttotal: 17.7s\tremaining: 6.22s\n",
      "37:\tlearn: 0.7044724\ttotal: 18.1s\tremaining: 5.73s\n",
      "38:\tlearn: 0.7036077\ttotal: 18.6s\tremaining: 5.25s\n",
      "39:\tlearn: 0.7028759\ttotal: 19.1s\tremaining: 4.78s\n",
      "40:\tlearn: 0.7022052\ttotal: 19.6s\tremaining: 4.3s\n",
      "41:\tlearn: 0.7018898\ttotal: 20.1s\tremaining: 3.82s\n",
      "42:\tlearn: 0.7013152\ttotal: 20.6s\tremaining: 3.35s\n",
      "43:\tlearn: 0.7007791\ttotal: 21s\tremaining: 2.87s\n",
      "44:\tlearn: 0.7005760\ttotal: 21.5s\tremaining: 2.39s\n",
      "45:\tlearn: 0.7001705\ttotal: 21.9s\tremaining: 1.91s\n",
      "46:\tlearn: 0.6997339\ttotal: 22.4s\tremaining: 1.43s\n",
      "47:\tlearn: 0.6993811\ttotal: 22.9s\tremaining: 954ms\n",
      "48:\tlearn: 0.6990829\ttotal: 23.4s\tremaining: 477ms\n",
      "49:\tlearn: 0.6987033\ttotal: 23.8s\tremaining: 0us\n",
      "0:\tlearn: 1.0449167\ttotal: 491ms\tremaining: 24.1s\n",
      "1:\tlearn: 1.0005504\ttotal: 988ms\tremaining: 23.7s\n",
      "2:\tlearn: 0.9630054\ttotal: 1.48s\tremaining: 23.2s\n",
      "3:\tlearn: 0.9312429\ttotal: 1.98s\tremaining: 22.8s\n",
      "4:\tlearn: 0.9035408\ttotal: 2.47s\tremaining: 22.2s\n",
      "5:\tlearn: 0.8801919\ttotal: 2.97s\tremaining: 21.8s\n",
      "6:\tlearn: 0.8600911\ttotal: 3.47s\tremaining: 21.3s\n",
      "7:\tlearn: 0.8417550\ttotal: 3.94s\tremaining: 20.7s\n",
      "8:\tlearn: 0.8257782\ttotal: 4.43s\tremaining: 20.2s\n",
      "9:\tlearn: 0.8116658\ttotal: 4.89s\tremaining: 19.6s\n",
      "10:\tlearn: 0.7991303\ttotal: 5.37s\tremaining: 19s\n",
      "11:\tlearn: 0.7882904\ttotal: 5.86s\tremaining: 18.6s\n",
      "12:\tlearn: 0.7784912\ttotal: 6.35s\tremaining: 18.1s\n",
      "13:\tlearn: 0.7706833\ttotal: 6.82s\tremaining: 17.5s\n",
      "14:\tlearn: 0.7630836\ttotal: 7.3s\tremaining: 17s\n",
      "15:\tlearn: 0.7561551\ttotal: 7.78s\tremaining: 16.5s\n",
      "16:\tlearn: 0.7509528\ttotal: 8.27s\tremaining: 16s\n",
      "17:\tlearn: 0.7453675\ttotal: 8.75s\tremaining: 15.6s\n",
      "18:\tlearn: 0.7407601\ttotal: 9.22s\tremaining: 15s\n",
      "19:\tlearn: 0.7362882\ttotal: 9.71s\tremaining: 14.6s\n",
      "20:\tlearn: 0.7324211\ttotal: 10.2s\tremaining: 14s\n",
      "21:\tlearn: 0.7288019\ttotal: 10.7s\tremaining: 13.6s\n",
      "22:\tlearn: 0.7264757\ttotal: 11.1s\tremaining: 13.1s\n",
      "23:\tlearn: 0.7238580\ttotal: 11.6s\tremaining: 12.6s\n",
      "24:\tlearn: 0.7212645\ttotal: 12.1s\tremaining: 12.1s\n",
      "25:\tlearn: 0.7188584\ttotal: 12.5s\tremaining: 11.6s\n",
      "26:\tlearn: 0.7164514\ttotal: 13s\tremaining: 11.1s\n",
      "27:\tlearn: 0.7150053\ttotal: 13.5s\tremaining: 10.6s\n",
      "28:\tlearn: 0.7132495\ttotal: 13.9s\tremaining: 10.1s\n",
      "29:\tlearn: 0.7114064\ttotal: 14.4s\tremaining: 9.6s\n",
      "30:\tlearn: 0.7105373\ttotal: 14.9s\tremaining: 9.13s\n",
      "31:\tlearn: 0.7096589\ttotal: 15.4s\tremaining: 8.64s\n",
      "32:\tlearn: 0.7085938\ttotal: 15.8s\tremaining: 8.15s\n",
      "33:\tlearn: 0.7072854\ttotal: 16.3s\tremaining: 7.67s\n",
      "34:\tlearn: 0.7062361\ttotal: 16.8s\tremaining: 7.19s\n",
      "35:\tlearn: 0.7056506\ttotal: 17.3s\tremaining: 6.71s\n",
      "36:\tlearn: 0.7048766\ttotal: 17.7s\tremaining: 6.22s\n",
      "37:\tlearn: 0.7040895\ttotal: 18.2s\tremaining: 5.74s\n",
      "38:\tlearn: 0.7032850\ttotal: 18.7s\tremaining: 5.26s\n",
      "39:\tlearn: 0.7025725\ttotal: 19.1s\tremaining: 4.79s\n",
      "40:\tlearn: 0.7022096\ttotal: 19.6s\tremaining: 4.31s\n",
      "41:\tlearn: 0.7017464\ttotal: 20.1s\tremaining: 3.83s\n",
      "42:\tlearn: 0.7011716\ttotal: 20.6s\tremaining: 3.35s\n",
      "43:\tlearn: 0.7009514\ttotal: 21s\tremaining: 2.86s\n",
      "44:\tlearn: 0.7006921\ttotal: 21.5s\tremaining: 2.38s\n",
      "45:\tlearn: 0.7003046\ttotal: 21.9s\tremaining: 1.91s\n",
      "46:\tlearn: 0.6998825\ttotal: 22.4s\tremaining: 1.43s\n",
      "47:\tlearn: 0.6993570\ttotal: 22.9s\tremaining: 953ms\n",
      "48:\tlearn: 0.6989897\ttotal: 23.4s\tremaining: 477ms\n",
      "49:\tlearn: 0.6986796\ttotal: 23.8s\tremaining: 0us\n"
     ]
    }
   ],
   "source": [
    "CB = CatBoostClassifier(iterations = 50,\n",
    "                        learning_rate = 0.1,\n",
    "                        random_strength = 0.1,\n",
    "                        depth = 5,\n",
    "                        loss_function = \"MultiClass\",\n",
    "                        leaf_estimation_method = \"Newton\")\n",
    "CB_score = cross_val_score(CB, x_train, y_train, cv = k, scoring = scorer)"
   ]
  },
  {
   "cell_type": "markdown",
   "metadata": {
    "id": "eFWAW_bLKqYU"
   },
   "source": [
    "**Comparison of models score**"
   ]
  },
  {
   "cell_type": "code",
   "execution_count": 27,
   "metadata": {
    "colab": {
     "base_uri": "https://localhost:8080/"
    },
    "id": "q1HSbAB3od09",
    "outputId": "db823953-486f-47f2-8384-701e16acd287"
   },
   "outputs": [
    {
     "name": "stdout",
     "output_type": "stream",
     "text": [
      "Comparison of model efficiency base on F1 score\n",
      "\n",
      "LR  : [0.64003 0.64105 0.64086 0.64096 0.64048]\n",
      "DT  : [0.62811 0.62691 0.62779 0.62805 0.62811]\n",
      "NN  : [0.64061 0.63992 0.64199 0.64132 0.64004]\n",
      "CB  : [0.6411  0.64183 0.64228 0.64216 0.64212]\n",
      "\n",
      "\n",
      "Logistic Regression score       : 0.64068  ( 64.06777 % ) standard deviation:  0.04 %\n",
      "Decision Tree score             : 0.62779  ( 62.77927 % ) standard deviation:  0.05 %\n",
      "Multi-layer Perceptron score    : 0.64078  ( 64.07756 % ) standard deviation:  0.08 %\n",
      "CatBoost score                  : 0.6419  ( 64.18986 % ) standard deviation:  0.04 %\n"
     ]
    }
   ],
   "source": [
    "print(\"Comparison of model efficiency base on F1 score\\n\")\n",
    "print(\"LR  :\", np.around(LR_score, 5))\n",
    "print(\"DT  :\", np.around(DT_score, 5))\n",
    "print(\"NN  :\", np.around(NN_score, 5))\n",
    "print(\"CB  :\", np.around(CB_score, 5))\n",
    "print(\"\\n\")\n",
    "print(\"Logistic Regression score       :\", round(np.mean(LR_score), 5) , \" (\", round(np.mean(LR_score) * 100, 5), \"% ) standard deviation: \", round(np.std(LR_score) * 100, 2), \"%\")\n",
    "print(\"Decision Tree score             :\", round(np.mean(DT_score), 5) , \" (\", round(np.mean(DT_score) * 100, 5), \"% ) standard deviation: \", round(np.std(DT_score) * 100, 2), \"%\")\n",
    "print(\"Multi-layer Perceptron score    :\", round(np.mean(NN_score), 5) , \" (\", round(np.mean(NN_score) * 100, 5), \"% ) standard deviation: \", round(np.std(NN_score) * 100, 2), \"%\")\n",
    "print(\"CatBoost score                  :\", round(np.mean(CB_score), 5) , \" (\", round(np.mean(CB_score) * 100, 5), \"% ) standard deviation: \", round(np.std(CB_score) * 100, 2), \"%\")"
   ]
  },
  {
   "cell_type": "markdown",
   "metadata": {
    "id": "VMyTMqU7e2ms"
   },
   "source": [
    "**Finale Evaluation**"
   ]
  },
  {
   "cell_type": "code",
   "execution_count": 28,
   "metadata": {
    "colab": {
     "base_uri": "https://localhost:8080/"
    },
    "id": "1Ry9qPn7Wi3G",
    "outputId": "2dd970d8-2538-4d74-d2f7-f9813fc453bf"
   },
   "outputs": [
    {
     "name": "stdout",
     "output_type": "stream",
     "text": [
      "0:\tlearn: 1.0448645\ttotal: 742ms\tremaining: 36.3s\n",
      "1:\tlearn: 1.0004143\ttotal: 1.34s\tremaining: 32.2s\n",
      "2:\tlearn: 0.9629618\ttotal: 1.96s\tremaining: 30.7s\n",
      "3:\tlearn: 0.9313393\ttotal: 2.58s\tremaining: 29.7s\n",
      "4:\tlearn: 0.9036007\ttotal: 3.22s\tremaining: 28.9s\n",
      "5:\tlearn: 0.8797241\ttotal: 3.84s\tremaining: 28.1s\n",
      "6:\tlearn: 0.8593599\ttotal: 4.43s\tremaining: 27.2s\n",
      "7:\tlearn: 0.8417015\ttotal: 5.04s\tremaining: 26.5s\n",
      "8:\tlearn: 0.8258015\ttotal: 5.65s\tremaining: 25.7s\n",
      "9:\tlearn: 0.8125236\ttotal: 6.26s\tremaining: 25.1s\n",
      "10:\tlearn: 0.7999251\ttotal: 6.87s\tremaining: 24.3s\n",
      "11:\tlearn: 0.7889175\ttotal: 7.44s\tremaining: 23.6s\n",
      "12:\tlearn: 0.7790650\ttotal: 8.05s\tremaining: 22.9s\n",
      "13:\tlearn: 0.7705486\ttotal: 8.66s\tremaining: 22.3s\n",
      "14:\tlearn: 0.7629561\ttotal: 9.26s\tremaining: 21.6s\n",
      "15:\tlearn: 0.7560533\ttotal: 9.85s\tremaining: 20.9s\n",
      "16:\tlearn: 0.7499418\ttotal: 10.5s\tremaining: 20.3s\n",
      "17:\tlearn: 0.7447605\ttotal: 11s\tremaining: 19.6s\n",
      "18:\tlearn: 0.7398951\ttotal: 11.6s\tremaining: 18.9s\n",
      "19:\tlearn: 0.7355872\ttotal: 12.2s\tremaining: 18.3s\n",
      "20:\tlearn: 0.7318650\ttotal: 12.8s\tremaining: 17.7s\n",
      "21:\tlearn: 0.7283138\ttotal: 13.4s\tremaining: 17.1s\n",
      "22:\tlearn: 0.7259512\ttotal: 14s\tremaining: 16.4s\n",
      "23:\tlearn: 0.7235374\ttotal: 14.6s\tremaining: 15.8s\n",
      "24:\tlearn: 0.7209046\ttotal: 15.2s\tremaining: 15.2s\n",
      "25:\tlearn: 0.7185475\ttotal: 15.8s\tremaining: 14.6s\n",
      "26:\tlearn: 0.7171440\ttotal: 16.4s\tremaining: 13.9s\n",
      "27:\tlearn: 0.7154522\ttotal: 17s\tremaining: 13.3s\n",
      "28:\tlearn: 0.7133065\ttotal: 17.6s\tremaining: 12.7s\n",
      "29:\tlearn: 0.7116710\ttotal: 18.1s\tremaining: 12.1s\n",
      "30:\tlearn: 0.7099738\ttotal: 18.7s\tremaining: 11.5s\n",
      "31:\tlearn: 0.7091063\ttotal: 19.3s\tremaining: 10.8s\n",
      "32:\tlearn: 0.7080567\ttotal: 19.8s\tremaining: 10.2s\n",
      "33:\tlearn: 0.7073186\ttotal: 20.4s\tremaining: 9.62s\n",
      "34:\tlearn: 0.7065858\ttotal: 21s\tremaining: 9.01s\n",
      "35:\tlearn: 0.7055482\ttotal: 21.6s\tremaining: 8.4s\n",
      "36:\tlearn: 0.7044723\ttotal: 22.2s\tremaining: 7.79s\n",
      "37:\tlearn: 0.7040005\ttotal: 22.8s\tremaining: 7.19s\n",
      "38:\tlearn: 0.7030357\ttotal: 23.3s\tremaining: 6.58s\n",
      "39:\tlearn: 0.7023111\ttotal: 24s\tremaining: 5.99s\n",
      "40:\tlearn: 0.7020251\ttotal: 24.6s\tremaining: 5.39s\n",
      "41:\tlearn: 0.7017328\ttotal: 25.1s\tremaining: 4.79s\n",
      "42:\tlearn: 0.7013524\ttotal: 25.8s\tremaining: 4.2s\n",
      "43:\tlearn: 0.7007612\ttotal: 26.4s\tremaining: 3.6s\n",
      "44:\tlearn: 0.7005287\ttotal: 27s\tremaining: 3s\n",
      "45:\tlearn: 0.7001837\ttotal: 27.6s\tremaining: 2.4s\n",
      "46:\tlearn: 0.6997969\ttotal: 28.2s\tremaining: 1.8s\n",
      "47:\tlearn: 0.6994826\ttotal: 28.7s\tremaining: 1.2s\n",
      "48:\tlearn: 0.6990593\ttotal: 29.3s\tremaining: 598ms\n",
      "49:\tlearn: 0.6989199\ttotal: 29.9s\tremaining: 0us\n"
     ]
    }
   ],
   "source": [
    "# Fitting model with training set\n",
    "LR.fit(x_train, y_train)\n",
    "DT.fit(x_train, y_train)\n",
    "NN.fit(x_train, y_train)\n",
    "CB.fit(x_train, y_train)\n",
    "\n",
    "# Predict with testing set\n",
    "LR_y_pred = LR.predict(x_test)\n",
    "DT_y_pred = DT.predict(x_test)\n",
    "NN_y_pred = NN.predict(x_test)\n",
    "CB_y_pred = CB.predict(x_test)"
   ]
  },
  {
   "cell_type": "code",
   "execution_count": 29,
   "metadata": {
    "colab": {
     "base_uri": "https://localhost:8080/",
     "height": 1000
    },
    "id": "LIRg0F1cDc_I",
    "outputId": "22fac161-5dc7-4a91-e1ad-dbbf8f91678c"
   },
   "outputs": [
    {
     "data": {
      "text/plain": [
       "<sklearn.metrics._plot.confusion_matrix.ConfusionMatrixDisplay at 0x7fb3e2f60fd0>"
      ]
     },
     "execution_count": 29,
     "metadata": {},
     "output_type": "execute_result"
    },
    {
     "data": {
      "image/png": "[encoded data removed]",
      "text/plain": [
       "<Figure size 432x288 with 2 Axes>"
      ]
     },
     "metadata": {
      "needs_background": "light"
     },
     "output_type": "display_data"
    },
    {
     "data": {
      "image/png": "[encoded data removed]",
      "text/plain": [
       "<Figure size 432x288 with 2 Axes>"
      ]
     },
     "metadata": {
      "needs_background": "light"
     },
     "output_type": "display_data"
    },
    {
     "data": {
      "image/png": "[encoded data removed]",
      "text/plain": [
       "<Figure size 432x288 with 2 Axes>"
      ]
     },
     "metadata": {
      "needs_background": "light"
     },
     "output_type": "display_data"
    },
    {
     "data": {
      "image/png": "[encoded data removed]",
      "text/plain": [
       "<Figure size 432x288 with 2 Axes>"
      ]
     },
     "metadata": {
      "needs_background": "light"
     },
     "output_type": "display_data"
    }
   ],
   "source": [
    "from sklearn.metrics import plot_confusion_matrix\n",
    "\n",
    "classes = [\"1-0\", \"0-1\", \"1/2-1/2\"]\n",
    "plot_confusion_matrix(LR, x_test, y_test, display_labels = classes, cmap = plt.cm.Blues, values_format = \".0f\")\n",
    "plot_confusion_matrix(DT, x_test, y_test, display_labels = classes, cmap = plt.cm.Blues, values_format = \".0f\")\n",
    "plot_confusion_matrix(NN, x_test, y_test, display_labels = classes, cmap = plt.cm.Blues, values_format = \".0f\")\n",
    "plot_confusion_matrix(CB, x_test, y_test, display_labels = classes, cmap = plt.cm.Blues, values_format = \".0f\")"
   ]
  },
  {
   "cell_type": "code",
   "execution_count": 30,
   "metadata": {
    "colab": {
     "base_uri": "https://localhost:8080/"
    },
    "id": "9DGoD3ObE-FQ",
    "outputId": "b7de81bc-a277-4c9f-de38-59f241f02f08"
   },
   "outputs": [
    {
     "name": "stdout",
     "output_type": "stream",
     "text": [
      "Accuracy for Logistic Regression     : 64.03236 %\n",
      "Accuracy for Decision Tree           : 62.79024 %\n",
      "Accuracy for Multi-layer Perceptron  : 64.01267 %\n",
      "Accuracy for Catboost Classifier     : 64.13866 %\n",
      "\n",
      "\n",
      "F1-Score for Logistic Regression     : 63.26306 %\n",
      "F1-Score for Decision Tree           : 61.54713 %\n",
      "F1-Score for Multi-layer Perceptron  : 62.98089 %\n",
      "F1-Score for Catboost Classifier     : 62.97517 %\n"
     ]
    }
   ],
   "source": [
    "from sklearn.metrics import accuracy_score, f1_score\n",
    "\n",
    "print(\"Accuracy for Logistic Regression     :\", round(accuracy_score(y_test, LR_y_pred) * 100, 5), \"%\")\n",
    "print(\"Accuracy for Decision Tree           :\", round(accuracy_score(y_test, DT_y_pred) * 100, 5), \"%\")\n",
    "print(\"Accuracy for Multi-layer Perceptron  :\", round(accuracy_score(y_test, NN_y_pred) * 100, 5), \"%\")\n",
    "print(\"Accuracy for Catboost Classifier     :\", round(accuracy_score(y_test, CB_y_pred) * 100, 5), \"%\")\n",
    "print(\"\\n\")\n",
    "print(\"F1-Score for Logistic Regression     :\", round(f1_score(y_test, LR_y_pred, average = \"weighted\") * 100, 5), \"%\")\n",
    "print(\"F1-Score for Decision Tree           :\", round(f1_score(y_test, DT_y_pred, average = \"weighted\") * 100, 5), \"%\")\n",
    "print(\"F1-Score for Multi-layer Perceptron  :\", round(f1_score(y_test, NN_y_pred, average = \"weighted\") * 100, 5), \"%\")\n",
    "print(\"F1-Score for Catboost Classifier     :\", round(f1_score(y_test, CB_y_pred, average = \"weighted\") * 100, 5), \"%\")"
   ]
  },
  {
   "cell_type": "code",
   "execution_count": 31,
   "metadata": {
    "colab": {
     "base_uri": "https://localhost:8080/"
    },
    "id": "7m1wDpcsFMHQ",
    "outputId": "23aa93a5-42b9-4b7d-a74d-1bd44ef4bbb4"
   },
   "outputs": [
    {
     "name": "stdout",
     "output_type": "stream",
     "text": [
      "Data model running time: 36 minutes 14 seconds\n"
     ]
    }
   ],
   "source": [
    "times = round((time.time() - start_time)/60, 2)\n",
    "minutes = int(times)\n",
    "seconds = int(round((float(times) - minutes) * 0.6, 2) * 100)\n",
    "print(\"Data model running time: {} minutes {} seconds\".format(minutes, seconds))"
   ]
  }
 ],
 "metadata": {
  "colab": {
   "collapsed_sections": [
    "oRcFO8ylNDRx",
    "O_FuNXf4KNJl"
   ],
   "name": "lichess_pred.ipynb",
   "provenance": []
  },
  "environment": {
   "name": "common-cpu.m69",
   "type": "gcloud",
   "uri": "gcr.io/deeplearning-platform-release/base-cpu:m69"
  },
  "kernelspec": {
   "display_name": "Python 3",
   "language": "python",
   "name": "python3"
  },
  "language_info": {
   "codemirror_mode": {
    "name": "ipython",
    "version": 3
   },
   "file_extension": ".py",
   "mimetype": "text/x-python",
   "name": "python",
   "nbconvert_exporter": "python",
   "pygments_lexer": "ipython3",
   "version": "3.7.10"
  }
 },
 "nbformat": 4,
 "nbformat_minor": 4
}
