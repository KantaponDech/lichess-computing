{
  "nbformat": 4,
  "nbformat_minor": 0,
  "metadata": {
    "colab": {
      "name": "lichess_pred.ipynb",
      "provenance": [],
      "collapsed_sections": []
    },
    "kernelspec": {
      "display_name": "Python 3",
      "name": "python3"
    },
    "language_info": {
      "name": "python"
    }
  },
  "cells": [
    {
      "cell_type": "markdown",
      "metadata": {
        "id": "oRcFO8ylNDRx"
      },
      "source": [
        "# **Prepare Data**"
      ]
    },
    {
      "cell_type": "code",
      "metadata": {
        "id": "yHet2s80Tt0V"
      },
      "source": [
        "import pandas as pd\n",
        "import numpy as np\n",
        "import matplotlib.pyplot as plt\n",
        "from sklearn.model_selection import train_test_split"
      ],
      "execution_count": 3,
      "outputs": []
    },
    {
      "cell_type": "code",
      "metadata": {
        "id": "UpD2TYHsZNqK"
      },
      "source": [
        "df = pd.read_csv(\"/content/drive/MyDrive/lichess.csv\", delimiter = \",\", encoding = \"utf-8\")"
      ],
      "execution_count": 4,
      "outputs": []
    },
    {
      "cell_type": "markdown",
      "metadata": {
        "id": "tYJhBn90Nrrw"
      },
      "source": [
        "Descriptive statistics"
      ]
    },
    {
      "cell_type": "code",
      "metadata": {
        "id": "cX6iChoGBeBb"
      },
      "source": [
        "df.info()"
      ],
      "execution_count": null,
      "outputs": []
    },
    {
      "cell_type": "code",
      "metadata": {
        "id": "1OnlxqkgBjNk"
      },
      "source": [
        "df.nunique()"
      ],
      "execution_count": null,
      "outputs": []
    },
    {
      "cell_type": "code",
      "metadata": {
        "id": "NUATHc_YZuNn"
      },
      "source": [
        "df.head()"
      ],
      "execution_count": null,
      "outputs": []
    },
    {
      "cell_type": "code",
      "metadata": {
        "id": "l9MdiBq-aoRo"
      },
      "source": [
        "round(df.describe(), 3)"
      ],
      "execution_count": null,
      "outputs": []
    },
    {
      "cell_type": "code",
      "metadata": {
        "id": "i_LBGsFwHPXz"
      },
      "source": [
        "plt.figure(dpi = 100)\n",
        "plt.hist(df[\"whiteELO\"])"
      ],
      "execution_count": null,
      "outputs": []
    },
    {
      "cell_type": "code",
      "metadata": {
        "id": "uh2QV5K3HPiZ"
      },
      "source": [
        "plt.figure(dpi = 100)\n",
        "plt.hist(df[\"blackELO\"])"
      ],
      "execution_count": null,
      "outputs": []
    },
    {
      "cell_type": "code",
      "metadata": {
        "id": "gQD4vy_ha46I"
      },
      "source": [
        "plt.figure(dpi = 100)\n",
        "plt.scatter(df[\"whiteELO\"], df[\"blackELO\"], s = 1)"
      ],
      "execution_count": null,
      "outputs": []
    },
    {
      "cell_type": "code",
      "metadata": {
        "id": "eF-beYYEZ8H4"
      },
      "source": [
        "plt.figure(dpi = 100)\n",
        "plt.hist(df[\"RatingDiff\"])"
      ],
      "execution_count": null,
      "outputs": []
    },
    {
      "cell_type": "code",
      "metadata": {
        "id": "vGPTkTVxHf86"
      },
      "source": [
        "plt.figure(dpi = 100)\n",
        "plt.hist(df[\"totalMove\"])"
      ],
      "execution_count": null,
      "outputs": []
    },
    {
      "cell_type": "markdown",
      "metadata": {
        "id": "O_FuNXf4KNJl"
      },
      "source": [
        "Handle Missing Value and Split Data"
      ]
    },
    {
      "cell_type": "code",
      "metadata": {
        "id": "wPaeg6wT3o9l"
      },
      "source": [
        "from sklearn.preprocessing import LabelEncoder\n",
        "\n",
        "x = df.iloc[:,np.r_[9:15,16:19]]\n",
        "y = df.iloc[:,3]\n",
        "\n",
        "# Handle missing value\n",
        "x[\"whiteELO\"].fillna(round(x[\"whiteELO\"].mean(), 0), inplace = True)\n",
        "x[\"blackELO\"].fillna(round(x[\"blackELO\"].mean(), 0), inplace = True)\n",
        "x[\"RatingDiff\"].fillna(round(x[\"RatingDiff\"].median(), 0), inplace = True)\n",
        "x[\"whiteRatingDiff\"].fillna(round(x[\"whiteRatingDiff\"].mean(), 0), inplace = True)\n",
        "x[\"blackRatingDiff\"].fillna(round(x[\"blackRatingDiff\"].mean(), 0), inplace = True)\n",
        "x[\"timeControl\"].fillna(x[\"timeControl\"].mode().iloc[0], inplace = True)\n",
        "\n",
        "le = LabelEncoder()\n",
        "x = le.fit_transform(x)\n",
        "y = le.fit_transform(y)"
      ],
      "execution_count": null,
      "outputs": []
    },
    {
      "cell_type": "markdown",
      "metadata": {
        "id": "vwoDnj6XKRty"
      },
      "source": [
        "Descriptive statistics after handle missing value"
      ]
    },
    {
      "cell_type": "code",
      "metadata": {
        "id": "i5zYIe4VImmN"
      },
      "source": [
        "plt.figure(dpi = 100)\n",
        "plt.hist(x[\"whiteELO\"])"
      ],
      "execution_count": null,
      "outputs": []
    },
    {
      "cell_type": "code",
      "metadata": {
        "id": "u6oHFU_tIvaO"
      },
      "source": [
        "plt.figure(dpi = 100)\n",
        "plt.hist(x[\"blackELO\"])"
      ],
      "execution_count": null,
      "outputs": []
    },
    {
      "cell_type": "code",
      "metadata": {
        "id": "8FpECwTNIws6"
      },
      "source": [
        "from scipy.stats import pearsonr\n",
        "\n",
        "corr = pearsonr(x[\"whiteELO\"], x[\"blackELO\"])\n",
        "print(\"Correlation of ELO Rating of both side: \", corr[0], \"\\n\")\n",
        "\n",
        "plt.figure(dpi = 100)\n",
        "plt.scatter(x[\"whiteELO\"], x[\"blackELO\"], s = 1)"
      ],
      "execution_count": null,
      "outputs": []
    },
    {
      "cell_type": "code",
      "metadata": {
        "id": "Zhu2zNREIywM"
      },
      "source": [
        "plt.figure(dpi = 100)\n",
        "plt.hist(x[\"RatingDiff\"])"
      ],
      "execution_count": null,
      "outputs": []
    },
    {
      "cell_type": "code",
      "metadata": {
        "id": "UsKcnv2yI0PS"
      },
      "source": [
        "plt.figure(dpi = 100)\n",
        "plt.hist(x[\"totalMove\"])"
      ],
      "execution_count": null,
      "outputs": []
    },
    {
      "cell_type": "markdown",
      "metadata": {
        "id": "h2caHzj7Jz7V"
      },
      "source": [
        "# **Data Modelling**"
      ]
    },
    {
      "cell_type": "markdown",
      "metadata": {
        "id": "1RVy_hncKoL7"
      },
      "source": [
        "Modelling"
      ]
    },
    {
      "cell_type": "code",
      "metadata": {
        "id": "muOLWCDUAF29"
      },
      "source": [
        "from sklearn.linear_model import LogisticRegression\n",
        "from sklearn.tree import DecisionTreeClassifier\n",
        "from sklearn.neural_network import MLPClassifier\n",
        "from catboost import Pool, CatBoostClassifier\n",
        "from sklearn.metrics import plot_confusion_matrix\n",
        "from catboost.utils import get_confusion_matrix\n",
        "from sklearn.model_selection import cross_val_score\n",
        "from sklearn.model_selection import KFold\n",
        "from sklearn import metrics\n",
        "\n",
        "class_names = [\"0-1\",\"1-0\",\"1/2-1/2\"]\n",
        "scorer = metrics.make_scorer(metrics.f1_score, average = \"weighted\")\n",
        "k = RepeatedStratifiedKFold(n_splits = 10, n_repeats = 10, random_state = 7848654)\n",
        "\n",
        "LR = LogisticRegression(random_state = 1234, solver = \"lbfgs\", multi_class = \"multinomial\", max_iter = 100)\n",
        "LR_score = cross_val_score(LR, x, y, cv = k, scoring = scorer)\n",
        "\n",
        "DT = DecisionTreeClassifier()\n",
        "DT_score = cross_val_score(DT, x, y, cv = k, scoring = scorer)\n",
        "\n",
        "NN = MLPClassifier(solver = \"lbfgs\", alpha = 1e-5, hidden_layer_sizes = (100, 30), random_state = 1234)\n",
        "NN_score = cross_val_score(DT, x, y, cv = k, scoring = scorer)\n",
        "\n",
        "catBoost = CatBoostClassifier(\n",
        "    iterations = 50,\n",
        "    learning_rate = 0.1,\n",
        "    random_strength = 0.1,\n",
        "    depth = 8,\n",
        "    loss_function = \"MultiClass\",\n",
        "    eval_metric = \"Accuracy\",\n",
        "    leaf_estimation_method = \"Newton\"\n",
        ")\n",
        "CB_score = cross_val_score(catBoost, x, y, cv = k, scoring = scorer)"
      ],
      "execution_count": 20,
      "outputs": []
    },
    {
      "cell_type": "markdown",
      "metadata": {
        "id": "eFWAW_bLKqYU"
      },
      "source": [
        "Comparison of models score"
      ]
    },
    {
      "cell_type": "code",
      "metadata": {
        "id": "q1HSbAB3od09"
      },
      "source": [
        "print(\"Comparison of model efficiency base on Accuracy score\")\n",
        "print(\"Logistic Regression score  : \", LR_score , \" (\", round(LR_score * 100, 2), \"% )\")\n",
        "print(\"Decision Tree score        : \", LR_score , \" (\", round(DT_score * 100, 2), \"% )\")\n",
        "print(\"Neural Network score       : \", NN_score , \" (\", round(NN_score * 100, 2), \"% )\")\n",
        "print(\"CatBoost score             : \", CB_score , \" (\", round(CB_score * 100, 2), \"% )\")"
      ],
      "execution_count": null,
      "outputs": []
    }
  ]
}